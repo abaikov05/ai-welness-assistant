{
 "cells": [
  {
   "cell_type": "markdown",
   "metadata": {},
   "source": [
    "#### Project size estimation"
   ]
  },
  {
   "cell_type": "code",
   "execution_count": 1,
   "metadata": {},
   "outputs": [],
   "source": [
    "import re\n",
    "\n",
    "def remove_comments_and_empty_lines_PY(code):\n",
    "    # Remove single-line comments\n",
    "    code = re.sub(r'#.*', '', code)\n",
    "    # Remove multi-line comments\n",
    "    code = re.sub(r'\\'\\'\\'(.*?)\\'\\'\\'|\\\"\\\"\\\"(.*?)\\\"\\\"\\\"', '', code, flags=re.DOTALL)\n",
    "    # Remove empty lines\n",
    "    code = re.sub(r'\\n\\s*\\n', '\\n', code)\n",
    "    # Strip leading/trailing whitespace from each line\n",
    "    code = '\\n'.join(line.strip() for line in code.splitlines() if line.strip())\n",
    "    return code\n",
    "def remove_comments_and_empty_lines_JS(code):\n",
    "    # Remove single-line comments\n",
    "    code = re.sub(r'//.*', '', code)\n",
    "    # Remove multi-line comments\n",
    "    code = re.sub(r'/\\*.*?\\*/', '', code, flags=re.DOTALL)\n",
    "    # Remove empty lines\n",
    "    code = re.sub(r'\\n\\s*\\n', '\\n', code)\n",
    "    # Strip leading/trailing whitespace from each line\n",
    "    code = '\\n'.join(line.strip() for line in code.splitlines() if line.strip())\n",
    "    return code\n",
    "def count_pure_code_lines(code, lang):\n",
    "    if lang == 'py':\n",
    "        return len(remove_comments_and_empty_lines_PY(code).splitlines())\n",
    "    if lang == 'js':\n",
    "        return len(remove_comments_and_empty_lines_JS(code).splitlines())"
   ]
  },
  {
   "cell_type": "code",
   "execution_count": 2,
   "metadata": {},
   "outputs": [
    {
     "name": "stdout",
     "output_type": "stream",
     "text": [
      "py: 1826\n",
      "js: 793\n",
      "total: 2619\n"
     ]
    }
   ],
   "source": [
    "code_files = [\n",
    "    'web/app/admin.py',\n",
    "    'web/app/apps.py',\n",
    "    'web/app/utils.py',\n",
    "    'web/app/consumers.py',\n",
    "    'web/app/forms.py',\n",
    "    'web/app/models.py',\n",
    "    'web/app/routing.py',\n",
    "    'web/app/urls.py',\n",
    "    'web/app/views.py',\n",
    "    'web/app/assistant/emotional_journal.py',\n",
    "    'web/app/assistant/helpers.py',\n",
    "    'web/app/assistant/moderation.py',\n",
    "    'web/app/assistant/responder.py',\n",
    "    'web/app/assistant/settings.py',\n",
    "    'web/app/assistant/tools.py',\n",
    "    'web/app/assistant/recommender.py',\n",
    "    'web/app/assistant/user_profile.py',\n",
    "    'web/app/assistant/Tools/tools_functions.py'\n",
    "    ]\n",
    "\n",
    "js_code_files = [\n",
    "    'web/app/static/app/js/chat.js',\n",
    "    'web/app/static/app/js/base.js',\n",
    "    'web/app/static/app/js/balance.js'\n",
    "]\n",
    "code_lines = 0\n",
    "for code_file in code_files:\n",
    "    with open(code_file, 'r', encoding='utf-8') as file:\n",
    "        code_lines += count_pure_code_lines(file.read(), 'py')\n",
    "\n",
    "code_lines_js = 0\n",
    "for code_file in js_code_files:\n",
    "    with open(code_file, 'r', encoding='utf-8') as file:\n",
    "        code_lines_js += count_pure_code_lines(file.read(), 'js')\n",
    "    \n",
    "print(f\"py: {code_lines}\\njs: {code_lines_js}\\ntotal: {code_lines + code_lines_js}\")"
   ]
  },
  {
   "cell_type": "markdown",
   "metadata": {},
   "source": [
    "#### Recommendations utils"
   ]
  },
  {
   "cell_type": "code",
   "execution_count": 1,
   "metadata": {},
   "outputs": [],
   "source": [
    "from web.app.assistant.recommender import *\n",
    "from dotenv import load_dotenv\n",
    "import os, openai, textwrap\n",
    "\n",
    "load_dotenv()\n",
    "openai.api_key = os.getenv(\"OPENAI_KEY\")\n",
    "\n",
    "recommender = Recommender(\n",
    "    gpt_model=\"gpt-4o-mini\",\n",
    "    recommendations_tree_path=\"web/app/assistant/Recommendations/recomendation_tree.json\",\n",
    "    recommendations_path=\"web/app/assistant/Recommendations/recommendations.txt\"\n",
    "    )"
   ]
  },
  {
   "cell_type": "code",
   "execution_count": null,
   "metadata": {},
   "outputs": [
    {
     "name": "stdout",
     "output_type": "stream",
     "text": [
      "Incorporate a daily self-care routine that includes regular\n",
      "handwashing, oral hygiene, and skin care practices to promote both\n",
      "physical health and mental well-being. Consider mindful rituals, such\n",
      "as using essential oils or calming music during your routines, to\n",
      "enhance relaxation and self-connection. \n",
      "Prompt tokens:81\n",
      "Completion tokens:55\n"
     ]
    }
   ],
   "source": [
    "# Generate recommendation\n",
    "new_rec, usage = await recommender.generate_recommendation('about hygeene')\n",
    "print(textwrap.fill(new_rec, width=70), f\"\\nPrompt tokens:{usage.prompt_tokens}\\nCompletion tokens:{usage.completion_tokens}\")"
   ]
  },
  {
   "cell_type": "code",
   "execution_count": null,
   "metadata": {},
   "outputs": [
    {
     "name": "stdout",
     "output_type": "stream",
     "text": [
      "Sport: 2; Nutrition: 3; Sleep: 0\n",
      "Stress: 0; Mental Health: 2; Social: 0\n",
      "Self-Care: 8; Motivation: 0; Resilience: 0\n",
      "Body: 2; Mindfulness: 3; Positive Thinking: 4\n",
      "Prompt tokens:305\n",
      "Completion tokens:23\n"
     ]
    }
   ],
   "source": [
    "# Generate vector to it\n",
    "categories = [\n",
    "    \"Sport\", \"Nutrition\",\"Sleep\", \n",
    "    \"Stress\", \"Mental Health\", \"Social\", \n",
    "    \"Self-Care\", \"Motivation\", \"Resilience\", \n",
    "    \"Body\", \"Mindfulness\", \"Positive Thinking\"\n",
    "]\n",
    "\n",
    "vector, usage = await recommender.generate_categories_v(categories, new_rec)\n",
    "for i,categ in enumerate(list(zip(categories, vector))):\n",
    "    if (i+1)%3!=0: print(f\"{categ[0]}: {categ[1]}\",end='; ')\n",
    "    else: print(f\"{categ[0]}: {categ[1]}\")\n",
    "print(f\"Prompt tokens:{usage.prompt_tokens}\\nCompletion tokens:{usage.completion_tokens}\")"
   ]
  },
  {
   "cell_type": "code",
   "execution_count": null,
   "metadata": {},
   "outputs": [],
   "source": [
    "# Save it to file\n",
    "recommender.save_recomendation(vector, new_rec)"
   ]
  },
  {
   "cell_type": "code",
   "execution_count": null,
   "metadata": {},
   "outputs": [
    {
     "name": "stdout",
     "output_type": "stream",
     "text": [
      "0:  v: [0, 0, 0, 8, 7, 0, 0, 0, 0, 0, 0, 0] i:0\n",
      "1:  v: [0, 0, 0, 7, 0, 0, 0, 0, 0, 8, 9, 7] i:4\n",
      "2:  v: [0, 0, 0, 8, 7, 0, 0, 0, 0, 0, 10, 9] i:5\n",
      "3:  v: [0, 0, 0, 0, 8, 0, 0, 9, 0, 0, 0, 0] i:6\n",
      "4:  v: [0, 0, 0, 0, 0, 0, 6, 5, 0, 10, 10, 8] i:7\n",
      "5:  v: [0, 0, 0, 0, 0, 0, 8, 6, 0, 9, 9, 8] i:8 <----- median\n",
      "6:  v: [0, 3, 0, 0, 5, 0, 8, 0, 0, 3, 6, 4] i:9\n",
      "7:  v: [2, 1, 0, 5, 0, 0, 2, 0, 0, 2, 4, 3] i:2\n",
      "8:  v: [3, 2, 0, 1, 0, 0, 2, 2, 2, 3, 4, 5] i:3\n",
      "9:  v: [6, 3, 0, 4, 5, 0, 0, 0, 0, 0, 2, 4] i:1\n",
      "Depth:  0 \n",
      " __________\n",
      "0:  v: [0, 0, 0, 8, 7, 0, 0, 0, 0, 0, 0, 0] i:0\n",
      "1:  v: [0, 0, 0, 7, 0, 0, 0, 0, 0, 8, 9, 7] i:4\n",
      "2:  v: [0, 0, 0, 8, 7, 0, 0, 0, 0, 0, 10, 9] i:5 <----- median\n",
      "3:  v: [0, 0, 0, 0, 8, 0, 0, 9, 0, 0, 0, 0] i:6\n",
      "4:  v: [0, 0, 0, 0, 0, 0, 6, 5, 0, 10, 10, 8] i:7\n",
      "Depth:  1 \n",
      " __________\n",
      "0:  v: [0, 0, 0, 8, 7, 0, 0, 0, 0, 0, 0, 0] i:0\n",
      "1:  v: [0, 0, 0, 7, 0, 0, 0, 0, 0, 8, 9, 7] i:4 <----- median\n",
      "Depth:  2 \n",
      " __________\n",
      "0:  v: [0, 0, 0, 8, 7, 0, 0, 0, 0, 0, 0, 0] i:0 <----- median\n",
      "Depth:  3 \n",
      " __________\n",
      "0:  v: [0, 0, 0, 0, 8, 0, 0, 9, 0, 0, 0, 0] i:6\n",
      "1:  v: [0, 0, 0, 0, 0, 0, 6, 5, 0, 10, 10, 8] i:7 <----- median\n",
      "Depth:  2 \n",
      " __________\n",
      "0:  v: [0, 0, 0, 0, 8, 0, 0, 9, 0, 0, 0, 0] i:6 <----- median\n",
      "Depth:  3 \n",
      " __________\n",
      "0:  v: [2, 1, 0, 5, 0, 0, 2, 0, 0, 2, 4, 3] i:2\n",
      "1:  v: [3, 2, 0, 1, 0, 0, 2, 2, 2, 3, 4, 5] i:3\n",
      "2:  v: [0, 3, 0, 0, 5, 0, 8, 0, 0, 3, 6, 4] i:9 <----- median\n",
      "3:  v: [6, 3, 0, 4, 5, 0, 0, 0, 0, 0, 2, 4] i:1\n",
      "Depth:  1 \n",
      " __________\n",
      "0:  v: [2, 1, 0, 5, 0, 0, 2, 0, 0, 2, 4, 3] i:2\n",
      "1:  v: [3, 2, 0, 1, 0, 0, 2, 2, 2, 3, 4, 5] i:3 <----- median\n",
      "Depth:  2 \n",
      " __________\n",
      "0:  v: [2, 1, 0, 5, 0, 0, 2, 0, 0, 2, 4, 3] i:2 <----- median\n",
      "Depth:  3 \n",
      " __________\n",
      "0:  v: [6, 3, 0, 4, 5, 0, 0, 0, 0, 0, 2, 4] i:1 <----- median\n",
      "Depth:  2 \n",
      " __________\n"
     ]
    }
   ],
   "source": [
    "# Build save and tree\n",
    "recommender.build_and_save_rec_tree()"
   ]
  }
 ],
 "metadata": {
  "kernelspec": {
   "display_name": ".venv",
   "language": "python",
   "name": "python3"
  },
  "language_info": {
   "codemirror_mode": {
    "name": "ipython",
    "version": 3
   },
   "file_extension": ".py",
   "mimetype": "text/x-python",
   "name": "python",
   "nbconvert_exporter": "python",
   "pygments_lexer": "ipython3",
   "version": "3.11.4"
  }
 },
 "nbformat": 4,
 "nbformat_minor": 2
}
