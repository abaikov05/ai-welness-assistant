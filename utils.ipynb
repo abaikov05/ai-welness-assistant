{
 "cells": [
  {
   "cell_type": "markdown",
   "metadata": {},
   "source": [
    "#### Project size estimation"
   ]
  },
  {
   "cell_type": "code",
   "execution_count": 8,
   "metadata": {},
   "outputs": [],
   "source": [
    "import re\n",
    "\n",
    "def remove_comments_and_empty_lines_PY(code):\n",
    "    # Remove single-line comments\n",
    "    code = re.sub(r'#.*', '', code)\n",
    "    # Remove multi-line comments\n",
    "    code = re.sub(r'\\'\\'\\'(.*?)\\'\\'\\'|\\\"\\\"\\\"(.*?)\\\"\\\"\\\"', '', code, flags=re.DOTALL)\n",
    "    # Remove empty lines\n",
    "    code = re.sub(r'\\n\\s*\\n', '\\n', code)\n",
    "    # Strip leading/trailing whitespace from each line\n",
    "    code = '\\n'.join(line.strip() for line in code.splitlines() if line.strip())\n",
    "    return code\n",
    "def remove_comments_and_empty_lines_JS(code):\n",
    "    # Remove single-line comments\n",
    "    code = re.sub(r'//.*', '', code)\n",
    "    # Remove multi-line comments\n",
    "    code = re.sub(r'/\\*.*?\\*/', '', code, flags=re.DOTALL)\n",
    "    # Remove empty lines\n",
    "    code = re.sub(r'\\n\\s*\\n', '\\n', code)\n",
    "    # Strip leading/trailing whitespace from each line\n",
    "    code = '\\n'.join(line.strip() for line in code.splitlines() if line.strip())\n",
    "    return code\n",
    "def count_pure_code_lines(code, lang):\n",
    "    if lang == 'py':\n",
    "        return len(remove_comments_and_empty_lines_PY(code).splitlines())\n",
    "    if lang == 'js':\n",
    "        return len(remove_comments_and_empty_lines_JS(code).splitlines())"
   ]
  },
  {
   "cell_type": "code",
   "execution_count": 16,
   "metadata": {},
   "outputs": [
    {
     "name": "stdout",
     "output_type": "stream",
     "text": [
      "py: 1264\n",
      "js: 586\n",
      "total: 1850\n"
     ]
    }
   ],
   "source": [
    "code_files = [\n",
    "    'web/app/admin.py',\n",
    "    'web/app/apps.py',\n",
    "    'web/app/consumers.py',\n",
    "    'web/app/forms.py',\n",
    "    'web/app/models.py',\n",
    "    'web/app/routing.py',\n",
    "    'web/app/urls.py',\n",
    "    'web/app/views.py',\n",
    "    'web/app/assistant/emotional_journal.py',\n",
    "    'web/app/assistant/helpers.py',\n",
    "    'web/app/assistant/moderation.py',\n",
    "    'web/app/assistant/responder.py',\n",
    "    'web/app/assistant/settings.py',\n",
    "    'web/app/assistant/tools.py',\n",
    "    'web/app/assistant/user_profile.py',\n",
    "    'web/app/assistant/Tools/tools_functions.py'\n",
    "    ]\n",
    "\n",
    "code_lines = 0\n",
    "for code_file in code_files:\n",
    "    with open(code_file, 'r') as file:\n",
    "        code_lines += count_pure_code_lines(file.read(), 'py')\n",
    "\n",
    "code_lines_js = 0   \n",
    "with open('web/app/templates/app/chat.html', 'r') as file:\n",
    "    code_lines_js += count_pure_code_lines(file.read(), 'js') - 247\n",
    "    \n",
    "print(f\"py: {code_lines}\\njs: {code_lines_js}\\ntotal: {code_lines + code_lines_js}\")"
   ]
  },
  {
   "cell_type": "markdown",
   "metadata": {},
   "source": [
    "#### Recommendations utils"
   ]
  },
  {
   "cell_type": "code",
   "execution_count": 13,
   "metadata": {},
   "outputs": [],
   "source": [
    "from web.app.assistant.recommender import *\n",
    "from dotenv import load_dotenv\n",
    "import os, openai, textwrap\n",
    "\n",
    "load_dotenv()\n",
    "openai.api_key = os.getenv(\"OPENAI_KEY\")\n",
    "\n",
    "recommender = Recommender(\n",
    "    gpt_model=\"gpt-4o-mini\",\n",
    "    recommendations_tree_path=\"web/app/assistant/Recommendations/recomendation_tree.pkl\",\n",
    "    recommendations_path=\"web/app/assistant/Recommendations/recommendations.txt\"\n",
    "    )"
   ]
  },
  {
   "cell_type": "code",
   "execution_count": null,
   "metadata": {},
   "outputs": [],
   "source": [
    "categories = [\n",
    "    \"Sport\", \"Nutrition\",\"Sleep\", \n",
    "    \"Stress\", \"Mental Health\", \"Social\", \n",
    "    \"Self-Care\", \"Motivation\", \"Resilience\", \n",
    "    \"Body\", \"Mindfulness\", \"Positive Thinking\"\n",
    "]\n",
    "new_rec, usage = await recommender.generate_recommendation(categories)\n",
    "print(textwrap.fill(new_rec, width=50), usage)"
   ]
  },
  {
   "cell_type": "code",
   "execution_count": null,
   "metadata": {},
   "outputs": [
    {
     "name": "stdout",
     "output_type": "stream",
     "text": [
      "Incorporate a daily routine of moderate exercise,\n",
      "balanced nutrition, and mindfulness practices to\n",
      "enhance your overall well-being.\n",
      "Sport: 7\n",
      "Nutrition: 8\n",
      "Sleep: 0\n",
      "Stress: 0\n",
      "Mental Health: 0\n",
      "Social: 0\n",
      "Self-Care: 0\n",
      "Motivation: 0\n",
      "Resilience: 0\n",
      "Body: 0\n",
      "Mindfulness: 8\n",
      "Positive Thinking: 6\n"
     ]
    }
   ],
   "source": [
    "vector, usage = await recommender.generate_categories_v(categories, new_rec)\n",
    "for i in list(zip(categories, vector)):\n",
    "    print(f\"{i[0]}: {i[1]}\")\n",
    "print(usage)"
   ]
  },
  {
   "cell_type": "code",
   "execution_count": null,
   "metadata": {},
   "outputs": [],
   "source": [
    "recommender.save_recomendation(new_rec, vector)"
   ]
  },
  {
   "cell_type": "code",
   "execution_count": 4,
   "metadata": {},
   "outputs": [
    {
     "name": "stdout",
     "output_type": "stream",
     "text": [
      "Median: v: [1, 2, 3] i:1\n",
      "Distance  to [2, 3, 5]:  2.449489742783178\n",
      "v: [1, 3, 4, 5, 1, 6] i:0\n",
      "v: [1, 2, 3] i:1 <-----\n",
      "Depth:  0 \n",
      " __________\n",
      "Median: v: [1, 3, 4, 5, 1, 6] i:0\n",
      "Distance  to [2, 3, 5]:  1.4142135623730951\n",
      "v: [1, 3, 4, 5, 1, 6] i:0 <-----\n",
      "Depth:  1 \n",
      " __________\n"
     ]
    }
   ],
   "source": [
    "recommender.build_and_save_rec_tree()"
   ]
  },
  {
   "cell_type": "code",
   "execution_count": null,
   "metadata": {},
   "outputs": [],
   "source": [
    "vector = []\n",
    "rec = recommender.get_recomendations(vector, n_max=10)"
   ]
  },
  {
   "cell_type": "code",
   "execution_count": null,
   "metadata": {},
   "outputs": [],
   "source": []
  }
 ],
 "metadata": {
  "kernelspec": {
   "display_name": ".venv",
   "language": "python",
   "name": "python3"
  },
  "language_info": {
   "codemirror_mode": {
    "name": "ipython",
    "version": 3
   },
   "file_extension": ".py",
   "mimetype": "text/x-python",
   "name": "python",
   "nbconvert_exporter": "python",
   "pygments_lexer": "ipython3",
   "version": "3.11.4"
  }
 },
 "nbformat": 4,
 "nbformat_minor": 2
}
