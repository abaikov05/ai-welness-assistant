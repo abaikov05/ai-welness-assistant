{
 "cells": [
  {
   "cell_type": "code",
   "execution_count": 1,
   "metadata": {},
   "outputs": [],
   "source": [
    "from helpers import *\n",
    "from dotenv import load_dotenv\n",
    "import os\n",
    "import openai\n",
    "import json\n",
    "load_dotenv()\n",
    "openai.api_key = os.getenv(\"OPENAI_KEY\")\n",
    "# weaviate_client = weaviate.Client(\n",
    "#     url=os.getenv(\"WEAVIATE_URL\"),\n",
    "#     auth_client_secret=weaviate.AuthApiKey(api_key=os.getenv(\"WEAVIATE_KEY\")),\n",
    "#     additional_headers={\"X-OpenAI-Api-Key\": openai.api_key}\n",
    "# )"
   ]
  },
  {
   "cell_type": "code",
   "execution_count": 1,
   "metadata": {},
   "outputs": [],
   "source": [
    "from cryptography.fernet import Fernet"
   ]
  },
  {
   "cell_type": "code",
   "execution_count": 9,
   "metadata": {},
   "outputs": [],
   "source": [
    "key = Fernet.generate_key()"
   ]
  },
  {
   "cell_type": "code",
   "execution_count": 10,
   "metadata": {},
   "outputs": [],
   "source": [
    "f = Fernet(key)"
   ]
  },
  {
   "cell_type": "code",
   "execution_count": 99,
   "metadata": {},
   "outputs": [
    {
     "name": "stdout",
     "output_type": "stream",
     "text": [
      "120 30\n"
     ]
    }
   ],
   "source": [
    "message = \"@@@@@@@@@@@@@@@@@@@@dfsdfdfdsf\"\n",
    "encr = f.encrypt(bytes(message, \"utf-8\"))\n",
    "print(len(encr), len(message))\n",
    "# MAX PWD LEN = 30"
   ]
  },
  {
   "cell_type": "code",
   "execution_count": 2,
   "metadata": {},
   "outputs": [],
   "source": [
    "from responder import Responder"
   ]
  },
  {
   "cell_type": "code",
   "execution_count": 4,
   "metadata": {},
   "outputs": [
    {
     "ename": "FileNotFoundError",
     "evalue": "[Errno 2] No such file or directory: 'nigga'",
     "output_type": "error",
     "traceback": [
      "\u001b[1;31m---------------------------------------------------------------------------\u001b[0m",
      "\u001b[1;31mFileNotFoundError\u001b[0m                         Traceback (most recent call last)",
      "Cell \u001b[1;32mIn[4], line 2\u001b[0m\n\u001b[0;32m      1\u001b[0m path \u001b[39m=\u001b[39m \u001b[39m\"\u001b[39m\u001b[39mnigga\u001b[39m\u001b[39m\"\u001b[39m\n\u001b[1;32m----> 2\u001b[0m \u001b[39mwith\u001b[39;00m \u001b[39mopen\u001b[39;49m(path, \u001b[39m'\u001b[39;49m\u001b[39mr\u001b[39;49m\u001b[39m'\u001b[39;49m) \u001b[39mas\u001b[39;00m file:\n\u001b[0;32m      3\u001b[0m     profile \u001b[39m=\u001b[39m \u001b[39meval\u001b[39m(file\u001b[39m.\u001b[39mread())\n\u001b[0;32m      4\u001b[0m \u001b[39mprint\u001b[39m(profile, \u001b[39mtype\u001b[39m(profile))\n",
      "File \u001b[1;32me:\\AI-wellnes-assistant\\.venv\\Lib\\site-packages\\IPython\\core\\interactiveshell.py:286\u001b[0m, in \u001b[0;36m_modified_open\u001b[1;34m(file, *args, **kwargs)\u001b[0m\n\u001b[0;32m    279\u001b[0m \u001b[39mif\u001b[39;00m file \u001b[39min\u001b[39;00m {\u001b[39m0\u001b[39m, \u001b[39m1\u001b[39m, \u001b[39m2\u001b[39m}:\n\u001b[0;32m    280\u001b[0m     \u001b[39mraise\u001b[39;00m \u001b[39mValueError\u001b[39;00m(\n\u001b[0;32m    281\u001b[0m         \u001b[39mf\u001b[39m\u001b[39m\"\u001b[39m\u001b[39mIPython won\u001b[39m\u001b[39m'\u001b[39m\u001b[39mt let you open fd=\u001b[39m\u001b[39m{\u001b[39;00mfile\u001b[39m}\u001b[39;00m\u001b[39m by default \u001b[39m\u001b[39m\"\u001b[39m\n\u001b[0;32m    282\u001b[0m         \u001b[39m\"\u001b[39m\u001b[39mas it is likely to crash IPython. If you know what you are doing, \u001b[39m\u001b[39m\"\u001b[39m\n\u001b[0;32m    283\u001b[0m         \u001b[39m\"\u001b[39m\u001b[39myou can use builtins\u001b[39m\u001b[39m'\u001b[39m\u001b[39m open.\u001b[39m\u001b[39m\"\u001b[39m\n\u001b[0;32m    284\u001b[0m     )\n\u001b[1;32m--> 286\u001b[0m \u001b[39mreturn\u001b[39;00m io_open(file, \u001b[39m*\u001b[39;49margs, \u001b[39m*\u001b[39;49m\u001b[39m*\u001b[39;49mkwargs)\n",
      "\u001b[1;31mFileNotFoundError\u001b[0m: [Errno 2] No such file or directory: 'nigga'"
     ]
    }
   ],
   "source": [
    "path = \"nigga\"\n",
    "with open(path, 'r') as file:\n",
    "    profile = eval(file.read())\n",
    "print(profile, type(profile))"
   ]
  },
  {
   "cell_type": "code",
   "execution_count": 6,
   "metadata": {},
   "outputs": [
    {
     "name": "stdout",
     "output_type": "stream",
     "text": [
      "Previous message: ADD CHAT HISTORY MODULE\n",
      "    User message: Hi, I am shy and I love turtles Your task is to decide what tools are necessary to respond to user.\n",
      "    Your responce is always a string of tools delimeted by comma. Follow this format:\n",
      "    \"{tool_name}, {tool_name}, ...\"\n",
      "    If there is no necessary tools to use from list of tools, your responce must be empty.\n",
      "    NEVER RESPOND USER DIRECTLY!\n",
      "    You can only choose tools from this list:\n",
      "Name: weather; Description: tells current weather\n",
      "Name: news; Description: tells latest news\n",
      " \n",
      "No tools to use!\n",
      "Generated user prifile changes: {2: \"I am shy\", 3: \"I love turtles\"}\n",
      "Last profile:\n",
      " {'1': 'Change this one!'}\n",
      "New profile:\n",
      " {'1': 'Change this one!', 2: 'I am shy', 3: 'I love turtles'}\n"
     ]
    }
   ],
   "source": [
    "resp = Responder(profile_path='nigga')\n",
    "res = await resp.handle_user_message('Hi, I am shy and I love turtles')"
   ]
  },
  {
   "cell_type": "code",
   "execution_count": 5,
   "metadata": {},
   "outputs": [
    {
     "ename": "NameError",
     "evalue": "name 'res' is not defined",
     "output_type": "error",
     "traceback": [
      "\u001b[1;31m---------------------------------------------------------------------------\u001b[0m",
      "\u001b[1;31mNameError\u001b[0m                                 Traceback (most recent call last)",
      "Cell \u001b[1;32mIn[5], line 1\u001b[0m\n\u001b[1;32m----> 1\u001b[0m res\n",
      "\u001b[1;31mNameError\u001b[0m: name 'res' is not defined"
     ]
    }
   ],
   "source": [
    "res"
   ]
  },
  {
   "cell_type": "code",
   "execution_count": 9,
   "metadata": {},
   "outputs": [],
   "source": [
    "system_message = \"\"\"You are a user's helpful wellbeing assistant. Your task is to provide cherful conversantion to user nad help him understand and resolve his problems.\"\"\"\n",
    "user_message = \"\"\n",
    "responce = await openai_chat_request(prompt=user_message, system=system_message)"
   ]
  },
  {
   "cell_type": "code",
   "execution_count": 399,
   "metadata": {},
   "outputs": [],
   "source": [
    "previous_message = \"Cool\"\n",
    "user_message = \"Hi there, beautiful weather is uotside, dandalions are so charmnig\""
   ]
  },
  {
   "cell_type": "code",
   "execution_count": null,
   "metadata": {},
   "outputs": [],
   "source": [
    "await extract_tools(previous_message, user_message)"
   ]
  },
  {
   "cell_type": "code",
   "execution_count": 4,
   "metadata": {},
   "outputs": [],
   "source": [
    "class Profile:\n",
    "    def __init__(self, path):\n",
    "        self.path = path\n",
    "    def create_user_profile(self) -> None:\n",
    "        with open('path', \"w\", encoding='utf-8') as file:\n",
    "            return file"
   ]
  },
  {
   "cell_type": "code",
   "execution_count": 394,
   "metadata": {},
   "outputs": [],
   "source": [
    "class Profile:\n",
    "    def __init__(self, path):\n",
    "        self.path = path\n",
    "        if os.path.exists(self.path):\n",
    "            with open(self.path, 'r', encoding=\"utf-8\") as file:\n",
    "                self.profile = eval(file.read())\n",
    "        else:\n",
    "            with open(self.path, 'x') as file:\n",
    "                self.profile = {1: \"\"}\n",
    "                file.write(json.dumps(self.profile))\n",
    "    async def update_user_profile(self, previous_message: str, user_message: str) -> None:\n",
    "        profile_changes = eval(await self.generate_user_profile(previous_message=previous_message, user_message=user_message))\n",
    "        print(\"Last profile:\\n\", self.profile)\n",
    "\n",
    "        for i in profile_changes:\n",
    "            self.profile[i] = profile_changes[i]\n",
    "\n",
    "        print(\"New profile:\\n\", self.profile)\n",
    "        with open(self.path, 'w') as file:\n",
    "            file.write(json.dumps(self.profile))\n",
    "        return None\n",
    "    async def generate_user_profile(self, previous_message: str, user_message: str) -> str:\n",
    "        system_message = \"\"\"\\\n",
    "    Your task is to update or generate (if no profile is passed) user profile from recent chat.\n",
    "    Only write user preferences, what user likes or dislikes and information about users' personality.\n",
    "    - If there no changes must be made to user profile your responce is empty\n",
    "    - If there is something new info about user, add it in user profile and mark it (new) \n",
    "    - DO NOT DELETE OR REPLACE ANY PART OF USER PROFILE IF IT'S NOT UPDATED.\n",
    "    NEVER RESPOND USER DIRECTLY!\n",
    "    Follow this JSON format:\n",
    "        {number: \"Changed text of this element\", number: \"Changed text of this element\"}\n",
    "        \"\"\"\n",
    "        prompt = f\"\"\"\\\n",
    "    |USER PROFILE:\n",
    "    {self.profile}|\n",
    "\n",
    "    |RECENT_CHAT:\n",
    "    Previous message: {previous_message}\n",
    "    User message: {user_message}|\n",
    "    Remember format: {{number: \"Changed text of this element\", number: \"Changed text of this element\"}}\n",
    "    \"\"\"\n",
    "        responce = await openai_chat_request(prompt=prompt, system=system_message, temperature=0.8)\n",
    "        print(\"Generated user prifile changes:\", responce)\n",
    "        return responce"
   ]
  },
  {
   "cell_type": "code",
   "execution_count": 371,
   "metadata": {},
   "outputs": [
    {
     "name": "stdout",
     "output_type": "stream",
     "text": [
      "Generated user prifile changes: {1: \"Hi there, I wonder how much I love dicks (new)\"}\n"
     ]
    }
   ],
   "source": [
    "\n",
    "profile = {1: \"\"}\n",
    "async def generate_user_profile(previous_message: str, user_message: str) -> str:\n",
    "    system_message = \"\"\"\\\n",
    "Your task is to update or generate (if no profile is passed) user profile from recent chat.\n",
    "Only write user preferences, what user likes or dislikes and information about users' personality.\n",
    "- If there no changes must be made to user profile your responce is empty\n",
    "- If there is something new info about user, add it in user profile and mark it (new) \n",
    "- DO NOT DELETE OR REPLACE ANY PART OF USER PROFILE IF IT'S NOT UPDATED.\n",
    "NEVER RESPOND USER DIRECTLY!\n",
    "Follow this JSON format:\n",
    "    {number: \"Changed text of this element\", number: \"Changed text of this element\"}\n",
    "    \"\"\"\n",
    "    prompt = f\"\"\"\\\n",
    "|USER PROFILE:\n",
    "{profile}|\n",
    "\n",
    "|RECENT_CHAT:\n",
    "Previous message: {previous_message}\n",
    "User message: {user_message}|\n",
    "Remember format: {{number: \"Changed text of this element\", number: \"Changed text of this element\"}}\n",
    "\"\"\"\n",
    "    responce = await openai_chat_request(prompt=prompt, system=system_message, temperature=0.8)\n",
    "    print(\"Generated user prifile changes:\", responce)\n",
    "    return responce\n",
    "\n",
    "profile_changes = await generate_user_profile(previous_message=previous_message, user_message=user_message)\n"
   ]
  },
  {
   "cell_type": "code",
   "execution_count": 7,
   "metadata": {},
   "outputs": [],
   "source": [
    "with open('test_profile.json', \"r\") as f:\n",
    "    file = eval(f.read())"
   ]
  },
  {
   "cell_type": "code",
   "execution_count": 19,
   "metadata": {},
   "outputs": [
    {
     "name": "stdout",
     "output_type": "stream",
     "text": [
      "nigger\n"
     ]
    }
   ],
   "source": [
    "if \"dicks\" in file['1']:\n",
    "    print('nigger')"
   ]
  },
  {
   "cell_type": "code",
   "execution_count": 20,
   "metadata": {},
   "outputs": [
    {
     "data": {
      "text/plain": [
       "'Hi there, I wonder how much I love dicks (new)'"
      ]
     },
     "execution_count": 20,
     "metadata": {},
     "output_type": "execute_result"
    }
   ],
   "source": [
    "file['1']"
   ]
  },
  {
   "cell_type": "code",
   "execution_count": 385,
   "metadata": {},
   "outputs": [
    {
     "name": "stdout",
     "output_type": "stream",
     "text": [
      "Last profile:\n",
      " {1: ''}\n",
      "New profile:\n",
      " {1: 'Hi there, I wonder how much I love dicks (new)'}\n"
     ]
    }
   ],
   "source": [
    "print(\"Last profile:\\n\", profile)\n",
    "\n",
    "for i in profile_changes:\n",
    "    profile[i] = profile_changes[i]\n",
    "\n",
    "print(\"New profile:\\n\", profile)\n",
    "with open('prof', 'w') as file:\n",
    "    file.write(json.dumps(profile))\n"
   ]
  },
  {
   "cell_type": "code",
   "execution_count": 396,
   "metadata": {},
   "outputs": [],
   "source": [
    "profile = Profile('test_profile.json')"
   ]
  },
  {
   "cell_type": "code",
   "execution_count": 401,
   "metadata": {},
   "outputs": [
    {
     "data": {
      "text/plain": [
       "{1: 'Hi there, I wonder how much I love dicks (new)',\n",
       " 2: 'beautiful weather is outside, dandelions are so charming (new)'}"
      ]
     },
     "execution_count": 401,
     "metadata": {},
     "output_type": "execute_result"
    }
   ],
   "source": [
    "profile.profile"
   ]
  },
  {
   "cell_type": "code",
   "execution_count": 400,
   "metadata": {},
   "outputs": [
    {
     "name": "stdout",
     "output_type": "stream",
     "text": [
      "Generated user prifile changes: {1: \"Hi there, I wonder how much I love dicks (new)\", \n",
      " 2: \"beautiful weather is outside, dandelions are so charming (new)\"}\n",
      "Last profile:\n",
      " {1: 'Hi there, I wonder how much I love dicks (new)'}\n",
      "New profile:\n",
      " {1: 'Hi there, I wonder how much I love dicks (new)', 2: 'beautiful weather is outside, dandelions are so charming (new)'}\n"
     ]
    }
   ],
   "source": [
    "await profile.update_user_profile(previous_message, user_message)"
   ]
  },
  {
   "cell_type": "code",
   "execution_count": null,
   "metadata": {},
   "outputs": [],
   "source": []
  },
  {
   "cell_type": "code",
   "execution_count": 219,
   "metadata": {},
   "outputs": [],
   "source": [
    "profile = await generate_user_profile(profile,previous_message, user_message)"
   ]
  },
  {
   "cell_type": "code",
   "execution_count": 159,
   "metadata": {},
   "outputs": [
    {
     "name": "stdout",
     "output_type": "stream",
     "text": [
      "{ [{\"number\": '1', \"changes\": 'Empty'}, {\"number\":'2', \"changes\":'Empty'}, {\"number\":'3', \"changes\":'User likes green color'}] }\n"
     ]
    }
   ],
   "source": [
    "profile = profile.replace(\"'number'\", '\"number\"')\n",
    "profile = profile.replace(\"'changes'\", '\"changes\"')\n",
    "print(profile)"
   ]
  },
  {
   "cell_type": "code",
   "execution_count": 309,
   "metadata": {},
   "outputs": [],
   "source": [
    "profiles = {\"1\": \"Hi there, I wonder how much I love dicks\", \"2\": \"new shit\"}\n",
    "new = {\"4\": \"I love dicks\", \"2\": \"new shit incoming\"}"
   ]
  },
  {
   "cell_type": "code",
   "execution_count": 311,
   "metadata": {},
   "outputs": [],
   "source": [
    "for i in new:\n",
    "    profiles[i] = new[i]"
   ]
  },
  {
   "cell_type": "code",
   "execution_count": 312,
   "metadata": {},
   "outputs": [
    {
     "data": {
      "text/plain": [
       "{'1': 'Hi there, I wonder how much I love dicks',\n",
       " '2': 'new shit incoming',\n",
       " '4': 'I love dicks'}"
      ]
     },
     "execution_count": 312,
     "metadata": {},
     "output_type": "execute_result"
    }
   ],
   "source": [
    "profiles"
   ]
  },
  {
   "cell_type": "code",
   "execution_count": 210,
   "metadata": {},
   "outputs": [
    {
     "name": "stdout",
     "output_type": "stream",
     "text": [
      "[{'number': '1', 'changes': 'Empty'}, {'number': '2', 'changes': 'Empty'}, {'number': '3', 'changes': 'User likes green color'}]\n"
     ]
    }
   ],
   "source": [
    "profiles = \"\"\"[{\"number\": \"1\", \"changes\": \"Empty\"}, {\"number\":\"2\", \"changes\":\"Empty\"}, {\"number\":\"3\", \"changes\":\"User likes green color\"}]\"\"\"\n",
    "pr = json.loads(profiles)\n",
    "print(json.loads(profiles))"
   ]
  },
  {
   "cell_type": "code",
   "execution_count": 213,
   "metadata": {},
   "outputs": [
    {
     "data": {
      "text/plain": [
       "'1'"
      ]
     },
     "execution_count": 213,
     "metadata": {},
     "output_type": "execute_result"
    }
   ],
   "source": [
    "pr[0]['number']"
   ]
  },
  {
   "cell_type": "code",
   "execution_count": 223,
   "metadata": {},
   "outputs": [],
   "source": [
    "pr = json.loads(profile)"
   ]
  },
  {
   "cell_type": "code",
   "execution_count": 233,
   "metadata": {},
   "outputs": [],
   "source": [
    "with open('nigger.txt', 'w') as f:    \n",
    "    f.write(json.dumps(pr))"
   ]
  },
  {
   "cell_type": "code",
   "execution_count": 229,
   "metadata": {},
   "outputs": [
    {
     "data": {
      "text/plain": [
       "'[{\"number\": \"3\", \"changes\": \"User likes green color\"}, {\"number\": \"4\", \"changes\": \"User loves dicks\"}]'"
      ]
     },
     "execution_count": 229,
     "metadata": {},
     "output_type": "execute_result"
    }
   ],
   "source": [
    "json.dumps(pr)"
   ]
  }
 ],
 "metadata": {
  "kernelspec": {
   "display_name": ".venv",
   "language": "python",
   "name": "python3"
  },
  "language_info": {
   "codemirror_mode": {
    "name": "ipython",
    "version": 3
   },
   "file_extension": ".py",
   "mimetype": "text/x-python",
   "name": "python",
   "nbconvert_exporter": "python",
   "pygments_lexer": "ipython3",
   "version": "3.11.4"
  },
  "orig_nbformat": 4
 },
 "nbformat": 4,
 "nbformat_minor": 2
}
