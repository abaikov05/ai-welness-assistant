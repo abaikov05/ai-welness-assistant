{
 "cells": [
  {
   "cell_type": "code",
   "execution_count": 1,
   "metadata": {},
   "outputs": [],
   "source": [
    "from unittest.mock import patch"
   ]
  },
  {
   "cell_type": "markdown",
   "metadata": {},
   "source": [
    "### Emotional journal tests"
   ]
  },
  {
   "cell_type": "code",
   "execution_count": 2,
   "metadata": {},
   "outputs": [],
   "source": [
    "from web.app.assistant.emotional_journal import *\n",
    "import datetime"
   ]
  },
  {
   "cell_type": "code",
   "execution_count": 3,
   "metadata": {},
   "outputs": [
    {
     "name": "stdout",
     "output_type": "stream",
     "text": [
      "____________________\n",
      "--- Journal prompt:\n",
      " Conversation:|\n",
      "Hi\n",
      "How can I assist| \n",
      "--- Journal update response:\n",
      " {\"emotion\": 100}\n",
      "____________________\n",
      "Result:  ({'emotion': 100}, 1, datetime.date(2024, 10, 13), 'token usage')\n"
     ]
    }
   ],
   "source": [
    "# New journal update\n",
    "date = date.today()\n",
    "journal = '{}'\n",
    "updates_count = 0\n",
    "journal_date = date\n",
    "gpt_model = ''\n",
    "\n",
    "journal = EmotionalJournal(journal, updates_count, journal_date, date, gpt_model)\n",
    "\n",
    "mock_response = '{\"emotion\": 100}'\n",
    "chat = ['Hi', 'How can I assist']\n",
    "\n",
    "with patch('web.app.assistant.emotional_journal.openai_chat_request', return_value=[mock_response, 'token usage']):\n",
    "    result = await journal.update_journal(chat)\n",
    "    print(\"Result: \", result)\n",
    "    assert result == ({\"emotion\": 100}, 1, date, \"token usage\")"
   ]
  },
  {
   "cell_type": "code",
   "execution_count": 4,
   "metadata": {},
   "outputs": [
    {
     "name": "stdout",
     "output_type": "stream",
     "text": [
      "____________________\n",
      "--- Journal prompt:\n",
      " Conversation:|\n",
      "Hi| \n",
      "--- Journal update response:\n",
      " {\"emotion\": 50, \"emotion2\": 50}\n",
      "____________________\n",
      "Result:  ({'emotion': 75.0, 'emotion2': 25.0}, 2, datetime.date(2024, 10, 13), 'token usage')\n"
     ]
    }
   ],
   "source": [
    "#Update of exisiting journal with new and exsisting emotion\n",
    "date = date.today()\n",
    "journal = '{\"emotion\": 100}'\n",
    "updates_count = 1\n",
    "journal_date = date\n",
    "gpt_model = ''\n",
    "\n",
    "journal = EmotionalJournal(journal, updates_count, journal_date, date, gpt_model)\n",
    "\n",
    "mock_response = '{\"emotion\": 50, \"emotion2\": 50}'\n",
    "chat = ['Hi']\n",
    "    \n",
    "with patch('web.app.assistant.emotional_journal.openai_chat_request', return_value=[mock_response, 'token usage']):\n",
    "    result = await journal.update_journal(chat)\n",
    "    print(\"Result: \", result)\n",
    "    # e1 = (100 + 50) / 2 = 75\n",
    "    # e2 = 50 / 2 = 25\n",
    "    assert result == ({\"emotion\": 75, \"emotion2\": 25}, 2, date, 'token usage')\n"
   ]
  },
  {
   "cell_type": "code",
   "execution_count": 5,
   "metadata": {},
   "outputs": [
    {
     "name": "stdout",
     "output_type": "stream",
     "text": [
      "____________________\n",
      "--- Journal prompt:\n",
      " Conversation:|\n",
      "Hi| \n",
      "--- Journal update response:\n",
      " {}\n",
      "____________________\n",
      "Result:  (None, None, None, 'token usage')\n"
     ]
    }
   ],
   "source": [
    "#Empty response fronm GPT\n",
    "date = date.today()\n",
    "journal = '{}'\n",
    "updates_count = 0\n",
    "journal_date = date\n",
    "gpt_model = ''\n",
    "\n",
    "journal = EmotionalJournal(journal, updates_count, journal_date, date, gpt_model)\n",
    "\n",
    "mock_response = '{}'\n",
    "chat = ['Hi']\n",
    "    \n",
    "with patch('web.app.assistant.emotional_journal.openai_chat_request', return_value=[mock_response, 'token usage']):\n",
    "    result = await journal.update_journal(chat)\n",
    "    print(\"Result: \", result)\n",
    "    assert result == (None, None, None, 'token usage')"
   ]
  },
  {
   "cell_type": "code",
   "execution_count": 6,
   "metadata": {},
   "outputs": [
    {
     "name": "stdout",
     "output_type": "stream",
     "text": [
      "____________________\n",
      "--- Journal prompt:\n",
      " Conversation:|\n",
      "Hi| \n",
      "--- Journal update response:\n",
      " {\"e\": 30, \"e4\": 5}\n",
      "____________________\n",
      "1. Result:  ({'e': 16.67, 'e2': 10.0, 'e3': 41.67, 'e4': 1.67}, 3, datetime.date(2024, 10, 13), 'token usage')\n",
      "____________________\n",
      "--- Journal prompt:\n",
      " Conversation:|\n",
      "Hi| \n",
      "--- Journal update response:\n",
      " {\"e2\": 20}\n",
      "____________________\n",
      "2. Result:  ({'e': 12.5, 'e2': 12.5, 'e3': 31.25, 'e4': 1.25}, 4, datetime.date(2024, 10, 13), 'token usage')\n",
      "____________________\n",
      "--- Journal prompt:\n",
      " Conversation:|\n",
      "Hi| \n",
      "--- Journal update response:\n",
      " {\"e5\": 100}\n",
      "____________________\n",
      "3. Result:  ({'e': 10.0, 'e2': 10.0, 'e3': 25.0, 'e4': 1.0, 'e5': 20.0}, 5, datetime.date(2024, 10, 13), 'token usage')\n"
     ]
    }
   ],
   "source": [
    "# Multiple updates of existing journal\n",
    "date = date.today()\n",
    "journal = '{\"e\": 10, \"e2\": 15, \"e3\": 62.5}'\n",
    "updates_count = 2\n",
    "journal_date = date\n",
    "gpt_model = ''\n",
    "\n",
    "journal = EmotionalJournal(journal, updates_count, journal_date, date, gpt_model)\n",
    "\n",
    "mock_response = '{\"e\": 30, \"e4\": 5}'\n",
    "chat = ['Hi']\n",
    "    \n",
    "with patch('web.app.assistant.emotional_journal.openai_chat_request', return_value=[mock_response, 'token usage']):\n",
    "    result = await journal.update_journal(chat)\n",
    "    print(\"1. Result: \", result)\n",
    "    journal, updates_count, journal_date, token_usege = result\n",
    "\n",
    "mock_response = '{\"e2\": 20}'\n",
    "with patch('web.app.assistant.emotional_journal.openai_chat_request', return_value=[mock_response, 'token usage']): \n",
    "    journal = EmotionalJournal(json.dumps(journal), updates_count, journal_date, date, gpt_model)\n",
    "    result = await journal.update_journal(chat)\n",
    "    print(\"2. Result: \", result)\n",
    "    journal, updates_count, journal_date, token_usege = result\n",
    "    \n",
    "mock_response = '{\"e5\": 100}'\n",
    "with patch('web.app.assistant.emotional_journal.openai_chat_request', return_value=[mock_response, 'token usage']): \n",
    "    journal = EmotionalJournal(json.dumps(journal), updates_count, journal_date, date, gpt_model)\n",
    "    result = await journal.update_journal(chat)\n",
    "    print(\"3. Result: \", result)\n",
    "    \n",
    "# e = (10*2 + 30) / 5 = 10\n",
    "# e2 (15*2 + 10) / 5 = 10\n",
    "# e3 (60*2) / 5 = 25\n",
    "# e4 5/5\n",
    "# e5 100 /5\n",
    "assert result == ({'e': 10.0, 'e2': 10.0, 'e3': 25.0, 'e4': 1.0, 'e5': 20.0}, 5, date, 'token usage')"
   ]
  },
  {
   "cell_type": "code",
   "execution_count": 7,
   "metadata": {},
   "outputs": [
    {
     "name": "stdout",
     "output_type": "stream",
     "text": [
      "____________________\n",
      "--- Journal prompt:\n",
      " Conversation:|\n",
      "Hi\n",
      "How can I assist| \n",
      "--- Journal update response:\n",
      " {\"e\": -1, \"e1\": 10}\n",
      "____________________\n",
      "Result:  ({'e': 25.0, 'e1': 5.0}, 2, datetime.date(2024, 10, 13), 'token usage')\n"
     ]
    }
   ],
   "source": [
    "# Update journal with 1 invalid value in response\n",
    "date = date.today()\n",
    "journal = '{\"e\": 50}'\n",
    "updates_count = 1\n",
    "journal_date = date\n",
    "gpt_model = ''\n",
    "\n",
    "Journal = EmotionalJournal(journal, updates_count, journal_date, date, gpt_model)\n",
    "\n",
    "mock_response = '{\"e\": -1, \"e1\": 10}'\n",
    "chat = ['Hi', 'How can I assist']\n",
    "\n",
    "with patch('web.app.assistant.emotional_journal.openai_chat_request', return_value=[mock_response, 'token usage']):\n",
    "    result = await Journal.update_journal(chat)\n",
    "    print(\"Result: \", result)\n",
    "    assert result == ({'e': 25.0, 'e1': 5.0}, 2, date, 'token usage')"
   ]
  },
  {
   "cell_type": "code",
   "execution_count": 8,
   "metadata": {},
   "outputs": [
    {
     "name": "stdout",
     "output_type": "stream",
     "text": [
      "____________________\n",
      "--- Journal prompt:\n",
      " Conversation:|\n",
      "Hi\n",
      "How can I assist| \n",
      "--- Journal update response:\n",
      " {\"e\": -1, \"e1\": 101, \"e3\": 100.1, \"2e\": -0.1}\n",
      "____________________\n",
      "Result:  (None, None, None, 'token usage')\n"
     ]
    }
   ],
   "source": [
    "# Update journal with all invalid values in response\n",
    "date = date.today()\n",
    "journal = '{\"e\": 10, \"e2\": \"20\"}'\n",
    "updates_count = 3\n",
    "journal_date = date\n",
    "gpt_model = ''\n",
    "\n",
    "Journal = EmotionalJournal(journal, updates_count, journal_date, date, gpt_model)\n",
    "\n",
    "mock_response = '{\"e\": -1, \"e1\": 101, \"e3\": 100.1, \"2e\": -0.1}'\n",
    "chat = ['Hi', 'How can I assist']\n",
    "\n",
    "with patch('web.app.assistant.emotional_journal.openai_chat_request', return_value=[mock_response, 'token usage']):\n",
    "    result = await Journal.update_journal(chat)\n",
    "    print(\"Result: \", result)\n",
    "    assert result == (None, None, None, 'token usage')"
   ]
  },
  {
   "cell_type": "code",
   "execution_count": 9,
   "metadata": {},
   "outputs": [
    {
     "name": "stdout",
     "output_type": "stream",
     "text": [
      "____________________\n",
      "--- Journal prompt:\n",
      " Conversation:|\n",
      "Hi\n",
      "How can I assist| \n",
      "--- Journal update response:\n",
      " None\n",
      "____________________\n",
      "Result:  (None, None, None, None)\n"
     ]
    }
   ],
   "source": [
    "# None in response\n",
    "date = date.today()\n",
    "journal = '{}'\n",
    "updates_count = 0\n",
    "journal_date = date\n",
    "gpt_model = ''\n",
    "\n",
    "journal = EmotionalJournal(journal, updates_count, journal_date, date, gpt_model)\n",
    "\n",
    "mock_response = None\n",
    "chat = ['Hi', 'How can I assist']\n",
    "\n",
    "with patch('web.app.assistant.emotional_journal.openai_chat_request', return_value=[mock_response, None]):\n",
    "    result = await journal.update_journal(chat)\n",
    "    print(\"Result: \", result)\n",
    "    assert result == (None, None, None, None)"
   ]
  },
  {
   "cell_type": "markdown",
   "metadata": {},
   "source": [
    "### User profiler tests"
   ]
  },
  {
   "cell_type": "code",
   "execution_count": 10,
   "metadata": {},
   "outputs": [],
   "source": [
    "from web.app.assistant.user_profile import *"
   ]
  },
  {
   "cell_type": "code",
   "execution_count": 11,
   "metadata": {},
   "outputs": [
    {
     "name": "stdout",
     "output_type": "stream",
     "text": [
      "- Profiler prompts:\n",
      " Your task is to update or generate a user profile from recent chat.\n",
      "Provide concise entries for user preferences, likes, dislikes, and key aspects of the user's personality.\n",
      "Your response should be short but descriptive, focusing on the most useful data for understanding the user.\n",
      "- If no changes need to be made to the user profile, your response is empty.\n",
      "- Don't duplicate the old profile; your response should only include updates.\n",
      "- To change an entire entry, respond with {\"number\": \"Changed text of this element\"}\n",
      "NEVER RESPOND DIRECTLY TO THE USER!\n",
      "Follow this JSON format:\n",
      "{\n",
      "    \"1\": \"Changed text describing the first element\",\n",
      "    \"2\": \"Changed text describing the second element\"\n",
      "}\n",
      " PREVIOUS USER PROFILE:|\n",
      "{}|\n",
      "CHAT HISTORY:|\n",
      "User: Hi\n",
      "Assistant: How can I help|\n",
      "Last user message: help me\n",
      "Remember format: {{\"number\": \"Changed text of this element\", \"number\": \"Changed text of this element\"}}\n",
      "- Generated user prifile changes: {\"0\" : \"Likes this\", \"1\" : \"Dislikes this\"} \n",
      " ____________________________________________________________________________________________________\n",
      "Last profile:\n",
      " {}\n",
      "New profile:\n",
      " {'0': 'Likes this', '1': 'Dislikes this'}\n",
      "Result:  (['Likes this', 'Dislikes this'], 'token usage')\n"
     ]
    }
   ],
   "source": [
    "# New profile change\n",
    "user_profile = '[]'\n",
    "gpt_model = ''\n",
    "\n",
    "profile = Profile(user_profile, gpt_model)\n",
    "\n",
    "mock_response = '{\"0\" : \"Likes this\", \"1\" : \"Dislikes this\"}'\n",
    "chat = ['User: Hi', 'Assistant: How can I help']\n",
    "message = \"help me\"\n",
    "\n",
    "with patch('web.app.assistant.user_profile.openai_chat_request', return_value=[mock_response, 'token usage']):\n",
    "    result = await profile.update_user_profile(previous_messages=chat, user_message=message)\n",
    "    print(\"Result: \", result)\n",
    "    assert result == (['Likes this', 'Dislikes this'], 'token usage')"
   ]
  },
  {
   "cell_type": "code",
   "execution_count": 12,
   "metadata": {},
   "outputs": [
    {
     "name": "stdout",
     "output_type": "stream",
     "text": [
      "- Profiler prompts:\n",
      " Your task is to update or generate a user profile from recent chat.\n",
      "Provide concise entries for user preferences, likes, dislikes, and key aspects of the user's personality.\n",
      "Your response should be short but descriptive, focusing on the most useful data for understanding the user.\n",
      "- If no changes need to be made to the user profile, your response is empty.\n",
      "- Don't duplicate the old profile; your response should only include updates.\n",
      "- To change an entire entry, respond with {\"number\": \"Changed text of this element\"}\n",
      "NEVER RESPOND DIRECTLY TO THE USER!\n",
      "Follow this JSON format:\n",
      "{\n",
      "    \"1\": \"Changed text describing the first element\",\n",
      "    \"2\": \"Changed text describing the second element\"\n",
      "}\n",
      " PREVIOUS USER PROFILE:|\n",
      "{\"0\": \"likes\", \"1\": \"dislikes\"}|\n",
      "CHAT HISTORY:|\n",
      "User: Hi\n",
      "Assistant: How can I help|\n",
      "Last user message: help me\n",
      "Remember format: {{\"number\": \"Changed text of this element\", \"number\": \"Changed text of this element\"}}\n",
      "- Generated user prifile changes: {\"2\" : \"loves\", \"3\" : \"hates\"} \n",
      " ____________________________________________________________________________________________________\n",
      "Last profile:\n",
      " {'0': 'likes', '1': 'dislikes'}\n",
      "New profile:\n",
      " {'0': 'likes', '1': 'dislikes', '2': 'loves', '3': 'hates'}\n",
      "Result:  (['likes', 'dislikes', 'loves', 'hates'], 'token usage')\n"
     ]
    }
   ],
   "source": [
    "# Update existing profile with new entires\n",
    "user_profile = '[\"likes\",\"dislikes\"]'\n",
    "gpt_model = ''\n",
    "\n",
    "profile = Profile(user_profile, gpt_model)\n",
    "\n",
    "mock_response = '{\"2\" : \"loves\", \"3\" : \"hates\"}'\n",
    "chat = ['User: Hi', 'Assistant: How can I help']\n",
    "message = \"help me\"\n",
    "\n",
    "with patch('web.app.assistant.user_profile.openai_chat_request', return_value=[mock_response, 'token usage']):\n",
    "    result = await profile.update_user_profile(previous_messages=chat, user_message=message)\n",
    "    print(\"Result: \", result)\n",
    "    assert result == (['likes', 'dislikes', 'loves', 'hates'], 'token usage')"
   ]
  },
  {
   "cell_type": "code",
   "execution_count": 13,
   "metadata": {},
   "outputs": [
    {
     "name": "stdout",
     "output_type": "stream",
     "text": [
      "- Profiler prompts:\n",
      " Your task is to update or generate a user profile from recent chat.\n",
      "Provide concise entries for user preferences, likes, dislikes, and key aspects of the user's personality.\n",
      "Your response should be short but descriptive, focusing on the most useful data for understanding the user.\n",
      "- If no changes need to be made to the user profile, your response is empty.\n",
      "- Don't duplicate the old profile; your response should only include updates.\n",
      "- To change an entire entry, respond with {\"number\": \"Changed text of this element\"}\n",
      "NEVER RESPOND DIRECTLY TO THE USER!\n",
      "Follow this JSON format:\n",
      "{\n",
      "    \"1\": \"Changed text describing the first element\",\n",
      "    \"2\": \"Changed text describing the second element\"\n",
      "}\n",
      " PREVIOUS USER PROFILE:|\n",
      "{\"0\": \"likes\", \"1\": \"dislikes\"}|\n",
      "CHAT HISTORY:|\n",
      "User: Hi\n",
      "Assistant: How can I help|\n",
      "Last user message: help me\n",
      "Remember format: {{\"number\": \"Changed text of this element\", \"number\": \"Changed text of this element\"}}\n",
      "- Generated user prifile changes: {\"0\" : \"\", \"1\" : \"dislikes likes\", \"2\": \"wow new\", \"4\": \"cool\"} \n",
      " ____________________________________________________________________________________________________\n",
      "Last profile:\n",
      " {'0': 'likes', '1': 'dislikes'}\n",
      "New profile:\n",
      " {'0': '', '1': 'dislikes likes', '2': 'wow new', '4': 'cool'}\n",
      "Result:  (['dislikes likes', 'wow new', 'cool'], 'token usage')\n"
     ]
    }
   ],
   "source": [
    "# Update existing profile with new entires + changing and deleting existing entries\n",
    "user_profile = '[\"likes\",\"dislikes\"]'\n",
    "gpt_model = ''\n",
    "\n",
    "profile = Profile(user_profile, gpt_model)\n",
    "\n",
    "mock_response = '{\"0\" : \"\", \"1\" : \"dislikes likes\", \"2\": \"wow new\", \"4\": \"cool\"}'\n",
    "chat = ['User: Hi', 'Assistant: How can I help']\n",
    "message = \"help me\"\n",
    "\n",
    "with patch('web.app.assistant.user_profile.openai_chat_request', return_value=[mock_response, 'token usage']):\n",
    "    result = await profile.update_user_profile(previous_messages=chat, user_message=message)\n",
    "    print(\"Result: \", result)\n",
    "    assert result == (['dislikes likes', 'wow new', 'cool'], 'token usage')"
   ]
  },
  {
   "cell_type": "code",
   "execution_count": 14,
   "metadata": {},
   "outputs": [
    {
     "name": "stdout",
     "output_type": "stream",
     "text": [
      "- Profiler prompts:\n",
      " Your task is to update or generate a user profile from recent chat.\n",
      "Provide concise entries for user preferences, likes, dislikes, and key aspects of the user's personality.\n",
      "Your response should be short but descriptive, focusing on the most useful data for understanding the user.\n",
      "- If no changes need to be made to the user profile, your response is empty.\n",
      "- Don't duplicate the old profile; your response should only include updates.\n",
      "- To change an entire entry, respond with {\"number\": \"Changed text of this element\"}\n",
      "NEVER RESPOND DIRECTLY TO THE USER!\n",
      "Follow this JSON format:\n",
      "{\n",
      "    \"1\": \"Changed text describing the first element\",\n",
      "    \"2\": \"Changed text describing the second element\"\n",
      "}\n",
      " PREVIOUS USER PROFILE:|\n",
      "{\"0\": \"likes\", \"1\": \"dislikes\"}|\n",
      "CHAT HISTORY:|\n",
      "User: Hi\n",
      "Assistant: How can I help|\n",
      "Last user message: help me\n",
      "Remember format: {{\"number\": \"Changed text of this element\", \"number\": \"Changed text of this element\"}}\n",
      "- Generated user prifile changes: {\"1a\" : \"232424\", \"b345\" : \"dislikes likes\", \"2\": \"new\"} \n",
      " ____________________________________________________________________________________________________\n",
      "Last profile:\n",
      " {'0': 'likes', '1': 'dislikes'}\n",
      "New profile:\n",
      " {'0': 'likes', '1': 'dislikes', '2': 'new'}\n",
      "Result:  (['likes', 'dislikes', 'new'], 'token usage')\n"
     ]
    }
   ],
   "source": [
    "# Error in keys from response\n",
    "user_profile = '[\"likes\",\"dislikes\"]'\n",
    "gpt_model = ''\n",
    "\n",
    "profile = Profile(user_profile, gpt_model)\n",
    "\n",
    "mock_response = '{\"1a\" : \"232424\", \"b345\" : \"dislikes likes\", \"2\": \"new\"}'\n",
    "chat = ['User: Hi', 'Assistant: How can I help']\n",
    "message = \"help me\"\n",
    "\n",
    "with patch('web.app.assistant.user_profile.openai_chat_request', return_value=[mock_response, 'token usage']):\n",
    "    result = await profile.update_user_profile(previous_messages=chat, user_message=message)\n",
    "    print(\"Result: \", result)\n",
    "    assert result == (['likes', 'dislikes', 'new'], 'token usage')"
   ]
  },
  {
   "cell_type": "code",
   "execution_count": 15,
   "metadata": {},
   "outputs": [
    {
     "name": "stdout",
     "output_type": "stream",
     "text": [
      "- Profiler prompts:\n",
      " Your task is to update or generate a user profile from recent chat.\n",
      "Provide concise entries for user preferences, likes, dislikes, and key aspects of the user's personality.\n",
      "Your response should be short but descriptive, focusing on the most useful data for understanding the user.\n",
      "- If no changes need to be made to the user profile, your response is empty.\n",
      "- Don't duplicate the old profile; your response should only include updates.\n",
      "- To change an entire entry, respond with {\"number\": \"Changed text of this element\"}\n",
      "NEVER RESPOND DIRECTLY TO THE USER!\n",
      "Follow this JSON format:\n",
      "{\n",
      "    \"1\": \"Changed text describing the first element\",\n",
      "    \"2\": \"Changed text describing the second element\"\n",
      "}\n",
      " PREVIOUS USER PROFILE:|\n",
      "{\"0\": \"hi\"}|\n",
      "CHAT HISTORY:|\n",
      "User: Hi\n",
      "Assistant: How can I help|\n",
      "Last user message: help me\n",
      "Remember format: {{\"number\": \"Changed text of this element\", \"number\": \"Changed text of this element\"}}\n",
      "- Generated user prifile changes: {\"1\": \"\"here is an error\", \"2\": \"correct\"} \n",
      " ____________________________________________________________________________________________________\n",
      "Error in generated user profile format Expecting ',' delimiter: line 1 column 9 (char 8)\n",
      "Last profile:\n",
      " {'0': 'hi'}\n",
      "GPT tried to update profile but no changes were made!\n",
      "Result:  (None, 'token usage')\n"
     ]
    }
   ],
   "source": [
    "# Error in response format\n",
    "user_profile = '[\"hi\"]'\n",
    "gpt_model = ''\n",
    "\n",
    "profile = Profile(user_profile, gpt_model)\n",
    "\n",
    "mock_response = '{\"1\": \"\"here is an error\", \"2\": \"correct\"}'\n",
    "chat = ['User: Hi', 'Assistant: How can I help']\n",
    "message = \"help me\"\n",
    "\n",
    "with patch('web.app.assistant.user_profile.openai_chat_request', return_value=[mock_response, 'token usage']):\n",
    "    result = await profile.update_user_profile(previous_messages=chat, user_message=message)\n",
    "    print(\"Result: \", result)\n",
    "    assert result == (None, 'token usage')"
   ]
  },
  {
   "cell_type": "code",
   "execution_count": 16,
   "metadata": {},
   "outputs": [
    {
     "name": "stdout",
     "output_type": "stream",
     "text": [
      "- Profiler prompts:\n",
      " Your task is to update or generate a user profile from recent chat.\n",
      "Provide concise entries for user preferences, likes, dislikes, and key aspects of the user's personality.\n",
      "Your response should be short but descriptive, focusing on the most useful data for understanding the user.\n",
      "- If no changes need to be made to the user profile, your response is empty.\n",
      "- Don't duplicate the old profile; your response should only include updates.\n",
      "- To change an entire entry, respond with {\"number\": \"Changed text of this element\"}\n",
      "NEVER RESPOND DIRECTLY TO THE USER!\n",
      "Follow this JSON format:\n",
      "{\n",
      "    \"1\": \"Changed text describing the first element\",\n",
      "    \"2\": \"Changed text describing the second element\"\n",
      "}\n",
      " PREVIOUS USER PROFILE:|\n",
      "{}|\n",
      "CHAT HISTORY:|\n",
      "User: Hi\n",
      "Assistant: How can I help|\n",
      "Last user message: help me\n",
      "Remember format: {{\"number\": \"Changed text of this element\", \"number\": \"Changed text of this element\"}}\n",
      "- Generated user prifile changes: None \n",
      " ____________________________________________________________________________________________________\n",
      "Last profile:\n",
      " {}\n",
      "Result:  (None, None)\n"
     ]
    }
   ],
   "source": [
    "# None response\n",
    "user_profile = '[]'\n",
    "gpt_model = ''\n",
    "\n",
    "profile = Profile(user_profile, gpt_model)\n",
    "\n",
    "mock_response = None\n",
    "chat = ['User: Hi', 'Assistant: How can I help']\n",
    "message = \"help me\"\n",
    "\n",
    "with patch('web.app.assistant.user_profile.openai_chat_request', return_value=[mock_response, None]):\n",
    "    result = await profile.update_user_profile(previous_messages=chat, user_message=message)\n",
    "    print(\"Result: \", result)\n",
    "    assert result == (None, None)"
   ]
  },
  {
   "cell_type": "markdown",
   "metadata": {},
   "source": [
    "### Tools tests"
   ]
  },
  {
   "cell_type": "code",
   "execution_count": 17,
   "metadata": {},
   "outputs": [],
   "source": [
    "from web.app.assistant.tools import *"
   ]
  },
  {
   "cell_type": "markdown",
   "metadata": {},
   "source": [
    "##### extract_tools"
   ]
  },
  {
   "cell_type": "code",
   "execution_count": 18,
   "metadata": {},
   "outputs": [
    {
     "name": "stdout",
     "output_type": "stream",
     "text": [
      "____________________\n",
      "- Tool extraction:\n",
      " NEVER RESPOND USER DIRECTLY!\n",
      "Previous message: \n",
      "User message:  \n",
      " Your task is to identify if the user intends to use a tool from the provided list below.\n",
      "- YOU RESPOND WITH A TOOL ONLY IF YOU ARE 100% SURE USER WNATS TO USE IT.\n",
      "- If there are no relevant tools to use, your response MUST BE EMPTY.\n",
      "- Your response is always only a string of tools delimited by a comma. Follow this format:\n",
      "\"tool_name, tool_name, ...\"\n",
      "- NEVER RESPOND DIRECTLY TO THE USER!\n",
      "- You can only choose tools from this list:\n",
      "Name: tools_info; Description: Tells about available tools\n",
      "Name: weather; Description: tells current weather\n",
      "Name: news; Description: Searches for current top headlines, by key words and categories\n",
      "Name: calculator; Description: Calculates given expression\n",
      " \n",
      " news, weather\n",
      "____________________\n",
      "['news', 'weather']\n",
      "____________________\n",
      "- Tool extraction:\n",
      " NEVER RESPOND USER DIRECTLY!\n",
      "Previous message: \n",
      "User message:  \n",
      " Your task is to identify if the user intends to use a tool from the provided list below.\n",
      "- YOU RESPOND WITH A TOOL ONLY IF YOU ARE 100% SURE USER WNATS TO USE IT.\n",
      "- If there are no relevant tools to use, your response MUST BE EMPTY.\n",
      "- Your response is always only a string of tools delimited by a comma. Follow this format:\n",
      "\"tool_name, tool_name, ...\"\n",
      "- NEVER RESPOND DIRECTLY TO THE USER!\n",
      "- You can only choose tools from this list:\n",
      "Name: tools_info; Description: Tells about available tools\n",
      "Name: weather; Description: tells current weather\n",
      "Name: news; Description: Searches for current top headlines, by key words and categories\n",
      "Name: calculator; Description: Calculates given expression\n",
      " \n",
      " weather\n",
      "____________________\n",
      "['weather']\n"
     ]
    }
   ],
   "source": [
    "# Valid tools extracted \n",
    "tools = Tools(gpt_model='')\n",
    "user_message = ''\n",
    "chat_history = ''\n",
    "token_usage = ''\n",
    "mock_response = 'news, weather'\n",
    "with patch('web.app.assistant.tools.openai_chat_request', return_value=[mock_response, token_usage]):\n",
    "    result = await tools.extract_tools(user_message, chat_history)\n",
    "    print(result)\n",
    "    assert result == ['news', 'weather']\n",
    "\n",
    "mock_response = 'weather'\n",
    "with patch('web.app.assistant.tools.openai_chat_request', return_value=[mock_response, token_usage]):\n",
    "    result = await tools.extract_tools(user_message, chat_history)\n",
    "    print(result)\n",
    "    assert result == ['weather']\n"
   ]
  },
  {
   "cell_type": "code",
   "execution_count": 19,
   "metadata": {},
   "outputs": [
    {
     "name": "stdout",
     "output_type": "stream",
     "text": [
      "____________________\n",
      "- Tool extraction:\n",
      " NEVER RESPOND USER DIRECTLY!\n",
      "Previous message: \n",
      "User message:  \n",
      " Your task is to identify if the user intends to use a tool from the provided list below.\n",
      "- YOU RESPOND WITH A TOOL ONLY IF YOU ARE 100% SURE USER WNATS TO USE IT.\n",
      "- If there are no relevant tools to use, your response MUST BE EMPTY.\n",
      "- Your response is always only a string of tools delimited by a comma. Follow this format:\n",
      "\"tool_name, tool_name, ...\"\n",
      "- NEVER RESPOND DIRECTLY TO THE USER!\n",
      "- You can only choose tools from this list:\n",
      "Name: tools_info; Description: Tells about available tools\n",
      "Name: weather; Description: tells current weather\n",
      "Name: news; Description: Searches for current top headlines, by key words and categories\n",
      "Name: calculator; Description: Calculates given expression\n",
      " \n",
      " weatherer, news, calcolator\n",
      "____________________\n",
      "['news']\n",
      "____________________\n",
      "- Tool extraction:\n",
      " NEVER RESPOND USER DIRECTLY!\n",
      "Previous message: \n",
      "User message:  \n",
      " Your task is to identify if the user intends to use a tool from the provided list below.\n",
      "- YOU RESPOND WITH A TOOL ONLY IF YOU ARE 100% SURE USER WNATS TO USE IT.\n",
      "- If there are no relevant tools to use, your response MUST BE EMPTY.\n",
      "- Your response is always only a string of tools delimited by a comma. Follow this format:\n",
      "\"tool_name, tool_name, ...\"\n",
      "- NEVER RESPOND DIRECTLY TO THE USER!\n",
      "- You can only choose tools from this list:\n",
      "Name: tools_info; Description: Tells about available tools\n",
      "Name: weather; Description: tells current weather\n",
      "Name: news; Description: Searches for current top headlines, by key words and categories\n",
      "Name: calculator; Description: Calculates given expression\n",
      " \n",
      " weather, new, calculator\n",
      "____________________\n",
      "['weather', 'calculator']\n"
     ]
    }
   ],
   "source": [
    "# Valid and invalid tools\n",
    "tools = Tools(gpt_model='')\n",
    "user_message = ''\n",
    "chat_history = ''\n",
    "\n",
    "mock_response = 'weatherer, news, calcolator'\n",
    "with patch('web.app.assistant.tools.openai_chat_request', return_value=[mock_response, token_usage]):\n",
    "    result = await tools.extract_tools(user_message, chat_history)\n",
    "    print(result)\n",
    "    assert result == ['news']\n",
    "mock_response = 'weather, new, calculator'\n",
    "with patch('web.app.assistant.tools.openai_chat_request', return_value=[mock_response, token_usage]):\n",
    "    result = await tools.extract_tools(user_message, chat_history)\n",
    "    print(result)\n",
    "    assert result == ['weather','calculator']\n",
    "    "
   ]
  },
  {
   "cell_type": "code",
   "execution_count": 20,
   "metadata": {},
   "outputs": [
    {
     "name": "stdout",
     "output_type": "stream",
     "text": [
      "____________________\n",
      "- Tool extraction:\n",
      " NEVER RESPOND USER DIRECTLY!\n",
      "Previous message: \n",
      "User message:  \n",
      " Your task is to identify if the user intends to use a tool from the provided list below.\n",
      "- YOU RESPOND WITH A TOOL ONLY IF YOU ARE 100% SURE USER WNATS TO USE IT.\n",
      "- If there are no relevant tools to use, your response MUST BE EMPTY.\n",
      "- Your response is always only a string of tools delimited by a comma. Follow this format:\n",
      "\"tool_name, tool_name, ...\"\n",
      "- NEVER RESPOND DIRECTLY TO THE USER!\n",
      "- You can only choose tools from this list:\n",
      "Name: tools_info; Description: Tells about available tools\n",
      "Name: weather; Description: tells current weather\n",
      "Name: news; Description: Searches for current top headlines, by key words and categories\n",
      "Name: calculator; Description: Calculates given expression\n",
      " \n",
      " what ,weather news, calculator, hi, \n",
      "____________________\n",
      "['calculator']\n",
      "____________________\n",
      "- Tool extraction:\n",
      " NEVER RESPOND USER DIRECTLY!\n",
      "Previous message: \n",
      "User message:  \n",
      " Your task is to identify if the user intends to use a tool from the provided list below.\n",
      "- YOU RESPOND WITH A TOOL ONLY IF YOU ARE 100% SURE USER WNATS TO USE IT.\n",
      "- If there are no relevant tools to use, your response MUST BE EMPTY.\n",
      "- Your response is always only a string of tools delimited by a comma. Follow this format:\n",
      "\"tool_name, tool_name, ...\"\n",
      "- NEVER RESPOND DIRECTLY TO THE USER!\n",
      "- You can only choose tools from this list:\n",
      "Name: tools_info; Description: Tells about available tools\n",
      "Name: weather; Description: tells current weather\n",
      "Name: news; Description: Searches for current top headlines, by key words and categories\n",
      "Name: calculator; Description: Calculates given expression\n",
      " \n",
      " Sorry I don't see tools here, any questions.\n",
      "____________________\n",
      "GPT tied to extract tools but found no valid tools to use\n",
      "None\n"
     ]
    }
   ],
   "source": [
    "# Errors in response format.\n",
    "tools = Tools(gpt_model='')\n",
    "user_message = ''\n",
    "chat_history = ''\n",
    "\n",
    "mock_response = 'what ,weather news, calculator, hi, '\n",
    "\n",
    "with patch('web.app.assistant.tools.openai_chat_request', return_value=[mock_response, token_usage]):\n",
    "    result = await tools.extract_tools(user_message, chat_history)\n",
    "    print(result)\n",
    "    # Only calculator delimeted by comas\n",
    "    assert result == ['calculator']\n",
    "    \n",
    "mock_response = \"Sorry I don't see tools here, any questions.\"\n",
    "with patch('web.app.assistant.tools.openai_chat_request', return_value=[mock_response, token_usage]):\n",
    "    result = await tools.extract_tools(user_message, chat_history)\n",
    "    print(result)\n",
    "    \n",
    "    assert result == None"
   ]
  },
  {
   "cell_type": "code",
   "execution_count": 21,
   "metadata": {},
   "outputs": [
    {
     "name": "stdout",
     "output_type": "stream",
     "text": [
      "____________________\n",
      "- Tool extraction:\n",
      " NEVER RESPOND USER DIRECTLY!\n",
      "Previous message: \n",
      "User message:  \n",
      " Your task is to identify if the user intends to use a tool from the provided list below.\n",
      "- YOU RESPOND WITH A TOOL ONLY IF YOU ARE 100% SURE USER WNATS TO USE IT.\n",
      "- If there are no relevant tools to use, your response MUST BE EMPTY.\n",
      "- Your response is always only a string of tools delimited by a comma. Follow this format:\n",
      "\"tool_name, tool_name, ...\"\n",
      "- NEVER RESPOND DIRECTLY TO THE USER!\n",
      "- You can only choose tools from this list:\n",
      "Name: tools_info; Description: Tells about available tools\n",
      "Name: weather; Description: tells current weather\n",
      "Name: news; Description: Searches for current top headlines, by key words and categories\n",
      "Name: calculator; Description: Calculates given expression\n",
      " \n",
      " what ,weather news, calculator, hi, \n",
      "____________________\n",
      "['calculator']\n",
      "____________________\n",
      "- Tool extraction:\n",
      " NEVER RESPOND USER DIRECTLY!\n",
      "Previous message: \n",
      "User message:  \n",
      " Your task is to identify if the user intends to use a tool from the provided list below.\n",
      "- YOU RESPOND WITH A TOOL ONLY IF YOU ARE 100% SURE USER WNATS TO USE IT.\n",
      "- If there are no relevant tools to use, your response MUST BE EMPTY.\n",
      "- Your response is always only a string of tools delimited by a comma. Follow this format:\n",
      "\"tool_name, tool_name, ...\"\n",
      "- NEVER RESPOND DIRECTLY TO THE USER!\n",
      "- You can only choose tools from this list:\n",
      "Name: tools_info; Description: Tells about available tools\n",
      "Name: weather; Description: tells current weather\n",
      "Name: news; Description: Searches for current top headlines, by key words and categories\n",
      "Name: calculator; Description: Calculates given expression\n",
      " \n",
      " Sorry I don't see tools here, any questions. ,   ,\n",
      "____________________\n",
      "GPT tied to extract tools but found no valid tools to use\n",
      "None\n"
     ]
    }
   ],
   "source": [
    "# Errors in response format.\n",
    "tools = Tools(gpt_model='')\n",
    "user_message = ''\n",
    "chat_history = ''\n",
    "\n",
    "mock_response = 'what ,weather news, calculator, hi, '\n",
    "\n",
    "with patch('web.app.assistant.tools.openai_chat_request', return_value=[mock_response, token_usage]):\n",
    "    result = await tools.extract_tools(user_message, chat_history)\n",
    "    print(result)\n",
    "    # Only calculator delimeted by comas\n",
    "    assert result == ['calculator']\n",
    "    \n",
    "mock_response = \"Sorry I don't see tools here, any questions. ,   ,\"\n",
    "with patch('web.app.assistant.tools.openai_chat_request', return_value=[mock_response, token_usage]):\n",
    "    result = await tools.extract_tools(user_message, chat_history)\n",
    "    print(result)\n",
    "    \n",
    "    assert result == None"
   ]
  },
  {
   "cell_type": "markdown",
   "metadata": {},
   "source": [
    "##### extract_inputs"
   ]
  },
  {
   "cell_type": "code",
   "execution_count": 22,
   "metadata": {},
   "outputs": [
    {
     "name": "stdout",
     "output_type": "stream",
     "text": [
      "____________________\n",
      "- Input extraction:\n",
      " Function name: weather\n",
      "- Function description: tells current weather\n",
      "- Function inputs: ['location']\n",
      "- Inputs description: Location - city, street or region to check weather\n",
      "- Conversation: |\n",
      "\n",
      "Remember the format! Extract inputs for the described function from the conversation and respond with a JSON file containing inputs.\n",
      "Follow this format:\n",
      "{\n",
      "    \"input_name1\": \"input1\",\n",
      "    \"input_name2\": \"input2\",\n",
      "    ...\n",
      "}\n",
      "Ensure all inputs are in the same sequence as described.\n",
      "If an input has '(optional)' in the description, it can be empty.\n",
      "If there are no inputs in user messages or a required input is missing, your response MUST BE EMPTY.\n",
      "If there are no inputs, leave the input field EMPTY.\n",
      "Analyze the entire chat for input extraction. \n",
      "{\n",
      "    \"location\": \"Riga\"\n",
      "}\n",
      "____________________\n",
      "({'location': 'Riga'}, [])\n",
      "____________________\n",
      "- Input extraction:\n",
      " Function name: news\n",
      "- Function description: Searches for current top headlines, by key words and categories\n",
      "- Function inputs: ['key_words', 'category']\n",
      "- Inputs description: Key words - word or a phrase to search news for. Catogory - you can only select one of these categories: business, entertainment, general, health, science, sports, technology. (optional)\n",
      "- Conversation: |\n",
      "\n",
      "Remember the format! Extract inputs for the described function from the conversation and respond with a JSON file containing inputs.\n",
      "Follow this format:\n",
      "{\n",
      "    \"input_name1\": \"input1\",\n",
      "    \"input_name2\": \"input2\",\n",
      "    ...\n",
      "}\n",
      "Ensure all inputs are in the same sequence as described.\n",
      "If an input has '(optional)' in the description, it can be empty.\n",
      "If there are no inputs in user messages or a required input is missing, your response MUST BE EMPTY.\n",
      "If there are no inputs, leave the input field EMPTY.\n",
      "Analyze the entire chat for input extraction. \n",
      "{\n",
      "    \"key_words\": \"AI\",\n",
      "    \"category\": \"technology\"\n",
      "}\n",
      "____________________\n",
      "({'key_words': 'AI', 'category': 'technology'}, [])\n"
     ]
    }
   ],
   "source": [
    "# Correct inputs in response.\n",
    "tools = Tools(gpt_model='')\n",
    "tool = 'weather'\n",
    "chat_history = ''\n",
    "\n",
    "\n",
    "mock_response = '''\n",
    "{\n",
    "    \"location\": \"Riga\"\n",
    "}'''\n",
    "\n",
    "with patch('web.app.assistant.tools.openai_chat_request', return_value=[mock_response, token_usage]):\n",
    "    result  = await tools.extract_inputs(tool, chat_history)\n",
    "    print(result)\n",
    "\n",
    "    assert result == ({'location': 'Riga'}, [])\n",
    "    \n",
    "tool = 'news'\n",
    "mock_response = '''\n",
    "{\n",
    "    \"key_words\": \"AI\",\n",
    "    \"category\": \"technology\"\n",
    "}'''\n",
    "with patch('web.app.assistant.tools.openai_chat_request', return_value=[mock_response, token_usage]):\n",
    "    result = await tools.extract_inputs(tool, chat_history)\n",
    "    print(result)\n",
    "\n",
    "    assert result == ({\"key_words\": \"AI\", \"category\": \"technology\"}, [])"
   ]
  },
  {
   "cell_type": "code",
   "execution_count": 25,
   "metadata": {},
   "outputs": [
    {
     "name": "stdout",
     "output_type": "stream",
     "text": [
      "____________________\n",
      "- Input extraction:\n",
      " Function name: weather\n",
      "- Function description: tells current weather\n",
      "- Function inputs: ['location']\n",
      "- Inputs description: Location - city, street or region to check weather\n",
      "- Conversation: |\n",
      "\n",
      "Remember the format! Extract inputs for the described function from the conversation and respond with a JSON file containing inputs.\n",
      "Follow this format:\n",
      "{\n",
      "    \"input_name1\": \"input1\",\n",
      "    \"input_name2\": \"input2\",\n",
      "    ...\n",
      "}\n",
      "Ensure all inputs are in the same sequence as described.\n",
      "If an input has '(optional)' in the description, it can be empty.\n",
      "If there are no inputs in user messages or a required input is missing, your response MUST BE EMPTY.\n",
      "If there are no inputs, leave the input field EMPTY.\n",
      "Analyze the entire chat for input extraction. \n",
      "{\n",
      "    \"error\": \"Riga\",\n",
      "    \"what\": \"\"\n",
      "}\n",
      "____________________\n",
      "Required input not found! - location\n",
      "({'location': None}, ['location'])\n",
      "____________________\n",
      "- Input extraction:\n",
      " Function name: news\n",
      "- Function description: Searches for current top headlines, by key words and categories\n",
      "- Function inputs: ['key_words', 'category']\n",
      "- Inputs description: Key words - word or a phrase to search news for. Catogory - you can only select one of these categories: business, entertainment, general, health, science, sports, technology. (optional)\n",
      "- Conversation: |\n",
      "\n",
      "Remember the format! Extract inputs for the described function from the conversation and respond with a JSON file containing inputs.\n",
      "Follow this format:\n",
      "{\n",
      "    \"input_name1\": \"input1\",\n",
      "    \"input_name2\": \"input2\",\n",
      "    ...\n",
      "}\n",
      "Ensure all inputs are in the same sequence as described.\n",
      "If an input has '(optional)' in the description, it can be empty.\n",
      "If there are no inputs in user messages or a required input is missing, your response MUST BE EMPTY.\n",
      "If there are no inputs, leave the input field EMPTY.\n",
      "Analyze the entire chat for input extraction. \n",
      "How to extract inputs?\n",
      "{\n",
      "    \"?\":\"how\"?\n",
      "}\n",
      "____________________\n",
      "Error in input format from GPT Expecting value: line 2 column 1 (char 1)\n",
      "(None, ['key_words'])\n"
     ]
    },
    {
     "ename": "AssertionError",
     "evalue": "",
     "output_type": "error",
     "traceback": [
      "\u001b[1;31m---------------------------------------------------------------------------\u001b[0m",
      "\u001b[1;31mAssertionError\u001b[0m                            Traceback (most recent call last)",
      "Cell \u001b[1;32mIn[25], line 29\u001b[0m\n\u001b[0;32m     26\u001b[0m result \u001b[38;5;241m=\u001b[39m \u001b[38;5;28;01mawait\u001b[39;00m tools\u001b[38;5;241m.\u001b[39mextract_inputs(tool, chat_history)\n\u001b[0;32m     27\u001b[0m \u001b[38;5;28mprint\u001b[39m(result)\n\u001b[1;32m---> 29\u001b[0m \u001b[38;5;28;01massert\u001b[39;00m result \u001b[38;5;241m==\u001b[39m ({\u001b[38;5;124m\"\u001b[39m\u001b[38;5;124mkey_words\u001b[39m\u001b[38;5;124m\"\u001b[39m: \u001b[38;5;28;01mNone\u001b[39;00m, \u001b[38;5;124m\"\u001b[39m\u001b[38;5;124mcategory\u001b[39m\u001b[38;5;124m\"\u001b[39m: \u001b[38;5;28;01mNone\u001b[39;00m}, [\u001b[38;5;124m'\u001b[39m\u001b[38;5;124mcategory\u001b[39m\u001b[38;5;124m'\u001b[39m])\n",
      "\u001b[1;31mAssertionError\u001b[0m: "
     ]
    }
   ],
   "source": [
    "# Invalid response.\n",
    "tools = Tools(gpt_model='')\n",
    "tool = 'weather'\n",
    "chat_history = ''\n",
    "\n",
    "\n",
    "mock_response = '''\n",
    "{\n",
    "    \"error\": \"Riga\",\n",
    "    \"what\": \"\"\n",
    "}'''\n",
    "\n",
    "with patch('web.app.assistant.tools.openai_chat_request', return_value=[mock_response, token_usage]):\n",
    "    result  = await tools.extract_inputs(tool, chat_history)\n",
    "    print(result)\n",
    "    \n",
    "    assert result == ({'location': None}, ['location'])\n",
    "    \n",
    "tool = 'news'\n",
    "mock_response = '''\n",
    "How to extract inputs?\n",
    "{\n",
    "    \"?\":\"how\"?\n",
    "}'''\n",
    "with patch('web.app.assistant.tools.openai_chat_request', return_value=[mock_response, token_usage]):\n",
    "    result = await tools.extract_inputs(tool, chat_history)\n",
    "    print(result)\n",
    "    assert result == ({\"key_words\": None, \"category\": None}, ['category'])\n",
    "    # FIXME ?\n",
    "    assert result == (None, ['key_words'])"
   ]
  },
  {
   "cell_type": "code",
   "execution_count": 33,
   "metadata": {},
   "outputs": [
    {
     "name": "stdout",
     "output_type": "stream",
     "text": [
      "____________________\n",
      "- Input extraction:\n",
      " Function name: weather\n",
      "- Function description: tells current weather\n",
      "- Function inputs: ['location']\n",
      "- Inputs description: Location - city, street or region to check weather\n",
      "- Conversation: |\n",
      "\n",
      "Remember the format! Extract inputs for the described function from the conversation and respond with a JSON file containing inputs.\n",
      "Follow this format:\n",
      "{\n",
      "    \"input_name1\": \"input1\",\n",
      "    \"input_name2\": \"input2\",\n",
      "    ...\n",
      "}\n",
      "Ensure all inputs are in the same sequence as described.\n",
      "If an input has '(optional)' in the description, it can be empty.\n",
      "If there are no inputs in user messages or a required input is missing, your response MUST BE EMPTY.\n",
      "If there are no inputs, leave the input field EMPTY.\n",
      "Analyze the entire chat for input extraction. \n",
      "____________________\n",
      "GPT did not find any inputs!\n",
      "(None, ['location'])\n",
      "____________________\n",
      "- Input extraction:\n",
      " Function name: news\n",
      "- Function description: Searches for current top headlines, by key words and categories\n",
      "- Function inputs: ['key_words', 'category']\n",
      "- Inputs description: Key words - word or a phrase to search news for. Catogory - you can only select one of these categories: business, entertainment, general, health, science, sports, technology. (optional)\n",
      "- Conversation: |\n",
      "\n",
      "Remember the format! Extract inputs for the described function from the conversation and respond with a JSON file containing inputs.\n",
      "Follow this format:\n",
      "{\n",
      "    \"input_name1\": \"input1\",\n",
      "    \"input_name2\": \"input2\",\n",
      "    ...\n",
      "}\n",
      "Ensure all inputs are in the same sequence as described.\n",
      "If an input has '(optional)' in the description, it can be empty.\n",
      "If there are no inputs in user messages or a required input is missing, your response MUST BE EMPTY.\n",
      "If there are no inputs, leave the input field EMPTY.\n",
      "Analyze the entire chat for input extraction. None\n",
      "____________________\n",
      "GPT did not find any inputs!\n",
      "(None, ['key_words'])\n"
     ]
    }
   ],
   "source": [
    "# Empty on None response.\n",
    "tools = Tools(gpt_model='')\n",
    "tool = 'weather'\n",
    "chat_history = ''\n",
    "\n",
    "\n",
    "mock_response = ''\n",
    "\n",
    "with patch('web.app.assistant.tools.openai_chat_request', return_value=[mock_response, token_usage]):\n",
    "    result  = await tools.extract_inputs(tool, chat_history)\n",
    "    print(result)\n",
    "    \n",
    "    assert result == (None, ['location'])\n",
    "    \n",
    "tool = 'news'\n",
    "mock_response = None\n",
    "with patch('web.app.assistant.tools.openai_chat_request', return_value=[mock_response, token_usage]):\n",
    "    result = await tools.extract_inputs(tool, chat_history)\n",
    "    print(result)\n",
    "    assert result == (None, ['key_words'])"
   ]
  },
  {
   "cell_type": "code",
   "execution_count": 34,
   "metadata": {},
   "outputs": [
    {
     "name": "stdout",
     "output_type": "stream",
     "text": [
      "____________________\n",
      "- Input extraction:\n",
      " Function name: news\n",
      "- Function description: Searches for current top headlines, by key words and categories\n",
      "- Function inputs: ['key_words', 'category']\n",
      "- Inputs description: Key words - word or a phrase to search news for. Catogory - you can only select one of these categories: business, entertainment, general, health, science, sports, technology. (optional)\n",
      "- Conversation: |\n",
      "\n",
      "Remember the format! Extract inputs for the described function from the conversation and respond with a JSON file containing inputs.\n",
      "Follow this format:\n",
      "{\n",
      "    \"input_name1\": \"input1\",\n",
      "    \"input_name2\": \"input2\",\n",
      "    ...\n",
      "}\n",
      "Ensure all inputs are in the same sequence as described.\n",
      "If an input has '(optional)' in the description, it can be empty.\n",
      "If there are no inputs in user messages or a required input is missing, your response MUST BE EMPTY.\n",
      "If there are no inputs, leave the input field EMPTY.\n",
      "Analyze the entire chat for input extraction. \n",
      "{\n",
      "    \"category\": \"technology\"\n",
      "}\n",
      "\n",
      "____________________\n",
      "Required input not found! - key_words\n",
      "({'key_words': None, 'category': 'technology'}, ['key_words'])\n"
     ]
    }
   ],
   "source": [
    "# Only optional input in response.\n",
    "tools = Tools(gpt_model='')\n",
    "tool = 'news'\n",
    "mock_response = '''\n",
    "{\n",
    "    \"category\": \"technology\"\n",
    "}\n",
    "'''\n",
    "with patch('web.app.assistant.tools.openai_chat_request', return_value=[mock_response, token_usage]):\n",
    "    result = await tools.extract_inputs(tool, chat_history)\n",
    "    print(result)\n",
    "    assert result == ({\"key_words\": None, \"category\": \"technology\"}, ['key_words'])"
   ]
  },
  {
   "cell_type": "markdown",
   "metadata": {},
   "source": [
    "##### ask_for_inputs"
   ]
  },
  {
   "cell_type": "code",
   "execution_count": 47,
   "metadata": {},
   "outputs": [
    {
     "name": "stdout",
     "output_type": "stream",
     "text": [
      "____________________\n",
      "- Asking for inputs:\n",
      "Tool result:\n",
      " None \n",
      "Metadata:\n",
      " {'type': 'input_request', 'tool': 'news', 'found_inputs': {'category': 'technology'}, 'missing_inputs': ['key_words'], 'inputs_description': 'Key words - word or a phrase to search news for. Catogory - you can only select one of these categories: business, entertainment, general, health, science, sports, technology. (optional)'}\n",
      "____________________\n",
      "None\n",
      "{\n",
      "  \"type\": \"input_request\",\n",
      "  \"tool\": \"news\",\n",
      "  \"found_inputs\": {\n",
      "    \"category\": \"technology\"\n",
      "  },\n",
      "  \"missing_inputs\": [\n",
      "    \"key_words\"\n",
      "  ],\n",
      "  \"inputs_description\": \"Key words - word or a phrase to search news for. Catogory - you can only select one of these categories: business, entertainment, general, health, science, sports, technology. (optional)\"\n",
      "}\n"
     ]
    }
   ],
   "source": [
    "tools = Tools(gpt_model='')\n",
    "tool_name = 'news'\n",
    "missing_inputs = ['key_words']\n",
    "inputs = {'category': 'technology'}\n",
    "\n",
    "tool_result, metadata = tools.ask_for_inputs(tool_name, missing_inputs, inputs)\n",
    "print(tool_result)\n",
    "print(json.dumps(metadata, indent=2))\n"
   ]
  },
  {
   "cell_type": "code",
   "execution_count": 46,
   "metadata": {},
   "outputs": [
    {
     "name": "stdout",
     "output_type": "stream",
     "text": [
      "____________________\n",
      "- Asking for inputs:\n",
      "Tool result:\n",
      " None \n",
      "Metadata:\n",
      " {'type': 'input_request', 'tool': 'news', 'found_inputs': {'key_words': '', 'category': ''}, 'missing_inputs': ['key_words'], 'inputs_description': 'Key words - word or a phrase to search news for. Catogory - you can only select one of these categories: business, entertainment, general, health, science, sports, technology. (optional)'}\n",
      "____________________\n",
      "None\n",
      "{\n",
      "  \"type\": \"input_request\",\n",
      "  \"tool\": \"news\",\n",
      "  \"found_inputs\": {\n",
      "    \"key_words\": \"\",\n",
      "    \"category\": \"\"\n",
      "  },\n",
      "  \"missing_inputs\": [\n",
      "    \"key_words\"\n",
      "  ],\n",
      "  \"inputs_description\": \"Key words - word or a phrase to search news for. Catogory - you can only select one of these categories: business, entertainment, general, health, science, sports, technology. (optional)\"\n",
      "}\n"
     ]
    }
   ],
   "source": [
    "tools = Tools(gpt_model='')\n",
    "tool_name = 'news'\n",
    "missing_inputs = ['key_words']\n",
    "inputs = None\n",
    "\n",
    "tool_result, metadata = tools.ask_for_inputs(tool_name, missing_inputs, inputs)\n",
    "print(tool_result)\n",
    "print(json.dumps(metadata, indent=2))"
   ]
  },
  {
   "cell_type": "markdown",
   "metadata": {},
   "source": [
    "##### run_tools"
   ]
  },
  {
   "cell_type": "code",
   "execution_count": null,
   "metadata": {},
   "outputs": [],
   "source": [
    "import web.app.assistant.Tools.tools_functions"
   ]
  },
  {
   "cell_type": "code",
   "execution_count": 58,
   "metadata": {},
   "outputs": [
    {
     "name": "stdout",
     "output_type": "stream",
     "text": [
      "Here is tools list:\n",
      "Name: tools_info; Description: Tells about available tools; Inputs: []\n",
      "Name: weather; Description: tells current weather; Inputs: ['location']\n",
      "Name: news; Description: Searches for current top headlines, by key words and categories; Inputs: ['key_words', 'category']\n",
      "Name: calculator; Description: Calculates given expression; Inputs: ['expression']\n",
      "\n",
      "{\n",
      "  \"type\": \"tool_result\",\n",
      "  \"tool\": \"tools_info\"\n",
      "}\n"
     ]
    }
   ],
   "source": [
    "# Run tools that doesn't need input.\n",
    "tools = Tools(gpt_model='')\n",
    "tools_list = ['tools_info']\n",
    "inputs = None\n",
    "\n",
    "result, metadata = await tools.run_tools(tools_list, inputs)\n",
    "\n",
    "\n",
    "print(result)\n",
    "print(json.dumps(metadata, indent=2))\n",
    "assert result == tools_info()\n",
    "assert metadata ==  {\"type\": \"tool_result\", \"tool\": \"tools_info\"}"
   ]
  },
  {
   "cell_type": "code",
   "execution_count": null,
   "metadata": {},
   "outputs": [],
   "source": [
    "# Run tools that need inputs.\n",
    "tools = Tools(gpt_model='')\n",
    "tools_list = ['weather']\n",
    "inputs = None\n",
    "\n",
    "result, metadata = await tools.run_tools(tools_list, inputs)\n",
    "\n",
    "\n",
    "print(result)\n",
    "print(json.dumps(metadata, indent=2))\n",
    "assert result == tools_info()\n",
    "assert metadata ==  {\"type\": \"tool_result\", \"tool\": \"tools_info\"}"
   ]
  },
  {
   "cell_type": "markdown",
   "metadata": {},
   "source": [
    "# Tests"
   ]
  },
  {
   "cell_type": "code",
   "execution_count": 20,
   "metadata": {},
   "outputs": [
    {
     "name": "stdout",
     "output_type": "stream",
     "text": [
      "Tools\n",
      "508\n"
     ]
    }
   ],
   "source": [
    "tokens_used = {'Tools': {'prompt_tokens': 508, 'completion_tokens': 18, 'total_tokens': 526},\n",
    "'Profiler': {\n",
    "  \"prompt_tokens\": 440,\n",
    "  \"completion_tokens\": 16,\n",
    "  \"total_tokens\": 456,\n",
    "  \"prompt_tokens_details\": {\n",
    "    \"cached_tokens\": 0\n",
    "  },\n",
    "  \"completion_tokens_details\": {\n",
    "    \"reasoning_tokens\": 0\n",
    "  }\n",
    "}, 'Journal': {\n",
    "  \"prompt_tokens\": 139,\n",
    "  \"completion_tokens\": 25,\n",
    "  \"total_tokens\": 164,\n",
    "  \"prompt_tokens_details\": {\n",
    "    \"cached_tokens\": 0\n",
    "  },\n",
    "  \"completion_tokens_details\": {\n",
    "    \"reasoning_tokens\": 0\n",
    "  }\n",
    "}, 'Responder': {}}\n",
    "for module in tokens_used:\n",
    "    if len(tokens_used[module]) != 0:\n",
    "        if tokens_used[module]['total_tokens'] != 0:\n",
    "            if module == 'Tools':\n",
    "                print(module)\n",
    "                print(tokens_used[module]['prompt_tokens'])"
   ]
  },
  {
   "cell_type": "code",
   "execution_count": 21,
   "metadata": {},
   "outputs": [
    {
     "ename": "SyntaxError",
     "evalue": "invalid syntax (3842095084.py, line 2)",
     "output_type": "error",
     "traceback": [
      "\u001b[1;36m  Cell \u001b[1;32mIn[21], line 2\u001b[1;36m\u001b[0m\n\u001b[1;33m    a.\u001b[0m\n\u001b[1;37m      ^\u001b[0m\n\u001b[1;31mSyntaxError\u001b[0m\u001b[1;31m:\u001b[0m invalid syntax\n"
     ]
    }
   ],
   "source": [
    "a = ['nigga']\n",
    "a."
   ]
  }
 ],
 "metadata": {
  "kernelspec": {
   "display_name": ".venv",
   "language": "python",
   "name": "python3"
  },
  "language_info": {
   "codemirror_mode": {
    "name": "ipython",
    "version": 3
   },
   "file_extension": ".py",
   "mimetype": "text/x-python",
   "name": "python",
   "nbconvert_exporter": "python",
   "pygments_lexer": "ipython3",
   "version": "3.11.4"
  }
 },
 "nbformat": 4,
 "nbformat_minor": 2
}
