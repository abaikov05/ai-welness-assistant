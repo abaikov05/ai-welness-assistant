{
 "cells": [
  {
   "cell_type": "code",
   "execution_count": 4,
   "metadata": {},
   "outputs": [],
   "source": [
    "from unittest.mock import patch"
   ]
  },
  {
   "cell_type": "markdown",
   "metadata": {},
   "source": [
    "### Emotional journal tests"
   ]
  },
  {
   "cell_type": "code",
   "execution_count": 2,
   "metadata": {},
   "outputs": [],
   "source": [
    "from web.app.assistant.emotional_journal import *\n",
    "import datetime"
   ]
  },
  {
   "cell_type": "code",
   "execution_count": 3,
   "metadata": {},
   "outputs": [
    {
     "name": "stdout",
     "output_type": "stream",
     "text": [
      "____________________\n",
      "--- Journal prompt:\n",
      " Conversation:|\n",
      "Hi\n",
      "How can I assist| \n",
      "--- Journal update response:\n",
      " {\"emotion\": 100}\n",
      "____________________\n",
      "Result:  ({'emotion': 100}, 1, datetime.date(2024, 10, 8), 'token usage')\n"
     ]
    }
   ],
   "source": [
    "# New journal update\n",
    "date = date.today()\n",
    "journal = '{}'\n",
    "updates_count = 0\n",
    "journal_date = date\n",
    "gpt_model = ''\n",
    "\n",
    "journal = EmotionalJournal(journal, updates_count, journal_date, date, gpt_model)\n",
    "\n",
    "mock_response = '{\"emotion\": 100}'\n",
    "chat = ['Hi', 'How can I assist']\n",
    "\n",
    "with patch('web.app.assistant.emotional_journal.openai_chat_request', return_value=[mock_response, 'token usage']):\n",
    "    result = await journal.update_journal(chat)\n",
    "    print(\"Result: \", result)\n",
    "    assert result == ({\"emotion\": 100}, 1, date, \"token usage\")"
   ]
  },
  {
   "cell_type": "code",
   "execution_count": 4,
   "metadata": {},
   "outputs": [
    {
     "name": "stdout",
     "output_type": "stream",
     "text": [
      "____________________\n",
      "--- Journal prompt:\n",
      " Conversation:|\n",
      "Hi| \n",
      "--- Journal update response:\n",
      " {\"emotion\": 50, \"emotion2\": 50}\n",
      "____________________\n",
      "Result:  ({'emotion': 75.0, 'emotion2': 25.0}, 2, datetime.date(2024, 10, 8), 'token usage')\n"
     ]
    }
   ],
   "source": [
    "#Update of exisiting journal with new and exsisting emotion\n",
    "date = date.today()\n",
    "journal = '{\"emotion\": 100}'\n",
    "updates_count = 1\n",
    "journal_date = date\n",
    "gpt_model = ''\n",
    "\n",
    "journal = EmotionalJournal(journal, updates_count, journal_date, date, gpt_model)\n",
    "\n",
    "mock_response = '{\"emotion\": 50, \"emotion2\": 50}'\n",
    "chat = ['Hi']\n",
    "    \n",
    "with patch('web.app.assistant.emotional_journal.openai_chat_request', return_value=[mock_response, 'token usage']):\n",
    "    result = await journal.update_journal(chat)\n",
    "    print(\"Result: \", result)\n",
    "    # e1 = (100 + 50) / 2 = 75\n",
    "    # e2 = 50 / 2 = 25\n",
    "    assert result == ({\"emotion\": 75, \"emotion2\": 25}, 2, date, 'token usage')\n"
   ]
  },
  {
   "cell_type": "code",
   "execution_count": 5,
   "metadata": {},
   "outputs": [
    {
     "name": "stdout",
     "output_type": "stream",
     "text": [
      "____________________\n",
      "--- Journal prompt:\n",
      " Conversation:|\n",
      "Hi| \n",
      "--- Journal update response:\n",
      " {}\n",
      "____________________\n",
      "Result:  (None, None, None, 'token usage')\n"
     ]
    }
   ],
   "source": [
    "#Empty response fronm GPT\n",
    "date = date.today()\n",
    "journal = '{}'\n",
    "updates_count = 0\n",
    "journal_date = date\n",
    "gpt_model = ''\n",
    "\n",
    "journal = EmotionalJournal(journal, updates_count, journal_date, date, gpt_model)\n",
    "\n",
    "mock_response = '{}'\n",
    "chat = ['Hi']\n",
    "    \n",
    "with patch('web.app.assistant.emotional_journal.openai_chat_request', return_value=[mock_response, 'token usage']):\n",
    "    result = await journal.update_journal(chat)\n",
    "    print(\"Result: \", result)\n",
    "    assert result == (None, None, None, 'token usage')"
   ]
  },
  {
   "cell_type": "code",
   "execution_count": 6,
   "metadata": {},
   "outputs": [
    {
     "name": "stdout",
     "output_type": "stream",
     "text": [
      "____________________\n",
      "--- Journal prompt:\n",
      " Conversation:|\n",
      "Hi| \n",
      "--- Journal update response:\n",
      " {\"e\": 30, \"e4\": 5}\n",
      "____________________\n",
      "1. Result:  ({'e': 16.67, 'e2': 10.0, 'e3': 41.67, 'e4': 1.67}, 3, datetime.date(2024, 10, 8), 'token usage')\n",
      "____________________\n",
      "--- Journal prompt:\n",
      " Conversation:|\n",
      "Hi| \n",
      "--- Journal update response:\n",
      " {\"e2\": 20}\n",
      "____________________\n",
      "2. Result:  ({'e': 12.5, 'e2': 12.5, 'e3': 31.25, 'e4': 1.25}, 4, datetime.date(2024, 10, 8), 'token usage')\n",
      "____________________\n",
      "--- Journal prompt:\n",
      " Conversation:|\n",
      "Hi| \n",
      "--- Journal update response:\n",
      " {\"e5\": 100}\n",
      "____________________\n",
      "3. Result:  ({'e': 10.0, 'e2': 10.0, 'e3': 25.0, 'e4': 1.0, 'e5': 20.0}, 5, datetime.date(2024, 10, 8), 'token usage')\n"
     ]
    }
   ],
   "source": [
    "# Multiple updates of existing journal\n",
    "date = date.today()\n",
    "journal = '{\"e\": 10, \"e2\": 15, \"e3\": 62.5}'\n",
    "updates_count = 2\n",
    "journal_date = date\n",
    "gpt_model = ''\n",
    "\n",
    "journal = EmotionalJournal(journal, updates_count, journal_date, date, gpt_model)\n",
    "\n",
    "mock_response = '{\"e\": 30, \"e4\": 5}'\n",
    "chat = ['Hi']\n",
    "    \n",
    "with patch('web.app.assistant.emotional_journal.openai_chat_request', return_value=[mock_response, 'token usage']):\n",
    "    result = await journal.update_journal(chat)\n",
    "    print(\"1. Result: \", result)\n",
    "    journal, updates_count, journal_date, token_usege = result\n",
    "\n",
    "mock_response = '{\"e2\": 20}'\n",
    "with patch('web.app.assistant.emotional_journal.openai_chat_request', return_value=[mock_response, 'token usage']): \n",
    "    journal = EmotionalJournal(json.dumps(journal), updates_count, journal_date, date, gpt_model)\n",
    "    result = await journal.update_journal(chat)\n",
    "    print(\"2. Result: \", result)\n",
    "    journal, updates_count, journal_date, token_usege = result\n",
    "    \n",
    "mock_response = '{\"e5\": 100}'\n",
    "with patch('web.app.assistant.emotional_journal.openai_chat_request', return_value=[mock_response, 'token usage']): \n",
    "    journal = EmotionalJournal(json.dumps(journal), updates_count, journal_date, date, gpt_model)\n",
    "    result = await journal.update_journal(chat)\n",
    "    print(\"3. Result: \", result)\n",
    "    \n",
    "# e = (10*2 + 30) / 5 = 10\n",
    "# e2 (15*2 + 10) / 5 = 10\n",
    "# e3 (60*2) / 5 = 25\n",
    "# e4 5/5\n",
    "# e5 100 /5\n",
    "assert result == ({'e': 10.0, 'e2': 10.0, 'e3': 25.0, 'e4': 1.0, 'e5': 20.0}, 5, date, 'token usage')"
   ]
  },
  {
   "cell_type": "code",
   "execution_count": 7,
   "metadata": {},
   "outputs": [
    {
     "name": "stdout",
     "output_type": "stream",
     "text": [
      "____________________\n",
      "--- Journal prompt:\n",
      " Conversation:|\n",
      "Hi\n",
      "How can I assist| \n",
      "--- Journal update response:\n",
      " {\"e\": -1, \"e1\": 10}\n",
      "____________________\n",
      "Result:  ({'e': 25.0, 'e1': 5.0}, 2, datetime.date(2024, 10, 8), 'token usage')\n"
     ]
    }
   ],
   "source": [
    "# Update journal with 1 invalid value in response\n",
    "date = date.today()\n",
    "journal = '{\"e\": 50}'\n",
    "updates_count = 1\n",
    "journal_date = date\n",
    "gpt_model = ''\n",
    "\n",
    "Journal = EmotionalJournal(journal, updates_count, journal_date, date, gpt_model)\n",
    "\n",
    "mock_response = '{\"e\": -1, \"e1\": 10}'\n",
    "chat = ['Hi', 'How can I assist']\n",
    "\n",
    "with patch('web.app.assistant.emotional_journal.openai_chat_request', return_value=[mock_response, 'token usage']):\n",
    "    result = await Journal.update_journal(chat)\n",
    "    print(\"Result: \", result)\n",
    "    assert result == ({'e': 25.0, 'e1': 5.0}, 2, date, 'token usage')"
   ]
  },
  {
   "cell_type": "code",
   "execution_count": 8,
   "metadata": {},
   "outputs": [
    {
     "name": "stdout",
     "output_type": "stream",
     "text": [
      "____________________\n",
      "--- Journal prompt:\n",
      " Conversation:|\n",
      "Hi\n",
      "How can I assist| \n",
      "--- Journal update response:\n",
      " {\"e\": -1, \"e1\": 101, \"e3\": 100.1, \"2e\": -0.1}\n",
      "____________________\n",
      "Result:  (None, None, None, 'token usage')\n"
     ]
    }
   ],
   "source": [
    "# Update journal with all invalid values in response\n",
    "date = date.today()\n",
    "journal = '{\"e\": 10, \"e2\": \"20\"}'\n",
    "updates_count = 3\n",
    "journal_date = date\n",
    "gpt_model = ''\n",
    "\n",
    "Journal = EmotionalJournal(journal, updates_count, journal_date, date, gpt_model)\n",
    "\n",
    "mock_response = '{\"e\": -1, \"e1\": 101, \"e3\": 100.1, \"2e\": -0.1}'\n",
    "chat = ['Hi', 'How can I assist']\n",
    "\n",
    "with patch('web.app.assistant.emotional_journal.openai_chat_request', return_value=[mock_response, 'token usage']):\n",
    "    result = await Journal.update_journal(chat)\n",
    "    print(\"Result: \", result)\n",
    "    assert result == (None, None, None, 'token usage')"
   ]
  },
  {
   "cell_type": "markdown",
   "metadata": {},
   "source": [
    "### User profiler tests"
   ]
  },
  {
   "cell_type": "code",
   "execution_count": 21,
   "metadata": {},
   "outputs": [],
   "source": [
    "from web.app.assistant.user_profile import *"
   ]
  },
  {
   "cell_type": "code",
   "execution_count": 22,
   "metadata": {},
   "outputs": [
    {
     "name": "stdout",
     "output_type": "stream",
     "text": [
      "- Profiler prompts:\n",
      " Your task is to update or generate a user profile from recent chat.\n",
      "Provide concise entries for user preferences, likes, dislikes, and key aspects of the user's personality.\n",
      "Your response should be short but descriptive, focusing on the most useful data for understanding the user.\n",
      "- If no changes need to be made to the user profile, your response is empty.\n",
      "- Don't duplicate the old profile; your response should only include updates.\n",
      "- To change an entire entry, respond with {\"number\": \"Changed text of this element\"}\n",
      "NEVER RESPOND DIRECTLY TO THE USER!\n",
      "Follow this JSON format:\n",
      "{\n",
      "    \"1\": \"Changed text describing the first element\",\n",
      "    \"2\": \"Changed text describing the second element\"\n",
      "}\n",
      " PREVIOUS USER PROFILE:|\n",
      "{}|\n",
      "CHAT HISTORY:|\n",
      "User: Hi\n",
      "Assistant: How can I help|\n",
      "Last user message: help me\n",
      "Remember format: {{\"number\": \"Changed text of this element\", \"number\": \"Changed text of this element\"}}\n",
      "- Generated user prifile changes: {\"0\" : \"Likes this\", \"1\" : \"Dislikes this\"} \n",
      " ____________________________________________________________________________________________________\n",
      "Last profile:\n",
      " {}\n",
      "New profile:\n",
      " {'0': 'Likes this', '1': 'Dislikes this'}\n",
      "Result:  (['Likes this', 'Dislikes this'], 'token usage')\n"
     ]
    }
   ],
   "source": [
    "# New profile change\n",
    "user_profile = '[]'\n",
    "gpt_model = ''\n",
    "\n",
    "profile = Profile(user_profile, gpt_model)\n",
    "\n",
    "mock_response = '{\"0\" : \"Likes this\", \"1\" : \"Dislikes this\"}'\n",
    "chat = ['User: Hi', 'Assistant: How can I help']\n",
    "message = \"help me\"\n",
    "\n",
    "with patch('web.app.assistant.user_profile.openai_chat_request', return_value=[mock_response, 'token usage']):\n",
    "    result = await profile.update_user_profile(previous_messages=chat, user_message=message)\n",
    "    print(\"Result: \", result)\n",
    "    assert result == (['Likes this', 'Dislikes this'], 'token usage')"
   ]
  },
  {
   "cell_type": "code",
   "execution_count": 23,
   "metadata": {},
   "outputs": [
    {
     "name": "stdout",
     "output_type": "stream",
     "text": [
      "- Profiler prompts:\n",
      " Your task is to update or generate a user profile from recent chat.\n",
      "Provide concise entries for user preferences, likes, dislikes, and key aspects of the user's personality.\n",
      "Your response should be short but descriptive, focusing on the most useful data for understanding the user.\n",
      "- If no changes need to be made to the user profile, your response is empty.\n",
      "- Don't duplicate the old profile; your response should only include updates.\n",
      "- To change an entire entry, respond with {\"number\": \"Changed text of this element\"}\n",
      "NEVER RESPOND DIRECTLY TO THE USER!\n",
      "Follow this JSON format:\n",
      "{\n",
      "    \"1\": \"Changed text describing the first element\",\n",
      "    \"2\": \"Changed text describing the second element\"\n",
      "}\n",
      " PREVIOUS USER PROFILE:|\n",
      "{\"0\": \"likes\", \"1\": \"dislikes\"}|\n",
      "CHAT HISTORY:|\n",
      "User: Hi\n",
      "Assistant: How can I help|\n",
      "Last user message: help me\n",
      "Remember format: {{\"number\": \"Changed text of this element\", \"number\": \"Changed text of this element\"}}\n",
      "- Generated user prifile changes: {\"2\" : \"loves\", \"3\" : \"hates\"} \n",
      " ____________________________________________________________________________________________________\n",
      "Last profile:\n",
      " {'0': 'likes', '1': 'dislikes'}\n",
      "New profile:\n",
      " {'0': 'likes', '1': 'dislikes', '2': 'loves', '3': 'hates'}\n",
      "Result:  (['likes', 'dislikes', 'loves', 'hates'], 'token usage')\n"
     ]
    }
   ],
   "source": [
    "# Update existing profile with new entires\n",
    "user_profile = '[\"likes\",\"dislikes\"]'\n",
    "gpt_model = ''\n",
    "\n",
    "profile = Profile(user_profile, gpt_model)\n",
    "\n",
    "mock_response = '{\"2\" : \"loves\", \"3\" : \"hates\"}'\n",
    "chat = ['User: Hi', 'Assistant: How can I help']\n",
    "message = \"help me\"\n",
    "\n",
    "with patch('web.app.assistant.user_profile.openai_chat_request', return_value=[mock_response, 'token usage']):\n",
    "    result = await profile.update_user_profile(previous_messages=chat, user_message=message)\n",
    "    print(\"Result: \", result)\n",
    "    assert result == (['likes', 'dislikes', 'loves', 'hates'], 'token usage')"
   ]
  },
  {
   "cell_type": "code",
   "execution_count": 24,
   "metadata": {},
   "outputs": [
    {
     "name": "stdout",
     "output_type": "stream",
     "text": [
      "- Profiler prompts:\n",
      " Your task is to update or generate a user profile from recent chat.\n",
      "Provide concise entries for user preferences, likes, dislikes, and key aspects of the user's personality.\n",
      "Your response should be short but descriptive, focusing on the most useful data for understanding the user.\n",
      "- If no changes need to be made to the user profile, your response is empty.\n",
      "- Don't duplicate the old profile; your response should only include updates.\n",
      "- To change an entire entry, respond with {\"number\": \"Changed text of this element\"}\n",
      "NEVER RESPOND DIRECTLY TO THE USER!\n",
      "Follow this JSON format:\n",
      "{\n",
      "    \"1\": \"Changed text describing the first element\",\n",
      "    \"2\": \"Changed text describing the second element\"\n",
      "}\n",
      " PREVIOUS USER PROFILE:|\n",
      "{\"0\": \"likes\", \"1\": \"dislikes\"}|\n",
      "CHAT HISTORY:|\n",
      "User: Hi\n",
      "Assistant: How can I help|\n",
      "Last user message: help me\n",
      "Remember format: {{\"number\": \"Changed text of this element\", \"number\": \"Changed text of this element\"}}\n",
      "- Generated user prifile changes: {\"0\" : \"\", \"1\" : \"dislikes likes\", \"2\": \"wow new\", \"4\": \"cool\"} \n",
      " ____________________________________________________________________________________________________\n",
      "Last profile:\n",
      " {'0': 'likes', '1': 'dislikes'}\n",
      "New profile:\n",
      " {'0': '', '1': 'dislikes likes', '2': 'wow new', '4': 'cool'}\n",
      "Result:  (['dislikes likes', 'wow new', 'cool'], 'token usage')\n"
     ]
    }
   ],
   "source": [
    "# Update existing profile with new entires + changing and deleting existing entries\n",
    "user_profile = '[\"likes\",\"dislikes\"]'\n",
    "gpt_model = ''\n",
    "\n",
    "profile = Profile(user_profile, gpt_model)\n",
    "\n",
    "mock_response = '{\"0\" : \"\", \"1\" : \"dislikes likes\", \"2\": \"wow new\", \"4\": \"cool\"}'\n",
    "chat = ['User: Hi', 'Assistant: How can I help']\n",
    "message = \"help me\"\n",
    "\n",
    "with patch('web.app.assistant.user_profile.openai_chat_request', return_value=[mock_response, 'token usage']):\n",
    "    result = await profile.update_user_profile(previous_messages=chat, user_message=message)\n",
    "    print(\"Result: \", result)\n",
    "    assert result == (['dislikes likes', 'wow new', 'cool'], 'token usage')"
   ]
  },
  {
   "cell_type": "code",
   "execution_count": 29,
   "metadata": {},
   "outputs": [
    {
     "name": "stdout",
     "output_type": "stream",
     "text": [
      "- Profiler prompts:\n",
      " Your task is to update or generate a user profile from recent chat.\n",
      "Provide concise entries for user preferences, likes, dislikes, and key aspects of the user's personality.\n",
      "Your response should be short but descriptive, focusing on the most useful data for understanding the user.\n",
      "- If no changes need to be made to the user profile, your response is empty.\n",
      "- Don't duplicate the old profile; your response should only include updates.\n",
      "- To change an entire entry, respond with {\"number\": \"Changed text of this element\"}\n",
      "NEVER RESPOND DIRECTLY TO THE USER!\n",
      "Follow this JSON format:\n",
      "{\n",
      "    \"1\": \"Changed text describing the first element\",\n",
      "    \"2\": \"Changed text describing the second element\"\n",
      "}\n",
      " PREVIOUS USER PROFILE:|\n",
      "{\"0\": \"likes\", \"1\": \"dislikes\"}|\n",
      "CHAT HISTORY:|\n",
      "User: Hi\n",
      "Assistant: How can I help|\n",
      "Last user message: help me''\n",
      "Remember format: {{\"number\": \"Changed text of this element\", \"number\": \"Changed text of this element\"}}\n",
      "- Generated user prifile changes: {\"1a\" : \"232424\", \"b345\" : \"dislikes likes\", \"2\": \"new\"} \n",
      " ____________________________________________________________________________________________________\n",
      "Last profile:\n",
      " {'0': 'likes', '1': 'dislikes'}\n",
      "New profile:\n",
      " {'0': 'likes', '1': 'dislikes', '2': 'new'}\n",
      "Result:  (['likes', 'dislikes', 'new'], 'token usage')\n"
     ]
    }
   ],
   "source": [
    "# Error in keys from response\n",
    "user_profile = '[\"likes\",\"dislikes\"]'\n",
    "gpt_model = ''\n",
    "\n",
    "profile = Profile(user_profile, gpt_model)\n",
    "\n",
    "mock_response = '{\"1a\" : \"232424\", \"b345\" : \"dislikes likes\", \"2\": \"new\"}'\n",
    "chat = ['User: Hi', 'Assistant: How can I help']\n",
    "message = \"help me\"\n",
    "\n",
    "with patch('web.app.assistant.user_profile.openai_chat_request', return_value=[mock_response, 'token usage']):\n",
    "    result = await profile.update_user_profile(previous_messages=chat, user_message=message)\n",
    "    print(\"Result: \", result)\n",
    "    assert result == (['likes', 'dislikes', 'new'], 'token usage')"
   ]
  },
  {
   "cell_type": "code",
   "execution_count": 28,
   "metadata": {},
   "outputs": [
    {
     "name": "stdout",
     "output_type": "stream",
     "text": [
      "- Profiler prompts:\n",
      " Your task is to update or generate a user profile from recent chat.\n",
      "Provide concise entries for user preferences, likes, dislikes, and key aspects of the user's personality.\n",
      "Your response should be short but descriptive, focusing on the most useful data for understanding the user.\n",
      "- If no changes need to be made to the user profile, your response is empty.\n",
      "- Don't duplicate the old profile; your response should only include updates.\n",
      "- To change an entire entry, respond with {\"number\": \"Changed text of this element\"}\n",
      "NEVER RESPOND DIRECTLY TO THE USER!\n",
      "Follow this JSON format:\n",
      "{\n",
      "    \"1\": \"Changed text describing the first element\",\n",
      "    \"2\": \"Changed text describing the second element\"\n",
      "}\n",
      " PREVIOUS USER PROFILE:|\n",
      "{\"0\": \"no changes no output\"}|\n",
      "CHAT HISTORY:|\n",
      "User: Hi\n",
      "Assistant: How can I help|\n",
      "Last user message: help me\n",
      "Remember format: {{\"number\": \"Changed text of this element\", \"number\": \"Changed text of this element\"}}\n",
      "- Generated user prifile changes: {\"1\": \"\"here is an error\", \"2\": \"correct\"} \n",
      " ____________________________________________________________________________________________________\n",
      "Error in generated user profile format Expecting ',' delimiter: line 1 column 9 (char 8)\n",
      "Last profile:\n",
      " {'0': 'no changes no output'}\n",
      "GPT tried to update profile but no changes were made!\n",
      "Result:  (None, 'token usage')\n"
     ]
    }
   ],
   "source": [
    "# Error in response format\n",
    "user_profile = '[\"hi\"]'\n",
    "gpt_model = ''\n",
    "\n",
    "profile = Profile(user_profile, gpt_model)\n",
    "\n",
    "mock_response = '{\"1\": \"\"here is an error\", \"2\": \"correct\"}'\n",
    "chat = ['User: Hi', 'Assistant: How can I help']\n",
    "message = \"help me\"\n",
    "\n",
    "with patch('web.app.assistant.user_profile.openai_chat_request', return_value=[mock_response, 'token usage']):\n",
    "    result = await profile.update_user_profile(previous_messages=chat, user_message=message)\n",
    "    print(\"Result: \", result)\n",
    "    assert result == (None, 'token usage')"
   ]
  }
 ],
 "metadata": {
  "kernelspec": {
   "display_name": ".venv",
   "language": "python",
   "name": "python3"
  },
  "language_info": {
   "codemirror_mode": {
    "name": "ipython",
    "version": 3
   },
   "file_extension": ".py",
   "mimetype": "text/x-python",
   "name": "python",
   "nbconvert_exporter": "python",
   "pygments_lexer": "ipython3",
   "version": "3.11.4"
  }
 },
 "nbformat": 4,
 "nbformat_minor": 2
}
