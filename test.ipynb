{
 "cells": [
  {
   "cell_type": "code",
   "execution_count": 1,
   "metadata": {},
   "outputs": [],
   "source": [
    "from unittest.mock import patch"
   ]
  },
  {
   "cell_type": "markdown",
   "metadata": {},
   "source": [
    "### Emotional journal tests"
   ]
  },
  {
   "cell_type": "code",
   "execution_count": 6,
   "metadata": {},
   "outputs": [],
   "source": [
    "from web.app.assistant.emotional_journal import *\n",
    "import datetime"
   ]
  },
  {
   "cell_type": "code",
   "execution_count": 7,
   "metadata": {},
   "outputs": [
    {
     "name": "stdout",
     "output_type": "stream",
     "text": [
      "____________________\n",
      "--- Journal prompt:\n",
      " Conversation:|\n",
      "Hi\n",
      "How can I assist| \n",
      "--- Journal_update_result:\n",
      " {\"emotion\": 100}\n",
      "____________________\n",
      "Result:  ({'emotion': 100}, 1, datetime.date(2024, 10, 3), 'token usage')\n"
     ]
    }
   ],
   "source": [
    "# New journal update\n",
    "date = date.today()\n",
    "journal = '{}'\n",
    "updates_count = 0\n",
    "journal_date = date\n",
    "gpt_model = ''\n",
    "\n",
    "journal = EmotionalJournal(journal, updates_count, journal_date, date, gpt_model)\n",
    "\n",
    "mock_response = '{\"emotion\": 100}'\n",
    "chat = ['Hi', 'How can I assist']\n",
    "\n",
    "with patch('web.app.assistant.emotional_journal.openai_chat_request', return_value=[mock_response, 'token usage']):\n",
    "    result = await journal.update_journal(chat)\n",
    "    print(\"Result: \", result)\n",
    "    assert result == ({\"emotion\": 100}, 1, date, \"token usage\")"
   ]
  },
  {
   "cell_type": "code",
   "execution_count": 8,
   "metadata": {},
   "outputs": [
    {
     "name": "stdout",
     "output_type": "stream",
     "text": [
      "____________________\n",
      "--- Journal prompt:\n",
      " Conversation:|\n",
      "Hi| \n",
      "--- Journal_update_result:\n",
      " {\"emotion\": 50, \"emotion2\": 50}\n",
      "____________________\n",
      "Result:  ({'emotion': 75.0, 'emotion2': 25.0}, 2, datetime.date(2024, 10, 3), 'token usage')\n"
     ]
    }
   ],
   "source": [
    "#Update of exisiting journal with new and exsisting emotion\n",
    "date = date.today()\n",
    "journal = '{\"emotion\": 100}'\n",
    "updates_count = 1\n",
    "journal_date = date\n",
    "gpt_model = ''\n",
    "\n",
    "journal = EmotionalJournal(journal, updates_count, journal_date, date, gpt_model)\n",
    "\n",
    "mock_response = '{\"emotion\": 50, \"emotion2\": 50}'\n",
    "chat = ['Hi']\n",
    "    \n",
    "with patch('web.app.assistant.emotional_journal.openai_chat_request', return_value=[mock_response, 'token usage']):\n",
    "    result = await journal.update_journal(chat)\n",
    "    print(\"Result: \", result)\n",
    "    # e1 = (100 + 50) / 2 = 75\n",
    "    # e2 = 50 / 2 = 25\n",
    "    assert result == ({\"emotion\": 75, \"emotion2\": 25}, 2, date, 'token usage')\n"
   ]
  },
  {
   "cell_type": "code",
   "execution_count": 9,
   "metadata": {},
   "outputs": [
    {
     "name": "stdout",
     "output_type": "stream",
     "text": [
      "____________________\n",
      "--- Journal prompt:\n",
      " Conversation:|\n",
      "Hi| \n",
      "--- Journal_update_result:\n",
      " {}\n",
      "____________________\n",
      "Result:  (None, None, None, 'token usage')\n"
     ]
    }
   ],
   "source": [
    "#Empty response fronm GPT\n",
    "date = date.today()\n",
    "journal = '{}'\n",
    "updates_count = 0\n",
    "journal_date = date\n",
    "gpt_model = ''\n",
    "\n",
    "journal = EmotionalJournal(journal, updates_count, journal_date, date, gpt_model)\n",
    "\n",
    "mock_response = '{}'\n",
    "chat = ['Hi']\n",
    "    \n",
    "with patch('web.app.assistant.emotional_journal.openai_chat_request', return_value=[mock_response, 'token usage']):\n",
    "    result = await journal.update_journal(chat)\n",
    "    print(\"Result: \", result)\n",
    "    assert result == (None, None, None, 'token usage')"
   ]
  },
  {
   "cell_type": "code",
   "execution_count": 11,
   "metadata": {},
   "outputs": [
    {
     "name": "stdout",
     "output_type": "stream",
     "text": [
      "____________________\n",
      "--- Journal prompt:\n",
      " Conversation:|\n",
      "Hi| \n",
      "--- Journal_update_result:\n",
      " {\"e\": 30, \"e4\": 5}\n",
      "____________________\n",
      "1. Result:  ({'e': 16.67, 'e2': 10.0, 'e3': 40.0, 'e4': 1.67}, 3, datetime.date(2024, 10, 3), 'token usage')\n"
     ]
    },
    {
     "ename": "TypeError",
     "evalue": "the JSON object must be str, bytes or bytearray, not dict",
     "output_type": "error",
     "traceback": [
      "\u001b[1;31m---------------------------------------------------------------------------\u001b[0m",
      "\u001b[1;31mTypeError\u001b[0m                                 Traceback (most recent call last)",
      "Cell \u001b[1;32mIn[11], line 20\u001b[0m\n\u001b[0;32m     18\u001b[0m mock_response \u001b[38;5;241m=\u001b[39m \u001b[38;5;124m'\u001b[39m\u001b[38;5;124m{\u001b[39m\u001b[38;5;124m\"\u001b[39m\u001b[38;5;124me2\u001b[39m\u001b[38;5;124m\"\u001b[39m\u001b[38;5;124m: 10}\u001b[39m\u001b[38;5;124m'\u001b[39m\n\u001b[0;32m     19\u001b[0m \u001b[38;5;28;01mwith\u001b[39;00m patch(\u001b[38;5;124m'\u001b[39m\u001b[38;5;124mweb.app.assistant.emotional_journal.openai_chat_request\u001b[39m\u001b[38;5;124m'\u001b[39m, return_value\u001b[38;5;241m=\u001b[39m[mock_response, \u001b[38;5;124m'\u001b[39m\u001b[38;5;124mtoken usage\u001b[39m\u001b[38;5;124m'\u001b[39m]): \n\u001b[1;32m---> 20\u001b[0m     journal \u001b[38;5;241m=\u001b[39m \u001b[43mEmotionalJournal\u001b[49m\u001b[43m(\u001b[49m\u001b[43mjournal\u001b[49m\u001b[43m,\u001b[49m\u001b[43m \u001b[49m\u001b[43mupdates_count\u001b[49m\u001b[43m,\u001b[49m\u001b[43m \u001b[49m\u001b[43mjournal_date\u001b[49m\u001b[43m,\u001b[49m\u001b[43m \u001b[49m\u001b[43mdate\u001b[49m\u001b[43m,\u001b[49m\u001b[43m \u001b[49m\u001b[43mgpt_model\u001b[49m\u001b[43m)\u001b[49m\n\u001b[0;32m     21\u001b[0m     result \u001b[38;5;241m=\u001b[39m \u001b[38;5;28;01mawait\u001b[39;00m journal\u001b[38;5;241m.\u001b[39mupdate_journal(chat)\n\u001b[0;32m     22\u001b[0m     \u001b[38;5;28mprint\u001b[39m(\u001b[38;5;124m\"\u001b[39m\u001b[38;5;124m2. Result: \u001b[39m\u001b[38;5;124m\"\u001b[39m, result)\n",
      "File \u001b[1;32me:\\AI-wellnes-assistant\\web\\app\\assistant\\emotional_journal.py:25\u001b[0m, in \u001b[0;36mEmotionalJournal.__init__\u001b[1;34m(self, journal, updates_count, journal_date, current_date, gpt_model)\u001b[0m\n\u001b[0;32m      9\u001b[0m \"\"\"\n\u001b[0;32m     10\u001b[0m Initialize the EmotionalJournal class with necessary attributes.\n\u001b[0;32m     11\u001b[0m \n\u001b[1;32m   (...)\u001b[0m\n\u001b[0;32m     17\u001b[0m \n\u001b[0;32m     18\u001b[0m \"\"\"\n\u001b[0;32m     19\u001b[0m self.journal_date = journal_date\n\u001b[0;32m     21\u001b[0m # Why the fuck I need this if it gets of creates current date journal in consumers?\n\u001b[0;32m     22\u001b[0m \n\u001b[0;32m     23\u001b[0m # self.current_date = current_date\n\u001b[0;32m     24\u001b[0m \n\u001b[1;32m---> 25\u001b[0m # if journal_date != current_date or not journal:\n\u001b[0;32m     26\u001b[0m #     self.journal = {}\n\u001b[0;32m     27\u001b[0m # else:\n\u001b[0;32m     28\u001b[0m #     self.journal = json.loads(journal)\n\u001b[0;32m     29\u001b[0m self.journal = json.loads(journal)\n\u001b[0;32m     31\u001b[0m if updates_count:\n",
      "File \u001b[1;32mD:\\Programs\\Python3.11.4\\Lib\\json\\__init__.py:339\u001b[0m, in \u001b[0;36mloads\u001b[1;34m(s, cls, object_hook, parse_float, parse_int, parse_constant, object_pairs_hook, **kw)\u001b[0m\n\u001b[0;32m    337\u001b[0m \u001b[38;5;28;01melse\u001b[39;00m:\n\u001b[0;32m    338\u001b[0m     \u001b[38;5;28;01mif\u001b[39;00m \u001b[38;5;129;01mnot\u001b[39;00m \u001b[38;5;28misinstance\u001b[39m(s, (\u001b[38;5;28mbytes\u001b[39m, \u001b[38;5;28mbytearray\u001b[39m)):\n\u001b[1;32m--> 339\u001b[0m         \u001b[38;5;28;01mraise\u001b[39;00m \u001b[38;5;167;01mTypeError\u001b[39;00m(\u001b[38;5;124mf\u001b[39m\u001b[38;5;124m'\u001b[39m\u001b[38;5;124mthe JSON object must be str, bytes or bytearray, \u001b[39m\u001b[38;5;124m'\u001b[39m\n\u001b[0;32m    340\u001b[0m                         \u001b[38;5;124mf\u001b[39m\u001b[38;5;124m'\u001b[39m\u001b[38;5;124mnot \u001b[39m\u001b[38;5;132;01m{\u001b[39;00ms\u001b[38;5;241m.\u001b[39m\u001b[38;5;18m__class__\u001b[39m\u001b[38;5;241m.\u001b[39m\u001b[38;5;18m__name__\u001b[39m\u001b[38;5;132;01m}\u001b[39;00m\u001b[38;5;124m'\u001b[39m)\n\u001b[0;32m    341\u001b[0m     s \u001b[38;5;241m=\u001b[39m s\u001b[38;5;241m.\u001b[39mdecode(detect_encoding(s), \u001b[38;5;124m'\u001b[39m\u001b[38;5;124msurrogatepass\u001b[39m\u001b[38;5;124m'\u001b[39m)\n\u001b[0;32m    343\u001b[0m \u001b[38;5;28;01mif\u001b[39;00m (\u001b[38;5;28mcls\u001b[39m \u001b[38;5;129;01mis\u001b[39;00m \u001b[38;5;28;01mNone\u001b[39;00m \u001b[38;5;129;01mand\u001b[39;00m object_hook \u001b[38;5;129;01mis\u001b[39;00m \u001b[38;5;28;01mNone\u001b[39;00m \u001b[38;5;129;01mand\u001b[39;00m\n\u001b[0;32m    344\u001b[0m         parse_int \u001b[38;5;129;01mis\u001b[39;00m \u001b[38;5;28;01mNone\u001b[39;00m \u001b[38;5;129;01mand\u001b[39;00m parse_float \u001b[38;5;129;01mis\u001b[39;00m \u001b[38;5;28;01mNone\u001b[39;00m \u001b[38;5;129;01mand\u001b[39;00m\n\u001b[0;32m    345\u001b[0m         parse_constant \u001b[38;5;129;01mis\u001b[39;00m \u001b[38;5;28;01mNone\u001b[39;00m \u001b[38;5;129;01mand\u001b[39;00m object_pairs_hook \u001b[38;5;129;01mis\u001b[39;00m \u001b[38;5;28;01mNone\u001b[39;00m \u001b[38;5;129;01mand\u001b[39;00m \u001b[38;5;129;01mnot\u001b[39;00m kw):\n",
      "\u001b[1;31mTypeError\u001b[0m: the JSON object must be str, bytes or bytearray, not dict"
     ]
    }
   ],
   "source": [
    "# Multiple updates of existing journal\n",
    "date = date.today()\n",
    "journal = '{\"e\": 10, \"e2\": 15, \"e3\": 60}'\n",
    "updates_count = 2\n",
    "journal_date = date\n",
    "gpt_model = ''\n",
    "\n",
    "journal = EmotionalJournal(journal, updates_count, journal_date, date, gpt_model)\n",
    "\n",
    "mock_response = '{\"e\": 30, \"e4\": 5}'\n",
    "chat = ['Hi']\n",
    "    \n",
    "with patch('web.app.assistant.emotional_journal.openai_chat_request', return_value=[mock_response, 'token usage']):\n",
    "    result = await journal.update_journal(chat)\n",
    "    print(\"1. Result: \", result)\n",
    "    journal, updates_count, journal_date, token_usege = result\n",
    "\n",
    "mock_response = '{\"e2\": 10}'\n",
    "with patch('web.app.assistant.emotional_journal.openai_chat_request', return_value=[mock_response, 'token usage']): \n",
    "    journal = EmotionalJournal(journal, updates_count, journal_date, date, gpt_model)\n",
    "    result = await journal.update_journal(chat)\n",
    "    print(\"2. Result: \", result)\n",
    "    journal, updates_count, journal_date, token_usege = result\n",
    "    \n",
    "mock_response = '{\"e5\": 100}'\n",
    "with patch('web.app.assistant.emotional_journal.openai_chat_request', return_value=[mock_response, 'token usage']): \n",
    "    journal = EmotionalJournal(journal, updates_count, journal_date, date, gpt_model)\n",
    "    result = await journal.update_journal(chat)\n",
    "    print(\"3. Result: \", result)\n",
    "    "
   ]
  }
 ],
 "metadata": {
  "kernelspec": {
   "display_name": ".venv",
   "language": "python",
   "name": "python3"
  },
  "language_info": {
   "codemirror_mode": {
    "name": "ipython",
    "version": 3
   },
   "file_extension": ".py",
   "mimetype": "text/x-python",
   "name": "python",
   "nbconvert_exporter": "python",
   "pygments_lexer": "ipython3",
   "version": "3.11.4"
  }
 },
 "nbformat": 4,
 "nbformat_minor": 2
}
