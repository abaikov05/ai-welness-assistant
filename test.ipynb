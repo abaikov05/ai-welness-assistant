{
 "cells": [
  {
   "cell_type": "code",
   "execution_count": 26,
   "metadata": {},
   "outputs": [],
   "source": [
    "from unittest.mock import patch"
   ]
  },
  {
   "cell_type": "markdown",
   "metadata": {},
   "source": [
    "### Emotional journal tests"
   ]
  },
  {
   "cell_type": "code",
   "execution_count": 27,
   "metadata": {},
   "outputs": [],
   "source": [
    "from web.app.assistant.emotional_journal import *"
   ]
  },
  {
   "cell_type": "code",
   "execution_count": 28,
   "metadata": {},
   "outputs": [
    {
     "name": "stdout",
     "output_type": "stream",
     "text": [
      "____________________\n",
      "--- Journal prompt:\n",
      " Conversation:|\n",
      "Hi\n",
      "How can I assist| \n",
      "--- Journal update response:\n",
      " {\"emotion\": 100}\n",
      "____________________\n",
      "Result:  ({'emotion': 100}, 1, 'token usage')\n"
     ]
    }
   ],
   "source": [
    "# New journal update\n",
    "journal = '{}'\n",
    "updates_count = 0\n",
    "gpt_model = ''\n",
    "\n",
    "journal = EmotionalJournal(journal, updates_count, gpt_model)\n",
    "\n",
    "mock_response = '{\"emotion\": 100}'\n",
    "chat = ['Hi', 'How can I assist']\n",
    "\n",
    "with patch('web.app.assistant.emotional_journal.openai_chat_request', return_value=[mock_response, 'token usage']):\n",
    "    result = await journal.update_journal(chat)\n",
    "    print(\"Result: \", result)\n",
    "    assert result == ({\"emotion\": 100}, 1, \"token usage\")"
   ]
  },
  {
   "cell_type": "code",
   "execution_count": 29,
   "metadata": {},
   "outputs": [
    {
     "name": "stdout",
     "output_type": "stream",
     "text": [
      "____________________\n",
      "--- Journal prompt:\n",
      " Conversation:|\n",
      "Hi| \n",
      "--- Journal update response:\n",
      " {\"emotion\": 50, \"emotion2\": 50}\n",
      "____________________\n",
      "Result:  ({'emotion': 75.0, 'emotion2': 25.0}, 2, 'token usage')\n"
     ]
    }
   ],
   "source": [
    "#Update of exisiting journal with new and exsisting emotion\n",
    " \n",
    "journal = '{\"emotion\": 100}'\n",
    "updates_count = 1\n",
    " \n",
    "gpt_model = ''\n",
    "\n",
    "journal = EmotionalJournal(journal, updates_count,   gpt_model)\n",
    "\n",
    "mock_response = '{\"emotion\": 50, \"emotion2\": 50}'\n",
    "chat = ['Hi']\n",
    "    \n",
    "with patch('web.app.assistant.emotional_journal.openai_chat_request', return_value=[mock_response, 'token usage']):\n",
    "    result = await journal.update_journal(chat)\n",
    "    print(\"Result: \", result)\n",
    "    # e1 = (100 + 50) / 2 = 75\n",
    "    # e2 = 50 / 2 = 25\n",
    "    assert result == ({\"emotion\": 75, \"emotion2\": 25}, 2, 'token usage')\n"
   ]
  },
  {
   "cell_type": "code",
   "execution_count": 30,
   "metadata": {},
   "outputs": [
    {
     "name": "stdout",
     "output_type": "stream",
     "text": [
      "____________________\n",
      "--- Journal prompt:\n",
      " Conversation:|\n",
      "Hi| \n",
      "--- Journal update response:\n",
      " {}\n",
      "____________________\n",
      "Result:  (None, None, 'token usage')\n"
     ]
    }
   ],
   "source": [
    "#Empty response from GPT\n",
    " \n",
    "journal = '{}'\n",
    "updates_count = 0\n",
    " \n",
    "gpt_model = ''\n",
    "\n",
    "journal = EmotionalJournal(journal, updates_count,   gpt_model)\n",
    "\n",
    "mock_response = '{}'\n",
    "chat = ['Hi']\n",
    "    \n",
    "with patch('web.app.assistant.emotional_journal.openai_chat_request', return_value=[mock_response, 'token usage']):\n",
    "    result = await journal.update_journal(chat)\n",
    "    print(\"Result: \", result)\n",
    "    assert result == (None, None, 'token usage')"
   ]
  },
  {
   "cell_type": "code",
   "execution_count": 31,
   "metadata": {},
   "outputs": [
    {
     "name": "stdout",
     "output_type": "stream",
     "text": [
      "____________________\n",
      "--- Journal prompt:\n",
      " Conversation:|\n",
      "Hi| \n",
      "--- Journal update response:\n",
      " {\"e\": 30, \"e4\": 5}\n",
      "____________________\n",
      "1. Result:  ({'e': 16.67, 'e2': 10.0, 'e3': 41.67, 'e4': 1.67}, 3, 'token usage')\n",
      "____________________\n",
      "--- Journal prompt:\n",
      " Conversation:|\n",
      "Hi| \n",
      "--- Journal update response:\n",
      " {\"e2\": 20}\n",
      "____________________\n",
      "2. Result:  ({'e': 12.5, 'e2': 12.5, 'e3': 31.25, 'e4': 1.25}, 4, 'token usage')\n",
      "____________________\n",
      "--- Journal prompt:\n",
      " Conversation:|\n",
      "Hi| \n",
      "--- Journal update response:\n",
      " {\"e5\": 100}\n",
      "____________________\n",
      "3. Result:  ({'e': 10.0, 'e2': 10.0, 'e3': 25.0, 'e4': 1.0, 'e5': 20.0}, 5, 'token usage')\n"
     ]
    }
   ],
   "source": [
    "# Multiple updates of existing journal\n",
    " \n",
    "journal = '{\"e\": 10, \"e2\": 15, \"e3\": 62.5}'\n",
    "updates_count = 2\n",
    "\n",
    "gpt_model = ''\n",
    "\n",
    "journal = EmotionalJournal(journal, updates_count,   gpt_model)\n",
    "\n",
    "mock_response = '{\"e\": 30, \"e4\": 5}'\n",
    "chat = ['Hi']\n",
    "    \n",
    "with patch('web.app.assistant.emotional_journal.openai_chat_request', return_value=[mock_response, 'token usage']):\n",
    "    result = await journal.update_journal(chat)\n",
    "    print(\"1. Result: \", result)\n",
    "    journal, updates_count, token_usege = result\n",
    "\n",
    "mock_response = '{\"e2\": 20}'\n",
    "with patch('web.app.assistant.emotional_journal.openai_chat_request', return_value=[mock_response, 'token usage']): \n",
    "    journal = EmotionalJournal(json.dumps(journal), updates_count,   gpt_model)\n",
    "    result = await journal.update_journal(chat)\n",
    "    print(\"2. Result: \", result)\n",
    "    journal, updates_count, token_usege = result\n",
    "    \n",
    "mock_response = '{\"e5\": 100}'\n",
    "with patch('web.app.assistant.emotional_journal.openai_chat_request', return_value=[mock_response, 'token usage']): \n",
    "    journal = EmotionalJournal(json.dumps(journal), updates_count,   gpt_model)\n",
    "    result = await journal.update_journal(chat)\n",
    "    print(\"3. Result: \", result)\n",
    "    \n",
    "# e = (10*2 + 30) / 5 = 10\n",
    "# e2 (15*2 + 10) / 5 = 10\n",
    "# e3 (60*2) / 5 = 25\n",
    "# e4 5/5\n",
    "# e5 100 /5\n",
    "assert result == ({'e': 10.0, 'e2': 10.0, 'e3': 25.0, 'e4': 1.0, 'e5': 20.0}, 5, 'token usage')"
   ]
  },
  {
   "cell_type": "code",
   "execution_count": 32,
   "metadata": {},
   "outputs": [
    {
     "name": "stdout",
     "output_type": "stream",
     "text": [
      "____________________\n",
      "--- Journal prompt:\n",
      " Conversation:|\n",
      "Hi\n",
      "How can I assist| \n",
      "--- Journal update response:\n",
      " {\"e\": -1, \"e1\": 10}\n",
      "____________________\n",
      "Result:  ({'e': 25.0, 'e1': 5.0}, 2, 'token usage')\n"
     ]
    }
   ],
   "source": [
    "# Update journal with 1 invalid value in response\n",
    " \n",
    "journal = '{\"e\": 50}'\n",
    "updates_count = 1\n",
    " \n",
    "gpt_model = ''\n",
    "\n",
    "Journal = EmotionalJournal(journal, updates_count,   gpt_model)\n",
    "\n",
    "mock_response = '{\"e\": -1, \"e1\": 10}'\n",
    "chat = ['Hi', 'How can I assist']\n",
    "\n",
    "with patch('web.app.assistant.emotional_journal.openai_chat_request', return_value=[mock_response, 'token usage']):\n",
    "    result = await Journal.update_journal(chat)\n",
    "    print(\"Result: \", result)\n",
    "    assert result == ({'e': 25.0, 'e1': 5.0}, 2, 'token usage')"
   ]
  },
  {
   "cell_type": "code",
   "execution_count": 33,
   "metadata": {},
   "outputs": [
    {
     "name": "stdout",
     "output_type": "stream",
     "text": [
      "____________________\n",
      "--- Journal prompt:\n",
      " Conversation:|\n",
      "Hi\n",
      "How can I assist| \n",
      "--- Journal update response:\n",
      " {\"e\": -1, \"e1\": 101, \"e3\": 100.1, \"2e\": -0.1}\n",
      "____________________\n",
      "Result:  (None, None, 'token usage')\n"
     ]
    }
   ],
   "source": [
    "# Update journal with all invalid values in response\n",
    " \n",
    "journal = '{\"e\": 10, \"e2\": \"20\"}'\n",
    "updates_count = 3\n",
    " \n",
    "gpt_model = ''\n",
    "\n",
    "Journal = EmotionalJournal(journal, updates_count,   gpt_model)\n",
    "\n",
    "mock_response = '{\"e\": -1, \"e1\": 101, \"e3\": 100.1, \"2e\": -0.1}'\n",
    "chat = ['Hi', 'How can I assist']\n",
    "\n",
    "with patch('web.app.assistant.emotional_journal.openai_chat_request', return_value=[mock_response, 'token usage']):\n",
    "    result = await Journal.update_journal(chat)\n",
    "    print(\"Result: \", result)\n",
    "    assert result == (None, None, 'token usage')"
   ]
  },
  {
   "cell_type": "code",
   "execution_count": 34,
   "metadata": {},
   "outputs": [
    {
     "name": "stdout",
     "output_type": "stream",
     "text": [
      "____________________\n",
      "--- Journal prompt:\n",
      " Conversation:|\n",
      "Hi\n",
      "How can I assist| \n",
      "--- Journal update response:\n",
      " None\n",
      "____________________\n",
      "Result:  (None, None, None)\n"
     ]
    }
   ],
   "source": [
    "# None in response\n",
    " \n",
    "journal = '{}'\n",
    "updates_count = 0\n",
    " \n",
    "gpt_model = ''\n",
    "\n",
    "journal = EmotionalJournal(journal, updates_count,   gpt_model)\n",
    "\n",
    "mock_response = None\n",
    "chat = ['Hi', 'How can I assist']\n",
    "\n",
    "with patch('web.app.assistant.emotional_journal.openai_chat_request', return_value=[mock_response, None]):\n",
    "    result = await journal.update_journal(chat)\n",
    "    print(\"Result: \", result)\n",
    "    assert result == (None, None, None)"
   ]
  },
  {
   "cell_type": "markdown",
   "metadata": {},
   "source": [
    "### User profiler tests"
   ]
  },
  {
   "cell_type": "code",
   "execution_count": 35,
   "metadata": {},
   "outputs": [],
   "source": [
    "from web.app.assistant.user_profile import *"
   ]
  },
  {
   "cell_type": "code",
   "execution_count": 36,
   "metadata": {},
   "outputs": [
    {
     "name": "stdout",
     "output_type": "stream",
     "text": [
      "- Profiler prompts:\n",
      " Your task is to update or generate a user profile from recent chat.\n",
      "Provide concise entries for user preferences, likes, dislikes, and key aspects of the user's personality.\n",
      "Your response should be short but descriptive, focusing on the most useful data for understanding the user.\n",
      "- If no changes need to be made to the user profile, your response is empty.\n",
      "- Don't duplicate the old profile; your response should only include updates.\n",
      "- To change an entire entry, respond with {\"number\": \"Changed text of this element\"}\n",
      "NEVER RESPOND DIRECTLY TO THE USER!\n",
      "Follow this JSON format:\n",
      "{\n",
      "    \"1\": \"Changed text describing the first element\",\n",
      "    \"2\": \"Changed text describing the second element\"\n",
      "}\n",
      " PREVIOUS USER PROFILE:|\n",
      "{}|\n",
      "CHAT HISTORY:|\n",
      "User: Hi\n",
      "Assistant: How can I help|\n",
      "Last user message: help me\n",
      "Remember format: {{\"number\": \"Changed text of this element\", \"number\": \"Changed text of this element\"}}\n",
      "- Generated user prifile changes: {\"0\" : \"Likes this\", \"1\" : \"Dislikes this\"} \n",
      " ____________________________________________________________________________________________________\n",
      "Last profile:\n",
      " {}\n",
      "New profile:\n",
      " {'0': 'Likes this', '1': 'Dislikes this'}\n",
      "Result:  (['Likes this', 'Dislikes this'], 'token usage')\n"
     ]
    }
   ],
   "source": [
    "# New profile change\n",
    "user_profile = '[]'\n",
    "gpt_model = ''\n",
    "\n",
    "profile = Profile(user_profile, gpt_model)\n",
    "\n",
    "mock_response = '{\"0\" : \"Likes this\", \"1\" : \"Dislikes this\"}'\n",
    "chat = ['User: Hi', 'Assistant: How can I help']\n",
    "message = \"help me\"\n",
    "\n",
    "with patch('web.app.assistant.user_profile.openai_chat_request', return_value=[mock_response, 'token usage']):\n",
    "    result = await profile.update_user_profile(previous_messages=chat, user_message=message)\n",
    "    print(\"Result: \", result)\n",
    "    assert result == (['Likes this', 'Dislikes this'], 'token usage')"
   ]
  },
  {
   "cell_type": "code",
   "execution_count": 37,
   "metadata": {},
   "outputs": [
    {
     "name": "stdout",
     "output_type": "stream",
     "text": [
      "- Profiler prompts:\n",
      " Your task is to update or generate a user profile from recent chat.\n",
      "Provide concise entries for user preferences, likes, dislikes, and key aspects of the user's personality.\n",
      "Your response should be short but descriptive, focusing on the most useful data for understanding the user.\n",
      "- If no changes need to be made to the user profile, your response is empty.\n",
      "- Don't duplicate the old profile; your response should only include updates.\n",
      "- To change an entire entry, respond with {\"number\": \"Changed text of this element\"}\n",
      "NEVER RESPOND DIRECTLY TO THE USER!\n",
      "Follow this JSON format:\n",
      "{\n",
      "    \"1\": \"Changed text describing the first element\",\n",
      "    \"2\": \"Changed text describing the second element\"\n",
      "}\n",
      " PREVIOUS USER PROFILE:|\n",
      "{\"0\": \"likes\", \"1\": \"dislikes\"}|\n",
      "CHAT HISTORY:|\n",
      "User: Hi\n",
      "Assistant: How can I help|\n",
      "Last user message: help me\n",
      "Remember format: {{\"number\": \"Changed text of this element\", \"number\": \"Changed text of this element\"}}\n",
      "- Generated user prifile changes: {\"2\" : \"loves\", \"3\" : \"hates\"} \n",
      " ____________________________________________________________________________________________________\n",
      "Last profile:\n",
      " {'0': 'likes', '1': 'dislikes'}\n",
      "New profile:\n",
      " {'0': 'likes', '1': 'dislikes', '2': 'loves', '3': 'hates'}\n",
      "Result:  (['likes', 'dislikes', 'loves', 'hates'], 'token usage')\n"
     ]
    }
   ],
   "source": [
    "# Update existing profile with new entires\n",
    "user_profile = '[\"likes\",\"dislikes\"]'\n",
    "gpt_model = ''\n",
    "\n",
    "profile = Profile(user_profile, gpt_model)\n",
    "\n",
    "mock_response = '{\"2\" : \"loves\", \"3\" : \"hates\"}'\n",
    "chat = ['User: Hi', 'Assistant: How can I help']\n",
    "message = \"help me\"\n",
    "\n",
    "with patch('web.app.assistant.user_profile.openai_chat_request', return_value=[mock_response, 'token usage']):\n",
    "    result = await profile.update_user_profile(previous_messages=chat, user_message=message)\n",
    "    print(\"Result: \", result)\n",
    "    assert result == (['likes', 'dislikes', 'loves', 'hates'], 'token usage')"
   ]
  },
  {
   "cell_type": "code",
   "execution_count": 38,
   "metadata": {},
   "outputs": [
    {
     "name": "stdout",
     "output_type": "stream",
     "text": [
      "- Profiler prompts:\n",
      " Your task is to update or generate a user profile from recent chat.\n",
      "Provide concise entries for user preferences, likes, dislikes, and key aspects of the user's personality.\n",
      "Your response should be short but descriptive, focusing on the most useful data for understanding the user.\n",
      "- If no changes need to be made to the user profile, your response is empty.\n",
      "- Don't duplicate the old profile; your response should only include updates.\n",
      "- To change an entire entry, respond with {\"number\": \"Changed text of this element\"}\n",
      "NEVER RESPOND DIRECTLY TO THE USER!\n",
      "Follow this JSON format:\n",
      "{\n",
      "    \"1\": \"Changed text describing the first element\",\n",
      "    \"2\": \"Changed text describing the second element\"\n",
      "}\n",
      " PREVIOUS USER PROFILE:|\n",
      "{\"0\": \"likes\", \"1\": \"dislikes\"}|\n",
      "CHAT HISTORY:|\n",
      "User: Hi\n",
      "Assistant: How can I help|\n",
      "Last user message: help me\n",
      "Remember format: {{\"number\": \"Changed text of this element\", \"number\": \"Changed text of this element\"}}\n",
      "- Generated user prifile changes: {\"0\" : \"\", \"1\" : \"dislikes likes\", \"2\": \"wow new\", \"4\": \"cool\"} \n",
      " ____________________________________________________________________________________________________\n",
      "Last profile:\n",
      " {'0': 'likes', '1': 'dislikes'}\n",
      "New profile:\n",
      " {'0': '', '1': 'dislikes likes', '2': 'wow new', '4': 'cool'}\n",
      "Result:  (['dislikes likes', 'wow new', 'cool'], 'token usage')\n"
     ]
    }
   ],
   "source": [
    "# Update existing profile with new entires + changing and deleting existing entries\n",
    "user_profile = '[\"likes\",\"dislikes\"]'\n",
    "gpt_model = ''\n",
    "\n",
    "profile = Profile(user_profile, gpt_model)\n",
    "\n",
    "mock_response = '{\"0\" : \"\", \"1\" : \"dislikes likes\", \"2\": \"wow new\", \"4\": \"cool\"}'\n",
    "chat = ['User: Hi', 'Assistant: How can I help']\n",
    "message = \"help me\"\n",
    "\n",
    "with patch('web.app.assistant.user_profile.openai_chat_request', return_value=[mock_response, 'token usage']):\n",
    "    result = await profile.update_user_profile(previous_messages=chat, user_message=message)\n",
    "    print(\"Result: \", result)\n",
    "    assert result == (['dislikes likes', 'wow new', 'cool'], 'token usage')"
   ]
  },
  {
   "cell_type": "code",
   "execution_count": 39,
   "metadata": {},
   "outputs": [
    {
     "name": "stdout",
     "output_type": "stream",
     "text": [
      "- Profiler prompts:\n",
      " Your task is to update or generate a user profile from recent chat.\n",
      "Provide concise entries for user preferences, likes, dislikes, and key aspects of the user's personality.\n",
      "Your response should be short but descriptive, focusing on the most useful data for understanding the user.\n",
      "- If no changes need to be made to the user profile, your response is empty.\n",
      "- Don't duplicate the old profile; your response should only include updates.\n",
      "- To change an entire entry, respond with {\"number\": \"Changed text of this element\"}\n",
      "NEVER RESPOND DIRECTLY TO THE USER!\n",
      "Follow this JSON format:\n",
      "{\n",
      "    \"1\": \"Changed text describing the first element\",\n",
      "    \"2\": \"Changed text describing the second element\"\n",
      "}\n",
      " PREVIOUS USER PROFILE:|\n",
      "{\"0\": \"likes\", \"1\": \"dislikes\"}|\n",
      "CHAT HISTORY:|\n",
      "User: Hi\n",
      "Assistant: How can I help|\n",
      "Last user message: help me\n",
      "Remember format: {{\"number\": \"Changed text of this element\", \"number\": \"Changed text of this element\"}}\n",
      "- Generated user prifile changes: {\"1a\" : \"232424\", \"b345\" : \"dislikes likes\", \"2\": \"new\"} \n",
      " ____________________________________________________________________________________________________\n",
      "Last profile:\n",
      " {'0': 'likes', '1': 'dislikes'}\n",
      "New profile:\n",
      " {'0': 'likes', '1': 'dislikes', '2': 'new'}\n",
      "Result:  (['likes', 'dislikes', 'new'], 'token usage')\n"
     ]
    }
   ],
   "source": [
    "# Error in keys from response\n",
    "user_profile = '[\"likes\",\"dislikes\"]'\n",
    "gpt_model = ''\n",
    "\n",
    "profile = Profile(user_profile, gpt_model)\n",
    "\n",
    "mock_response = '{\"1a\" : \"232424\", \"b345\" : \"dislikes likes\", \"2\": \"new\"}'\n",
    "chat = ['User: Hi', 'Assistant: How can I help']\n",
    "message = \"help me\"\n",
    "\n",
    "with patch('web.app.assistant.user_profile.openai_chat_request', return_value=[mock_response, 'token usage']):\n",
    "    result = await profile.update_user_profile(previous_messages=chat, user_message=message)\n",
    "    print(\"Result: \", result)\n",
    "    assert result == (['likes', 'dislikes', 'new'], 'token usage')"
   ]
  },
  {
   "cell_type": "code",
   "execution_count": 40,
   "metadata": {},
   "outputs": [
    {
     "name": "stdout",
     "output_type": "stream",
     "text": [
      "- Profiler prompts:\n",
      " Your task is to update or generate a user profile from recent chat.\n",
      "Provide concise entries for user preferences, likes, dislikes, and key aspects of the user's personality.\n",
      "Your response should be short but descriptive, focusing on the most useful data for understanding the user.\n",
      "- If no changes need to be made to the user profile, your response is empty.\n",
      "- Don't duplicate the old profile; your response should only include updates.\n",
      "- To change an entire entry, respond with {\"number\": \"Changed text of this element\"}\n",
      "NEVER RESPOND DIRECTLY TO THE USER!\n",
      "Follow this JSON format:\n",
      "{\n",
      "    \"1\": \"Changed text describing the first element\",\n",
      "    \"2\": \"Changed text describing the second element\"\n",
      "}\n",
      " PREVIOUS USER PROFILE:|\n",
      "{\"0\": \"hi\"}|\n",
      "CHAT HISTORY:|\n",
      "User: Hi\n",
      "Assistant: How can I help|\n",
      "Last user message: help me\n",
      "Remember format: {{\"number\": \"Changed text of this element\", \"number\": \"Changed text of this element\"}}\n",
      "- Generated user prifile changes: {\"1\": \"\"here is an error\", \"2\": \"correct\"} \n",
      " ____________________________________________________________________________________________________\n",
      "Error in generated user profile format Expecting ',' delimiter: line 1 column 9 (char 8)\n",
      "Last profile:\n",
      " {'0': 'hi'}\n",
      "GPT tried to update profile but no changes were made!\n",
      "Result:  (None, 'token usage')\n"
     ]
    }
   ],
   "source": [
    "# Error in response format\n",
    "user_profile = '[\"hi\"]'\n",
    "gpt_model = ''\n",
    "\n",
    "profile = Profile(user_profile, gpt_model)\n",
    "\n",
    "mock_response = '{\"1\": \"\"here is an error\", \"2\": \"correct\"}'\n",
    "chat = ['User: Hi', 'Assistant: How can I help']\n",
    "message = \"help me\"\n",
    "\n",
    "with patch('web.app.assistant.user_profile.openai_chat_request', return_value=[mock_response, 'token usage']):\n",
    "    result = await profile.update_user_profile(previous_messages=chat, user_message=message)\n",
    "    print(\"Result: \", result)\n",
    "    assert result == (None, 'token usage')"
   ]
  },
  {
   "cell_type": "code",
   "execution_count": 41,
   "metadata": {},
   "outputs": [
    {
     "name": "stdout",
     "output_type": "stream",
     "text": [
      "- Profiler prompts:\n",
      " Your task is to update or generate a user profile from recent chat.\n",
      "Provide concise entries for user preferences, likes, dislikes, and key aspects of the user's personality.\n",
      "Your response should be short but descriptive, focusing on the most useful data for understanding the user.\n",
      "- If no changes need to be made to the user profile, your response is empty.\n",
      "- Don't duplicate the old profile; your response should only include updates.\n",
      "- To change an entire entry, respond with {\"number\": \"Changed text of this element\"}\n",
      "NEVER RESPOND DIRECTLY TO THE USER!\n",
      "Follow this JSON format:\n",
      "{\n",
      "    \"1\": \"Changed text describing the first element\",\n",
      "    \"2\": \"Changed text describing the second element\"\n",
      "}\n",
      " PREVIOUS USER PROFILE:|\n",
      "{}|\n",
      "CHAT HISTORY:|\n",
      "User: Hi\n",
      "Assistant: How can I help|\n",
      "Last user message: help me\n",
      "Remember format: {{\"number\": \"Changed text of this element\", \"number\": \"Changed text of this element\"}}\n",
      "- Generated user prifile changes: None \n",
      " ____________________________________________________________________________________________________\n",
      "Last profile:\n",
      " {}\n",
      "Result:  (None, None)\n"
     ]
    }
   ],
   "source": [
    "# None response\n",
    "user_profile = '[]'\n",
    "gpt_model = ''\n",
    "\n",
    "profile = Profile(user_profile, gpt_model)\n",
    "\n",
    "mock_response = None\n",
    "chat = ['User: Hi', 'Assistant: How can I help']\n",
    "message = \"help me\"\n",
    "\n",
    "with patch('web.app.assistant.user_profile.openai_chat_request', return_value=[mock_response, None]):\n",
    "    result = await profile.update_user_profile(previous_messages=chat, user_message=message)\n",
    "    print(\"Result: \", result)\n",
    "    assert result == (None, None)"
   ]
  },
  {
   "cell_type": "markdown",
   "metadata": {},
   "source": [
    "### Tools tests"
   ]
  },
  {
   "cell_type": "code",
   "execution_count": 42,
   "metadata": {},
   "outputs": [],
   "source": [
    "from web.app.assistant.tools import *"
   ]
  },
  {
   "cell_type": "markdown",
   "metadata": {},
   "source": [
    "##### extract_tools"
   ]
  },
  {
   "cell_type": "code",
   "execution_count": 43,
   "metadata": {},
   "outputs": [
    {
     "name": "stdout",
     "output_type": "stream",
     "text": [
      "____________________\n",
      "- Tool extraction:\n",
      " NEVER RESPOND USER DIRECTLY!\n",
      "Previous message: \n",
      "User message:  \n",
      " Your task is to identify if the user intends to use a tool from the provided list below.\n",
      "- YOU RESPOND WITH A TOOL ONLY IF YOU ARE 100% SURE USER WNATS TO USE IT.\n",
      "- If there are no relevant tools to use, your response MUST BE EMPTY.\n",
      "- Your response is always only a string of tools delimited by a comma. Follow this format:\n",
      "\"tool_name, tool_name, ...\"\n",
      "- NEVER RESPOND DIRECTLY TO THE USER!\n",
      "- You can only choose tools from this list:\n",
      "Name: tools_info; Description: Tells about available tools\n",
      "Name: weather; Description: tells current weather\n",
      "Name: news; Description: Searches for current top headlines, by key words and categories\n",
      "Name: calculator; Description: Calculates given expression\n",
      " \n",
      " news, weather\n",
      "____________________\n",
      "['news', 'weather']\n",
      "____________________\n",
      "- Tool extraction:\n",
      " NEVER RESPOND USER DIRECTLY!\n",
      "Previous message: \n",
      "User message:  \n",
      " Your task is to identify if the user intends to use a tool from the provided list below.\n",
      "- YOU RESPOND WITH A TOOL ONLY IF YOU ARE 100% SURE USER WNATS TO USE IT.\n",
      "- If there are no relevant tools to use, your response MUST BE EMPTY.\n",
      "- Your response is always only a string of tools delimited by a comma. Follow this format:\n",
      "\"tool_name, tool_name, ...\"\n",
      "- NEVER RESPOND DIRECTLY TO THE USER!\n",
      "- You can only choose tools from this list:\n",
      "Name: tools_info; Description: Tells about available tools\n",
      "Name: weather; Description: tells current weather\n",
      "Name: news; Description: Searches for current top headlines, by key words and categories\n",
      "Name: calculator; Description: Calculates given expression\n",
      " \n",
      " weather\n",
      "____________________\n",
      "['weather']\n"
     ]
    }
   ],
   "source": [
    "# Valid tools extracted \n",
    "tools = Tools(gpt_model='')\n",
    "user_message = ''\n",
    "chat_history = ''\n",
    "token_usage = ''\n",
    "mock_response = 'news, weather'\n",
    "with patch('web.app.assistant.tools.openai_chat_request', return_value=[mock_response, token_usage]):\n",
    "    result = await tools.extract_tools(user_message, chat_history)\n",
    "    print(result)\n",
    "    assert result == ['news', 'weather']\n",
    "\n",
    "mock_response = 'weather'\n",
    "with patch('web.app.assistant.tools.openai_chat_request', return_value=[mock_response, token_usage]):\n",
    "    result = await tools.extract_tools(user_message, chat_history)\n",
    "    print(result)\n",
    "    assert result == ['weather']\n"
   ]
  },
  {
   "cell_type": "code",
   "execution_count": 44,
   "metadata": {},
   "outputs": [
    {
     "name": "stdout",
     "output_type": "stream",
     "text": [
      "____________________\n",
      "- Tool extraction:\n",
      " NEVER RESPOND USER DIRECTLY!\n",
      "Previous message: \n",
      "User message:  \n",
      " Your task is to identify if the user intends to use a tool from the provided list below.\n",
      "- YOU RESPOND WITH A TOOL ONLY IF YOU ARE 100% SURE USER WNATS TO USE IT.\n",
      "- If there are no relevant tools to use, your response MUST BE EMPTY.\n",
      "- Your response is always only a string of tools delimited by a comma. Follow this format:\n",
      "\"tool_name, tool_name, ...\"\n",
      "- NEVER RESPOND DIRECTLY TO THE USER!\n",
      "- You can only choose tools from this list:\n",
      "Name: tools_info; Description: Tells about available tools\n",
      "Name: weather; Description: tells current weather\n",
      "Name: news; Description: Searches for current top headlines, by key words and categories\n",
      "Name: calculator; Description: Calculates given expression\n",
      " \n",
      " weatherer, news, calcolator\n",
      "____________________\n",
      "['news']\n",
      "____________________\n",
      "- Tool extraction:\n",
      " NEVER RESPOND USER DIRECTLY!\n",
      "Previous message: \n",
      "User message:  \n",
      " Your task is to identify if the user intends to use a tool from the provided list below.\n",
      "- YOU RESPOND WITH A TOOL ONLY IF YOU ARE 100% SURE USER WNATS TO USE IT.\n",
      "- If there are no relevant tools to use, your response MUST BE EMPTY.\n",
      "- Your response is always only a string of tools delimited by a comma. Follow this format:\n",
      "\"tool_name, tool_name, ...\"\n",
      "- NEVER RESPOND DIRECTLY TO THE USER!\n",
      "- You can only choose tools from this list:\n",
      "Name: tools_info; Description: Tells about available tools\n",
      "Name: weather; Description: tells current weather\n",
      "Name: news; Description: Searches for current top headlines, by key words and categories\n",
      "Name: calculator; Description: Calculates given expression\n",
      " \n",
      " weather, new, calculator\n",
      "____________________\n",
      "['weather', 'calculator']\n"
     ]
    }
   ],
   "source": [
    "# Valid and invalid tools\n",
    "tools = Tools(gpt_model='')\n",
    "user_message = ''\n",
    "chat_history = ''\n",
    "\n",
    "mock_response = 'weatherer, news, calcolator'\n",
    "with patch('web.app.assistant.tools.openai_chat_request', return_value=[mock_response, token_usage]):\n",
    "    result = await tools.extract_tools(user_message, chat_history)\n",
    "    print(result)\n",
    "    assert result == ['news']\n",
    "mock_response = 'weather, new, calculator'\n",
    "with patch('web.app.assistant.tools.openai_chat_request', return_value=[mock_response, token_usage]):\n",
    "    result = await tools.extract_tools(user_message, chat_history)\n",
    "    print(result)\n",
    "    assert result == ['weather','calculator']\n",
    "    "
   ]
  },
  {
   "cell_type": "code",
   "execution_count": 45,
   "metadata": {},
   "outputs": [
    {
     "name": "stdout",
     "output_type": "stream",
     "text": [
      "____________________\n",
      "- Tool extraction:\n",
      " NEVER RESPOND USER DIRECTLY!\n",
      "Previous message: \n",
      "User message:  \n",
      " Your task is to identify if the user intends to use a tool from the provided list below.\n",
      "- YOU RESPOND WITH A TOOL ONLY IF YOU ARE 100% SURE USER WNATS TO USE IT.\n",
      "- If there are no relevant tools to use, your response MUST BE EMPTY.\n",
      "- Your response is always only a string of tools delimited by a comma. Follow this format:\n",
      "\"tool_name, tool_name, ...\"\n",
      "- NEVER RESPOND DIRECTLY TO THE USER!\n",
      "- You can only choose tools from this list:\n",
      "Name: tools_info; Description: Tells about available tools\n",
      "Name: weather; Description: tells current weather\n",
      "Name: news; Description: Searches for current top headlines, by key words and categories\n",
      "Name: calculator; Description: Calculates given expression\n",
      " \n",
      " what ,weather news, calculator, hi, \n",
      "____________________\n",
      "['calculator']\n",
      "____________________\n",
      "- Tool extraction:\n",
      " NEVER RESPOND USER DIRECTLY!\n",
      "Previous message: \n",
      "User message:  \n",
      " Your task is to identify if the user intends to use a tool from the provided list below.\n",
      "- YOU RESPOND WITH A TOOL ONLY IF YOU ARE 100% SURE USER WNATS TO USE IT.\n",
      "- If there are no relevant tools to use, your response MUST BE EMPTY.\n",
      "- Your response is always only a string of tools delimited by a comma. Follow this format:\n",
      "\"tool_name, tool_name, ...\"\n",
      "- NEVER RESPOND DIRECTLY TO THE USER!\n",
      "- You can only choose tools from this list:\n",
      "Name: tools_info; Description: Tells about available tools\n",
      "Name: weather; Description: tells current weather\n",
      "Name: news; Description: Searches for current top headlines, by key words and categories\n",
      "Name: calculator; Description: Calculates given expression\n",
      " \n",
      " Sorry I don't see tools here, any questions.\n",
      "____________________\n",
      "GPT tied to extract tools but found no valid tools to use\n",
      "None\n"
     ]
    }
   ],
   "source": [
    "# Errors in response format.\n",
    "tools = Tools(gpt_model='')\n",
    "user_message = ''\n",
    "chat_history = ''\n",
    "\n",
    "mock_response = 'what ,weather news, calculator, hi, '\n",
    "\n",
    "with patch('web.app.assistant.tools.openai_chat_request', return_value=[mock_response, token_usage]):\n",
    "    result = await tools.extract_tools(user_message, chat_history)\n",
    "    print(result)\n",
    "    # Only calculator delimeted by comas\n",
    "    assert result == ['calculator']\n",
    "    \n",
    "mock_response = \"Sorry I don't see tools here, any questions.\"\n",
    "with patch('web.app.assistant.tools.openai_chat_request', return_value=[mock_response, token_usage]):\n",
    "    result = await tools.extract_tools(user_message, chat_history)\n",
    "    print(result)\n",
    "    \n",
    "    assert result == None"
   ]
  },
  {
   "cell_type": "code",
   "execution_count": 46,
   "metadata": {},
   "outputs": [
    {
     "name": "stdout",
     "output_type": "stream",
     "text": [
      "____________________\n",
      "- Tool extraction:\n",
      " NEVER RESPOND USER DIRECTLY!\n",
      "Previous message: \n",
      "User message:  \n",
      " Your task is to identify if the user intends to use a tool from the provided list below.\n",
      "- YOU RESPOND WITH A TOOL ONLY IF YOU ARE 100% SURE USER WNATS TO USE IT.\n",
      "- If there are no relevant tools to use, your response MUST BE EMPTY.\n",
      "- Your response is always only a string of tools delimited by a comma. Follow this format:\n",
      "\"tool_name, tool_name, ...\"\n",
      "- NEVER RESPOND DIRECTLY TO THE USER!\n",
      "- You can only choose tools from this list:\n",
      "Name: tools_info; Description: Tells about available tools\n",
      "Name: weather; Description: tells current weather\n",
      "Name: news; Description: Searches for current top headlines, by key words and categories\n",
      "Name: calculator; Description: Calculates given expression\n",
      " \n",
      " what ,weather news, calculator, hi, \n",
      "____________________\n",
      "['calculator']\n",
      "____________________\n",
      "- Tool extraction:\n",
      " NEVER RESPOND USER DIRECTLY!\n",
      "Previous message: \n",
      "User message:  \n",
      " Your task is to identify if the user intends to use a tool from the provided list below.\n",
      "- YOU RESPOND WITH A TOOL ONLY IF YOU ARE 100% SURE USER WNATS TO USE IT.\n",
      "- If there are no relevant tools to use, your response MUST BE EMPTY.\n",
      "- Your response is always only a string of tools delimited by a comma. Follow this format:\n",
      "\"tool_name, tool_name, ...\"\n",
      "- NEVER RESPOND DIRECTLY TO THE USER!\n",
      "- You can only choose tools from this list:\n",
      "Name: tools_info; Description: Tells about available tools\n",
      "Name: weather; Description: tells current weather\n",
      "Name: news; Description: Searches for current top headlines, by key words and categories\n",
      "Name: calculator; Description: Calculates given expression\n",
      " \n",
      " Sorry I don't see tools here, any questions. ,   ,\n",
      "____________________\n",
      "GPT tied to extract tools but found no valid tools to use\n",
      "None\n"
     ]
    }
   ],
   "source": [
    "# Errors in response format.\n",
    "tools = Tools(gpt_model='')\n",
    "user_message = ''\n",
    "chat_history = ''\n",
    "\n",
    "mock_response = 'what ,weather news, calculator, hi, '\n",
    "\n",
    "with patch('web.app.assistant.tools.openai_chat_request', return_value=[mock_response, token_usage]):\n",
    "    result = await tools.extract_tools(user_message, chat_history)\n",
    "    print(result)\n",
    "    # Only calculator delimeted by comas\n",
    "    assert result == ['calculator']\n",
    "    \n",
    "mock_response = \"Sorry I don't see tools here, any questions. ,   ,\"\n",
    "with patch('web.app.assistant.tools.openai_chat_request', return_value=[mock_response, token_usage]):\n",
    "    result = await tools.extract_tools(user_message, chat_history)\n",
    "    print(result)\n",
    "    \n",
    "    assert result == None"
   ]
  },
  {
   "cell_type": "markdown",
   "metadata": {},
   "source": [
    "##### extract_inputs"
   ]
  },
  {
   "cell_type": "code",
   "execution_count": 47,
   "metadata": {},
   "outputs": [
    {
     "name": "stdout",
     "output_type": "stream",
     "text": [
      "____________________\n",
      "- Input extraction:\n",
      " Function name: weather\n",
      "- Function description: tells current weather\n",
      "- Function inputs: ['location']\n",
      "- Inputs description: Location - city, street or region to check weather\n",
      "- Conversation: |\n",
      "\n",
      "Remember the format! Extract inputs for the described function from the conversation and respond with a JSON file containing inputs.\n",
      "Follow this format:\n",
      "{\n",
      "    \"input_name1\": \"input1\",\n",
      "    \"input_name2\": \"input2\",\n",
      "    ...\n",
      "}\n",
      "Ensure all inputs are in the same sequence as described.\n",
      "If an input has '(optional)' in the description, it can be empty.\n",
      "If there are no inputs in user messages or a required input is missing, your response MUST BE EMPTY.\n",
      "If there are no inputs, leave the input field EMPTY.\n",
      "Analyze the entire chat for input extraction. \n",
      "{\n",
      "    \"location\": \"Riga\"\n",
      "}\n",
      "____________________\n",
      "({'location': 'Riga'}, [])\n",
      "____________________\n",
      "- Input extraction:\n",
      " Function name: news\n",
      "- Function description: Searches for current top headlines, by key words and categories\n",
      "- Function inputs: ['key_words', 'category']\n",
      "- Inputs description: Key words - word or a phrase to search news for. Catogory - you can only select one of these categories: business, entertainment, general, health, science, sports, technology. (optional)\n",
      "- Conversation: |\n",
      "\n",
      "Remember the format! Extract inputs for the described function from the conversation and respond with a JSON file containing inputs.\n",
      "Follow this format:\n",
      "{\n",
      "    \"input_name1\": \"input1\",\n",
      "    \"input_name2\": \"input2\",\n",
      "    ...\n",
      "}\n",
      "Ensure all inputs are in the same sequence as described.\n",
      "If an input has '(optional)' in the description, it can be empty.\n",
      "If there are no inputs in user messages or a required input is missing, your response MUST BE EMPTY.\n",
      "If there are no inputs, leave the input field EMPTY.\n",
      "Analyze the entire chat for input extraction. \n",
      "{\n",
      "    \"key_words\": \"AI\",\n",
      "    \"category\": \"technology\"\n",
      "}\n",
      "____________________\n",
      "({'key_words': 'AI', 'category': 'technology'}, [])\n"
     ]
    }
   ],
   "source": [
    "# Correct inputs in response.\n",
    "tools = Tools(gpt_model='')\n",
    "tool = 'weather'\n",
    "chat_history = ''\n",
    "\n",
    "\n",
    "mock_response = '''\n",
    "{\n",
    "    \"location\": \"Riga\"\n",
    "}'''\n",
    "\n",
    "with patch('web.app.assistant.tools.openai_chat_request', return_value=[mock_response, token_usage]):\n",
    "    result  = await tools.extract_inputs(tool, chat_history)\n",
    "    print(result)\n",
    "\n",
    "    assert result == ({'location': 'Riga'}, [])\n",
    "    \n",
    "tool = 'news'\n",
    "mock_response = '''\n",
    "{\n",
    "    \"key_words\": \"AI\",\n",
    "    \"category\": \"technology\"\n",
    "}'''\n",
    "with patch('web.app.assistant.tools.openai_chat_request', return_value=[mock_response, token_usage]):\n",
    "    result = await tools.extract_inputs(tool, chat_history)\n",
    "    print(result)\n",
    "\n",
    "    assert result == ({\"key_words\": \"AI\", \"category\": \"technology\"}, [])"
   ]
  },
  {
   "cell_type": "code",
   "execution_count": 48,
   "metadata": {},
   "outputs": [
    {
     "name": "stdout",
     "output_type": "stream",
     "text": [
      "____________________\n",
      "- Input extraction:\n",
      " Function name: weather\n",
      "- Function description: tells current weather\n",
      "- Function inputs: ['location']\n",
      "- Inputs description: Location - city, street or region to check weather\n",
      "- Conversation: |\n",
      "\n",
      "Remember the format! Extract inputs for the described function from the conversation and respond with a JSON file containing inputs.\n",
      "Follow this format:\n",
      "{\n",
      "    \"input_name1\": \"input1\",\n",
      "    \"input_name2\": \"input2\",\n",
      "    ...\n",
      "}\n",
      "Ensure all inputs are in the same sequence as described.\n",
      "If an input has '(optional)' in the description, it can be empty.\n",
      "If there are no inputs in user messages or a required input is missing, your response MUST BE EMPTY.\n",
      "If there are no inputs, leave the input field EMPTY.\n",
      "Analyze the entire chat for input extraction. \n",
      "{\n",
      "    \"error\": \"Riga\",\n",
      "    \"what\": \"\"\n",
      "}\n",
      "____________________\n",
      "Required input not found! - location\n",
      "({'location': None}, ['location'])\n"
     ]
    }
   ],
   "source": [
    "# Invalid inputs in response.\n",
    "tools = Tools(gpt_model='')\n",
    "tool = 'weather'\n",
    "chat_history = ''\n",
    "\n",
    "\n",
    "mock_response = '''\n",
    "{\n",
    "    \"error\": \"Riga\",\n",
    "    \"what\": \"\"\n",
    "}'''\n",
    "\n",
    "with patch('web.app.assistant.tools.openai_chat_request', return_value=[mock_response, token_usage]):\n",
    "    result  = await tools.extract_inputs(tool, chat_history)\n",
    "    print(result)\n",
    "    \n",
    "    assert result == ({'location': None}, ['location'])"
   ]
  },
  {
   "cell_type": "code",
   "execution_count": 49,
   "metadata": {},
   "outputs": [
    {
     "name": "stdout",
     "output_type": "stream",
     "text": [
      "____________________\n",
      "- Input extraction:\n",
      " Function name: news\n",
      "- Function description: Searches for current top headlines, by key words and categories\n",
      "- Function inputs: ['key_words', 'category']\n",
      "- Inputs description: Key words - word or a phrase to search news for. Catogory - you can only select one of these categories: business, entertainment, general, health, science, sports, technology. (optional)\n",
      "- Conversation: |\n",
      "\n",
      "Remember the format! Extract inputs for the described function from the conversation and respond with a JSON file containing inputs.\n",
      "Follow this format:\n",
      "{\n",
      "    \"input_name1\": \"input1\",\n",
      "    \"input_name2\": \"input2\",\n",
      "    ...\n",
      "}\n",
      "Ensure all inputs are in the same sequence as described.\n",
      "If an input has '(optional)' in the description, it can be empty.\n",
      "If there are no inputs in user messages or a required input is missing, your response MUST BE EMPTY.\n",
      "If there are no inputs, leave the input field EMPTY.\n",
      "Analyze the entire chat for input extraction. \n",
      "How to extract inputs?\n",
      "{\n",
      "    \"?\":\"how\"?\n",
      "}\n",
      "____________________\n",
      "Error in input format from GPT Expecting value: line 2 column 1 (char 1)\n",
      "(None, ['key_words'])\n"
     ]
    }
   ],
   "source": [
    "# Error in response format\n",
    "tools = Tools(gpt_model='')\n",
    "tool = 'news'\n",
    "mock_response = '''\n",
    "How to extract inputs?\n",
    "{\n",
    "    \"?\":\"how\"?\n",
    "}'''\n",
    "with patch('web.app.assistant.tools.openai_chat_request', return_value=[mock_response, token_usage]):\n",
    "    result = await tools.extract_inputs(tool, chat_history)\n",
    "    print(result)\n",
    "    assert result == (None, ['key_words'])"
   ]
  },
  {
   "cell_type": "code",
   "execution_count": 50,
   "metadata": {},
   "outputs": [
    {
     "name": "stdout",
     "output_type": "stream",
     "text": [
      "____________________\n",
      "- Input extraction:\n",
      " Function name: weather\n",
      "- Function description: tells current weather\n",
      "- Function inputs: ['location']\n",
      "- Inputs description: Location - city, street or region to check weather\n",
      "- Conversation: |\n",
      "\n",
      "Remember the format! Extract inputs for the described function from the conversation and respond with a JSON file containing inputs.\n",
      "Follow this format:\n",
      "{\n",
      "    \"input_name1\": \"input1\",\n",
      "    \"input_name2\": \"input2\",\n",
      "    ...\n",
      "}\n",
      "Ensure all inputs are in the same sequence as described.\n",
      "If an input has '(optional)' in the description, it can be empty.\n",
      "If there are no inputs in user messages or a required input is missing, your response MUST BE EMPTY.\n",
      "If there are no inputs, leave the input field EMPTY.\n",
      "Analyze the entire chat for input extraction. \n",
      "____________________\n",
      "GPT did not find any inputs!\n",
      "(None, ['location'])\n",
      "____________________\n",
      "- Input extraction:\n",
      " Function name: news\n",
      "- Function description: Searches for current top headlines, by key words and categories\n",
      "- Function inputs: ['key_words', 'category']\n",
      "- Inputs description: Key words - word or a phrase to search news for. Catogory - you can only select one of these categories: business, entertainment, general, health, science, sports, technology. (optional)\n",
      "- Conversation: |\n",
      "\n",
      "Remember the format! Extract inputs for the described function from the conversation and respond with a JSON file containing inputs.\n",
      "Follow this format:\n",
      "{\n",
      "    \"input_name1\": \"input1\",\n",
      "    \"input_name2\": \"input2\",\n",
      "    ...\n",
      "}\n",
      "Ensure all inputs are in the same sequence as described.\n",
      "If an input has '(optional)' in the description, it can be empty.\n",
      "If there are no inputs in user messages or a required input is missing, your response MUST BE EMPTY.\n",
      "If there are no inputs, leave the input field EMPTY.\n",
      "Analyze the entire chat for input extraction. None\n",
      "____________________\n",
      "GPT did not find any inputs!\n",
      "(None, ['key_words'])\n"
     ]
    }
   ],
   "source": [
    "# Empty on None response.\n",
    "tools = Tools(gpt_model='')\n",
    "tool = 'weather'\n",
    "chat_history = ''\n",
    "\n",
    "\n",
    "mock_response = ''\n",
    "\n",
    "with patch('web.app.assistant.tools.openai_chat_request', return_value=[mock_response, token_usage]):\n",
    "    result  = await tools.extract_inputs(tool, chat_history)\n",
    "    print(result)\n",
    "    \n",
    "    assert result == (None, ['location'])\n",
    "    \n",
    "tool = 'news'\n",
    "mock_response = None\n",
    "with patch('web.app.assistant.tools.openai_chat_request', return_value=[mock_response, token_usage]):\n",
    "    result = await tools.extract_inputs(tool, chat_history)\n",
    "    print(result)\n",
    "    assert result == (None, ['key_words'])"
   ]
  },
  {
   "cell_type": "code",
   "execution_count": 51,
   "metadata": {},
   "outputs": [
    {
     "name": "stdout",
     "output_type": "stream",
     "text": [
      "____________________\n",
      "- Input extraction:\n",
      " Function name: news\n",
      "- Function description: Searches for current top headlines, by key words and categories\n",
      "- Function inputs: ['key_words', 'category']\n",
      "- Inputs description: Key words - word or a phrase to search news for. Catogory - you can only select one of these categories: business, entertainment, general, health, science, sports, technology. (optional)\n",
      "- Conversation: |\n",
      "\n",
      "Remember the format! Extract inputs for the described function from the conversation and respond with a JSON file containing inputs.\n",
      "Follow this format:\n",
      "{\n",
      "    \"input_name1\": \"input1\",\n",
      "    \"input_name2\": \"input2\",\n",
      "    ...\n",
      "}\n",
      "Ensure all inputs are in the same sequence as described.\n",
      "If an input has '(optional)' in the description, it can be empty.\n",
      "If there are no inputs in user messages or a required input is missing, your response MUST BE EMPTY.\n",
      "If there are no inputs, leave the input field EMPTY.\n",
      "Analyze the entire chat for input extraction. \n",
      "{\n",
      "    \"category\": \"technology\"\n",
      "}\n",
      "\n",
      "____________________\n",
      "Required input not found! - key_words\n",
      "({'key_words': None, 'category': 'technology'}, ['key_words'])\n"
     ]
    }
   ],
   "source": [
    "# Only optional input in response.\n",
    "tools = Tools(gpt_model='')\n",
    "tool = 'news'\n",
    "mock_response = '''\n",
    "{\n",
    "    \"category\": \"technology\"\n",
    "}\n",
    "'''\n",
    "with patch('web.app.assistant.tools.openai_chat_request', return_value=[mock_response, token_usage]):\n",
    "    result = await tools.extract_inputs(tool, chat_history)\n",
    "    print(result)\n",
    "    assert result == ({\"key_words\": None, \"category\": \"technology\"}, ['key_words'])"
   ]
  },
  {
   "cell_type": "markdown",
   "metadata": {},
   "source": [
    "##### ask_for_inputs"
   ]
  },
  {
   "cell_type": "code",
   "execution_count": 52,
   "metadata": {},
   "outputs": [
    {
     "name": "stdout",
     "output_type": "stream",
     "text": [
      "____________________\n",
      "- Asking for inputs:\n",
      "Tool result:\n",
      " None \n",
      "Metadata:\n",
      " {'type': 'input_request', 'tool': 'news', 'found_inputs': {'category': 'technology'}, 'missing_inputs': ['key_words'], 'inputs_description': 'Key words - word or a phrase to search news for. Catogory - you can only select one of these categories: business, entertainment, general, health, science, sports, technology. (optional)'}\n",
      "____________________\n",
      "None\n",
      "{\n",
      "  \"type\": \"input_request\",\n",
      "  \"tool\": \"news\",\n",
      "  \"found_inputs\": {\n",
      "    \"category\": \"technology\"\n",
      "  },\n",
      "  \"missing_inputs\": [\n",
      "    \"key_words\"\n",
      "  ],\n",
      "  \"inputs_description\": \"Key words - word or a phrase to search news for. Catogory - you can only select one of these categories: business, entertainment, general, health, science, sports, technology. (optional)\"\n",
      "}\n"
     ]
    }
   ],
   "source": [
    "# Ask for input with optional input passed\n",
    "tools = Tools(gpt_model='')\n",
    "tool_name = 'news'\n",
    "missing_inputs = ['key_words']\n",
    "inputs = {'category': 'technology'}\n",
    "\n",
    "tool_result, metadata = tools.ask_for_inputs(tool_name, missing_inputs, inputs)\n",
    "print(tool_result)\n",
    "print(json.dumps(metadata, indent=2))\n"
   ]
  },
  {
   "cell_type": "code",
   "execution_count": 53,
   "metadata": {},
   "outputs": [
    {
     "name": "stdout",
     "output_type": "stream",
     "text": [
      "____________________\n",
      "- Asking for inputs:\n",
      "Tool result:\n",
      " None \n",
      "Metadata:\n",
      " {'type': 'input_request', 'tool': 'news', 'found_inputs': {'key_words': None, 'category': None}, 'missing_inputs': ['key_words'], 'inputs_description': 'Key words - word or a phrase to search news for. Catogory - you can only select one of these categories: business, entertainment, general, health, science, sports, technology. (optional)'}\n",
      "____________________\n",
      "None\n",
      "{\n",
      "  \"type\": \"input_request\",\n",
      "  \"tool\": \"news\",\n",
      "  \"found_inputs\": {\n",
      "    \"key_words\": null,\n",
      "    \"category\": null\n",
      "  },\n",
      "  \"missing_inputs\": [\n",
      "    \"key_words\"\n",
      "  ],\n",
      "  \"inputs_description\": \"Key words - word or a phrase to search news for. Catogory - you can only select one of these categories: business, entertainment, general, health, science, sports, technology. (optional)\"\n",
      "}\n"
     ]
    }
   ],
   "source": [
    "# Ask for input without any input\n",
    "tools = Tools(gpt_model='')\n",
    "tool_name = 'news'\n",
    "missing_inputs = ['key_words']\n",
    "inputs = None\n",
    "\n",
    "tool_result, metadata = tools.ask_for_inputs(tool_name, missing_inputs, inputs)\n",
    "print(tool_result)\n",
    "print(json.dumps(metadata, indent=2))"
   ]
  },
  {
   "cell_type": "markdown",
   "metadata": {},
   "source": [
    "##### run_tools"
   ]
  },
  {
   "cell_type": "code",
   "execution_count": 54,
   "metadata": {},
   "outputs": [],
   "source": [
    "import web.app.assistant.Tools.tools_functions"
   ]
  },
  {
   "cell_type": "code",
   "execution_count": 55,
   "metadata": {},
   "outputs": [
    {
     "name": "stdout",
     "output_type": "stream",
     "text": [
      "Here is tools list:\n",
      "Name: tools_info; Description: Tells about available tools; Inputs: []\n",
      "Name: weather; Description: tells current weather; Inputs: ['location']\n",
      "Name: news; Description: Searches for current top headlines, by key words and categories; Inputs: ['key_words', 'category']\n",
      "Name: calculator; Description: Calculates given expression; Inputs: ['expression']\n",
      "\n",
      "{\n",
      "  \"type\": \"tool_result\",\n",
      "  \"tool\": \"tools_info\"\n",
      "}\n"
     ]
    }
   ],
   "source": [
    "# Run tool that doesn't need input.\n",
    "tools = Tools(gpt_model='')\n",
    "tools_list = ['tools_info']\n",
    "inputs = None\n",
    "\n",
    "result, metadata = await tools.run_tools(tools_list, inputs)\n",
    "\n",
    "print(result)\n",
    "print(json.dumps(metadata, indent=2))\n",
    "assert result == tools_info()\n",
    "assert metadata ==  {\"type\": \"tool_result\", \"tool\": 'tools_info'}"
   ]
  },
  {
   "cell_type": "code",
   "execution_count": 56,
   "metadata": {},
   "outputs": [
    {
     "name": "stdout",
     "output_type": "stream",
     "text": [
      "____________________\n",
      "- Asking for inputs:\n",
      "Tool result:\n",
      " None \n",
      "Metadata:\n",
      " {'type': 'input_request', 'tool': 'weather', 'found_inputs': {'location': None}, 'missing_inputs': ['location'], 'inputs_description': 'Location - city, street or region to check weather'}\n",
      "____________________\n",
      "None\n",
      "{\n",
      "  \"type\": \"input_request\",\n",
      "  \"tool\": \"weather\",\n",
      "  \"found_inputs\": {\n",
      "    \"location\": null\n",
      "  },\n",
      "  \"missing_inputs\": [\n",
      "    \"location\"\n",
      "  ],\n",
      "  \"inputs_description\": \"Location - city, street or region to check weather\"\n",
      "}\n",
      "____________________\n",
      "- Asking for inputs:\n",
      "Tool result:\n",
      " None \n",
      "Metadata:\n",
      " {'type': 'input_request', 'tool': 'news', 'found_inputs': {'key_words': None, 'category': None}, 'missing_inputs': ['key_words', 'category'], 'inputs_description': 'Key words - word or a phrase to search news for. Catogory - you can only select one of these categories: business, entertainment, general, health, science, sports, technology. (optional)'}\n",
      "____________________\n",
      "None\n",
      "{\n",
      "  \"type\": \"input_request\",\n",
      "  \"tool\": \"news\",\n",
      "  \"found_inputs\": {\n",
      "    \"key_words\": null,\n",
      "    \"category\": null\n",
      "  },\n",
      "  \"missing_inputs\": [\n",
      "    \"key_words\",\n",
      "    \"category\"\n",
      "  ],\n",
      "  \"inputs_description\": \"Key words - word or a phrase to search news for. Catogory - you can only select one of these categories: business, entertainment, general, health, science, sports, technology. (optional)\"\n",
      "}\n"
     ]
    }
   ],
   "source": [
    "# Run tools that need input without inputs.\n",
    "tools = Tools(gpt_model='')\n",
    "tools_list = ['weather']\n",
    "inputs = None\n",
    "\n",
    "result, metadata = await tools.run_tools(tools_list, inputs)\n",
    "\n",
    "print(result)\n",
    "print(json.dumps(metadata, indent=2))\n",
    "assert result == None\n",
    "assert metadata ==  {'type': 'input_request',\n",
    "                     'tool': 'weather',\n",
    "                     'found_inputs': {'location': None},\n",
    "                     'missing_inputs': ['location'],\n",
    "                     'inputs_description': 'Location - city, street or region to check weather'}\n",
    "\n",
    "tools_list = ['news']\n",
    "inputs = None\n",
    "result, metadata = await tools.run_tools(tools_list, inputs)\n",
    "\n",
    "print(result)\n",
    "print(json.dumps(metadata, indent=2))\n",
    "assert result == None\n",
    "assert metadata == {\"type\": \"input_request\",\n",
    "                    \"tool\": \"news\",\n",
    "                    \"found_inputs\": {\"key_words\": None ,\"category\": None},\n",
    "                    \"missing_inputs\": [\"key_words\", \"category\"],\n",
    "                    \"inputs_description\": \"Key words - word or a phrase to search news for. Catogory - you can only select one of these categories: business, entertainment, general, health, science, sports, technology. (optional)\"}"
   ]
  },
  {
   "cell_type": "code",
   "execution_count": 57,
   "metadata": {},
   "outputs": [
    {
     "name": "stdout",
     "output_type": "stream",
     "text": [
      "Weather in: Riga\n",
      "Status: fog\n",
      "Temperature: 1.71°C\n",
      "Humidity: 98%\n",
      "Wind Speed: 1.54 m/s\n",
      "{\n",
      "  \"type\": \"tool_result\",\n",
      "  \"tool\": \"weather\",\n",
      "  \"found_inputs\": {\n",
      "    \"location\": \"Riga\"\n",
      "  }\n",
      "}\n",
      "Tell user about these found articles. Mention source and link to an article.[{'source': {'id': None, 'name': 'Yahoo Entertainment'}, 'author': 'Frank Schwab', 'title': 'Tom Brady officially a part owner of the Raiders after NFL owners approve it - Yahoo Sports', 'description': 'The former Patriots and Buccaneers QB is now part of NFL ownership.', 'url': 'https://sports.yahoo.com/tom-brady-officially-a-part-owner-of-the-raiders-after-nfl-owners-approve-it-201813931.html', 'urlToImage': 'https://s.yimg.com/ny/api/res/1.2/trvAomImzZTwGEGXJxdRkg--/YXBwaWQ9aGlnaGxhbmRlcjt3PTEyMDA7aD04MDA-/https://s.yimg.com/os/creatr-uploaded-images/2024-10/1d64fc80-8747-11ef-9ff8-dad51ec19a62', 'publishedAt': '2024-10-15T22:19:30Z', 'content': 'Fox Sports commentator and former NFL quarterback Tom Brady is officially a part owner of the Las Vegas Raiders. (Photo by Kevin Sabitus/Getty Images)\\r\\nTom Brady has been on the minds of Las Vegas Ra… [+1989 chars]'}, {'source': {'id': 'the-washington-post', 'name': 'The Washington Post'}, 'author': 'Jacob Bogage', 'title': 'SBA fund is out of money after Hurricanes Helene and Milton, Biden says - The Washington Post', 'description': 'Hurricanes Helene and Milton struck the southeast recently, straining the fund’s ability to issue low-interest loans.', 'url': 'https://www.washingtonpost.com/business/2024/10/15/sba-disaster-fund-is-out-money-biden-says/', 'urlToImage': 'https://www.washingtonpost.com/wp-apps/imrs.php?src=https://arc-anglerfish-washpost-prod-washpost.s3.amazonaws.com/public/FR2EHRJN75ACLOC5SENZYPPIZE.JPG&w=1440', 'publishedAt': '2024-10-15T22:16:53Z', 'content': 'The Small Business Administrations disaster loan program, which provides low-interest lending to disaster survivors, has run out of money, President Joe Biden said Tuesday, slowing recovery operation… [+4403 chars]'}, {'source': {'id': None, 'name': 'BBC News'}, 'author': None, 'title': 'US gives Israel 30 days to boost Gaza aid or risk cuts to military support - BBC.com', 'description': 'The letter, sent on Sunday, amounts to the strongest known written warning from the US to its ally.', 'url': 'https://www.bbc.com/news/articles/c9wk0e8zey2o', 'urlToImage': 'https://ichef.bbci.co.uk/news/1024/branded_news/6330/live/237761b0-8b22-11ef-8936-1185f9e7d044.jpg', 'publishedAt': '2024-10-15T21:00:00Z', 'content': 'The US says the 1.7 million Palestinians crowded into the al-Mawasi area are at high risk of lethal contagion\\r\\nThe US has written to Israel, giving it 30 days to boost humanitarian aid access in Gaza… [+7835 chars]'}, {'source': {'id': 'the-washington-post', 'name': 'The Washington Post'}, 'author': 'Cindy Boren', 'title': 'Jerry Jones lashes out at radio hosts after Cowboys loss - The Washington Post', 'description': '“This is not your job,” Cowboys owner Jerry Jones said on Dallas’s 105.3 The Fan, on Tuesday. “I’ll get somebody else to ask these questions, man.”', 'url': 'https://www.washingtonpost.com/sports/2024/10/15/jerry-jones-radio-interview-dallas-cowboys-loss/', 'urlToImage': 'https://www.washingtonpost.com/wp-apps/imrs.php?src=https://arc-anglerfish-washpost-prod-washpost.s3.amazonaws.com/public/XJR67M4XBWPKGUDM6JOUKDBSWE_size-normalized.jpg&w=1440', 'publishedAt': '2024-10-15T20:26:44Z', 'content': 'Dallas Cowboys owner Jerry Jones lashed out at the hosts of a Dallas radio show Tuesday morning, threatening to have them replaced as he remained in a combative mood following his teams worst home lo… [+2955 chars]'}, {'source': {'id': None, 'name': 'CBS Sports'}, 'author': '', 'title': 'Davante Adams traded to Jets: Raiders WR reunites with Aaron Rodgers as New York aims to turn season around - CBS Sports', 'description': \"Adams' time in Las Vegas has come to a close\", 'url': 'https://www.cbssports.com/nfl/news/davante-adams-traded-to-jets-raiders-wr-reunites-with-aaron-rodgers-as-new-york-aims-to-turn-season-around/', 'urlToImage': 'https://sportshub.cbsistatic.com/i/r/2024/09/02/c1346241-f9c2-4320-8661-45f1cfb693de/thumbnail/1200x675/54687889043f7b6e34927604c70c20f1/getty-davante-adams-raiders.jpg', 'publishedAt': '2024-10-15T19:59:00Z', 'content': 'Davante Adams is off to the Big Apple. The Las Vegas Raiders\\xa0traded the star wide receiver to the New York Jets, who confirmed the trade Tuesday. This comes after the relationship between Las Vegas a… [+3757 chars]'}, {'source': {'id': 'abc-news', 'name': 'ABC News'}, 'author': 'The Associated Press', 'title': 'US fines Lufthansa $4 million for treatment of Orthodox Jewish passengers on a 2022 flight - ABC News', 'description': 'The United States has fined German airline Lufthansa $4 million for its treatment of a group of Jewish passengers who were denied boarding a 2022 flight in Frankfurt after they had flown to Germany from New York', 'url': 'https://abcnews.go.com/US/wireStory/us-fines-lufthansa-4-million-treatment-orthodox-jewish-114824934', 'urlToImage': 'https://i.abcnewsfe.com/a/6394f360-b025-4220-b842-ed39c14e3653/wirestory_6d13284b135dcc4a98555717e2dfd6ea_16x9.jpg?w=1600', 'publishedAt': '2024-10-15T18:42:23Z', 'content': 'WASHINGTON -- The United States fined German airline Lufthansa $4 million for its treatment of a group of Jewish passengers who were denied boarding a 2022 flight in Frankfurt after they had flown to… [+1692 chars]'}, {'source': {'id': 'espn', 'name': 'ESPN'}, 'author': None, 'title': 'George has bone bruise in left knee, 76ers say - ESPN', 'description': 'Paul George is scheduled for more tests Tuesday, but 76ers coach Nick Nurse said so far, his hyperextended left knee \"checks out OK.\"', 'url': 'https://www.espn.com/nba/story/_/id/41813440/76ers-paul-george-knee-checks-ok-barring-more-tests', 'urlToImage': 'https://a4.espncdn.com/combiner/i?img=%2Fphoto%2F2024%2F1015%2Fr1400677_1024x576_16%2D9.jpg', 'publishedAt': '2024-10-15T18:23:00Z', 'content': 'Oct 15, 2024, 02:23 PM ET\\r\\nPHILADELPHIA -- 76ers forward Paul George has a bone bruise in his left knee but did not suffer any structural damage and will be reevaluated in approximately one week, the… [+1553 chars]'}, {'source': {'id': 'cnn', 'name': 'CNN'}, 'author': 'Daniel Lewis', 'title': \"'That is just simple mathematics': Journalist presses Trump on his tariff plan - CNN\", 'description': 'Bloomberg News editor-in-chief John Micklethwait presses President Trump on his tariff plan. Economists have raised concerns that Trump’s plan to implement across the board tariffs on imported goods could raise prices.', 'url': 'https://www.cnn.com/2024/10/15/politics/video/trump-interview-tariffs-bloomberg-chicago-digvid', 'urlToImage': 'https://media.cnn.com/api/v1/images/stellar/prod/still-21043819-6395-021-still.jpg?c=16x9&q=w_800,c_fill', 'publishedAt': '2024-10-15T17:52:52Z', 'content': \"Bloomberg News editor-in-chief John Micklethwait presses President Trump on his tariff plan. Economists have raised concerns that Trump's plan to implement across the board tariffs on imported goods … [+18 chars]\"}, {'source': {'id': 'usa-today', 'name': 'USA Today'}, 'author': 'David Jackson', 'title': \"'Hope he's OK': Kamala Harris mocks Donald Trump's odd behavior at town hall - USA TODAY\", 'description': 'Democrats used the odd ending of a Donald Trump town hall to raise questions about his mental state ahead of the 2024 presidential election.', 'url': 'https://www.usatoday.com/story/news/politics/elections/2024/10/15/kamala-harris-mocks-donald-trumps-town-hall-behavior/75682746007/', 'urlToImage': 'https://www.usatoday.com/gcdn/authoring/authoring-images/2024/10/15/USAT/75683475007-20241015-t-001255-z-28738682-rc-2-okaadkydf-rtrmadp-3-usaelectiontrump.JPG?crop=3172,1784,x0,y165&width=3172&height=1784&format=pjpg&auto=webp', 'publishedAt': '2024-10-15T17:39:30Z', 'content': 'WASHINGTON - Video of Donald Trump bopping on stage to the beat of his musical playlist - from Luciano Pavarotti to the Village People, for nearly 40 minutes after a truncated town hall in a battlegr… [+4902 chars]'}, {'source': {'id': 'cbs-news', 'name': 'CBS News'}, 'author': None, 'title': 'Spain arrests 4 accused of shipping possible precursors for chemical weapons to Russia, breaching sanctions - CBS News', 'description': 'Spanish police say four men were arrested for setting up a company to ship chemicals to Russia, including \"possible precursors for chemical weapons.\"', 'url': 'https://www.cbsnews.com/news/spain-russia-possible-chemical-weapons-sanctions-ukraine-war/', 'urlToImage': 'https://assets2.cbsnewsstatic.com/hub/i/r/2024/10/15/20304485-ce5c-4e8e-949a-ac6852acfd2e/thumbnail/1200x630/f48811bafe7d673f4c7b5e704b6f0a29/spain-chemicals-russia.jpg?v=29b5ccc4d237d9b284ce95a42effd073', 'publishedAt': '2024-10-15T16:08:29Z', 'content': 'Madrid\\xa0— Spanish authorities on Tuesday said they had arrested four people suspected of orchestrating a sanctions-busting commercial network after intercepting more than 14 tons of chemical products … [+2080 chars]'}, {'source': {'id': 'fox-news', 'name': 'Fox News'}, 'author': None, 'title': \"Bret Baier reveals how Kamala Harris interview came together: 'It took a long time' - Fox News\", 'description': \"'Special Report' anchor Bret Baier joined 'America's Newsroom' to discuss his interview with Democratic nominee Kamala Harris and the current state of the 2024 race as battleground polls indicate the pair are neck-and-neck.\", 'url': 'https://www.foxnews.com/video/6363285810112', 'urlToImage': 'https://a57.foxnews.com/cf-images.us-east-1.prod.boltdns.net/v1/static/694940094001/990bbe47-5dd3-4c10-87c4-de6899de5c0c/f835ce4e-1cac-4ea0-8e30-af5a8e716810/1280x720/match/1024/512/image.jpg?ve=1&tl=1', 'publishedAt': '2024-10-15T14:47:15Z', 'content': '©2024 FOX News Network, LLC. All rights reserved. This material may not be published, broadcast, rewritten, or redistributed. All market data delayed 20 minutes.'}, {'source': {'id': 'cbs-news', 'name': 'CBS News'}, 'author': 'Ramy Inocencio, Tucker Reals', 'title': 'U.S. raises concern with Israel as Gaza hospital strike appears to leave \"displaced civilians burning alive\" - CBS News', 'description': 'The White House says Israel must do more to protect innocent Gazans as images show \"what appear to be displaced civilians burning alive.\"', 'url': 'https://www.cbsnews.com/news/israel-iran-gaza-hamas-war-lebanon-hezbollah-al-aqsa-hospital-airstrike/', 'urlToImage': 'https://assets1.cbsnewsstatic.com/hub/i/r/2024/10/15/2e4e7369-cb68-45b0-b703-a1c7dbfed923/thumbnail/1200x630/9d4032da0450671e782fc44b29303a57/al-aqsa-hospital-deir-al-balah-strike.jpg?v=29b5ccc4d237d9b284ce95a42effd073', 'publishedAt': '2024-10-15T13:51:42Z', 'content': \"At least 15 Palestinians were killed in overnight Israeli airstrikes in the Gaza Strip, the enclave's Hamas-run health ministry said, as the Israeli military continued its fight against the Iranian-b… [+7031 chars]\"}, {'source': {'id': None, 'name': \"Investor's Business Daily\"}, 'author': \"Investor's Business Daily\", 'title': \"Goldman Sachs, Bank Of America Extend Breakouts On Earnings; Citigroup Eyes Buy Point - Investor's Business Daily\", 'description': 'Citigroup is near a buy point as strong Q3 results for banks continue.', 'url': 'https://www.investors.com/news/goldman-sachs-earnings-gs-stock-bank-of-america-bac-citi/', 'urlToImage': 'https://www.investors.com/wp-content/uploads/2019/01/stock-Goldman-Sachs-06-shutter.jpg', 'publishedAt': '2024-10-15T12:44:00Z', 'content': 'Goldman Sachs, Bank of America and Citigroup all beat earnings views early Tuesday, continuing the strong results for major banks in the quarter. Goldman stock and BofA are trading in buy zones after… [+2933 chars]'}]\n",
      "{\n",
      "  \"type\": \"tool_result\",\n",
      "  \"tool\": \"news\",\n",
      "  \"found_inputs\": {\n",
      "    \"key_words\": \"AI\"\n",
      "  }\n",
      "}\n"
     ]
    }
   ],
   "source": [
    "# Run tools that need input with correct inputs.\n",
    "tools = Tools(gpt_model='')\n",
    "tools_list = ['weather']\n",
    "inputs = {\"location\": 'Riga'}\n",
    "\n",
    "result, metadata = await tools.run_tools(tools_list, inputs)\n",
    "\n",
    "print(result)\n",
    "print(json.dumps(metadata, indent=2))\n",
    "assert result == weather(inputs['location'])\n",
    "assert metadata ==  {\n",
    "  \"type\": \"tool_result\",\n",
    "  \"tool\": \"weather\",\n",
    "  \"found_inputs\": {\n",
    "    \"location\": \"Riga\"\n",
    "  }\n",
    "}\n",
    "\n",
    "tools_list = ['news']\n",
    "inputs = {'key_words': 'AI'}\n",
    "result, metadata = await tools.run_tools(tools_list, inputs)\n",
    "\n",
    "print(result)\n",
    "print(json.dumps(metadata, indent=2))\n",
    "assert result == news(inputs[\"key_words\"])\n",
    "assert metadata == {\n",
    "  \"type\": \"tool_result\",\n",
    "  \"tool\": \"news\",\n",
    "  \"found_inputs\": {\n",
    "    \"key_words\": \"AI\"\n",
    "  }\n",
    "}"
   ]
  },
  {
   "cell_type": "code",
   "execution_count": 58,
   "metadata": {},
   "outputs": [
    {
     "name": "stdout",
     "output_type": "stream",
     "text": [
      "Recived exception running tool:\n",
      " Test Exception \n",
      " Inputs:\n",
      " {'exeption': True}\n",
      "Test tool exeption description\n",
      "{\n",
      "  \"type\": \"input_request\",\n",
      "  \"tool\": \"test_tool\",\n",
      "  \"found_inputs\": {\n",
      "    \"exeption\": true\n",
      "  },\n",
      "  \"missing_inputs\": []\n",
      "}\n"
     ]
    }
   ],
   "source": [
    "# Test tool that throws exeption\n",
    "tools = Tools(gpt_model='', tools_path='web/app/assistant/Tools/test_tool.txt')\n",
    "tools_list = ['test_tool']\n",
    "inputs = {'exeption': True}\n",
    "\n",
    "mock_response, token_usage = 'Test tool exeption description', ''\n",
    "\n",
    "with patch('web.app.assistant.tools.openai_chat_request', return_value=[mock_response, token_usage]):\n",
    "    result, metadata = await tools.run_tools(tools_list, inputs)\n",
    "\n",
    "print(result)\n",
    "print(json.dumps(metadata, indent=2))\n",
    "\n",
    "assert result == mock_response\n",
    "assert metadata ==  {\n",
    "    \"type\": \"input_request\",\n",
    "    \"tool\": \"test_tool\",\n",
    "    \"found_inputs\": {\"exeption\": True},\n",
    "    \"missing_inputs\": []\n",
    "}"
   ]
  },
  {
   "cell_type": "code",
   "execution_count": 59,
   "metadata": {},
   "outputs": [
    {
     "name": "stdout",
     "output_type": "stream",
     "text": [
      "n\n"
     ]
    }
   ],
   "source": [
    "a = 's'\n",
    "if a:\n",
    "    print('n')"
   ]
  },
  {
   "cell_type": "markdown",
   "metadata": {},
   "source": [
    "##### handle_tools"
   ]
  },
  {
   "cell_type": "code",
   "execution_count": 74,
   "metadata": {},
   "outputs": [
    {
     "name": "stdout",
     "output_type": "stream",
     "text": [
      "No tools detected!\n",
      "(None, None)\n"
     ]
    }
   ],
   "source": [
    "# Tool extractor did not find any tools\n",
    "tools = Tools(gpt_model='')\n",
    "user_message = ''\n",
    "chat_history = ['hi', 'hello']\n",
    "extract_inputs = False\n",
    "messages_for_input_extraction = 3\n",
    "token_usage = ''\n",
    "mock_response = None\n",
    "with patch('web.app.assistant.tools.Tools.extract_tools', return_value=mock_response):\n",
    "    result = await tools.handle_tools(extract_inputs, user_message, chat_history, messages_for_input_extraction)\n",
    "    print(result)\n",
    "    assert result == (None, None)"
   ]
  },
  {
   "cell_type": "code",
   "execution_count": 79,
   "metadata": {},
   "outputs": [
    {
     "name": "stdout",
     "output_type": "stream",
     "text": [
      "____________________\n",
      "- Asking for inputs:\n",
      "Tool result:\n",
      " None \n",
      "Metadata:\n",
      " {'type': 'input_request', 'tool': 'news', 'found_inputs': {'key_words': None, 'category': None}, 'missing_inputs': ['key_words'], 'inputs_description': 'Key words - word or a phrase to search news for. Catogory - you can only select one of these categories: business, entertainment, general, health, science, sports, technology. (optional)'}\n",
      "____________________\n",
      "(None, {'type': 'input_request', 'tool': 'news', 'found_inputs': {'key_words': None, 'category': None}, 'missing_inputs': ['key_words'], 'inputs_description': 'Key words - word or a phrase to search news for. Catogory - you can only select one of these categories: business, entertainment, general, health, science, sports, technology. (optional)'})\n"
     ]
    }
   ],
   "source": [
    "# Tool extractor did not find any tools\n",
    "tools = Tools(gpt_model='')\n",
    "user_message = ''\n",
    "chat_history = ['hi', 'hello']\n",
    "extract_inputs = False\n",
    "messages_for_input_extraction = 3\n",
    "token_usage = ''\n",
    "mock_response = ['news']\n",
    "with patch('web.app.assistant.tools.Tools.extract_tools', return_value=mock_response):\n",
    "    result = await tools.handle_tools(extract_inputs, user_message, chat_history, messages_for_input_extraction)\n",
    "    print(result)\n",
    "    assert result == (None, {\n",
    "        'type': 'input_request',\n",
    "        'tool': 'news',\n",
    "        'found_inputs': {\n",
    "            'key_words': None,                      \n",
    "            'category': None\n",
    "            },\n",
    "        'missing_inputs': ['key_words'],\n",
    "        'inputs_description': 'Key words - word or a phrase to search news for. Catogory - you can only select one of these categories: business, entertainment, general, health, science, sports, technology. (optional)'\n",
    "    })"
   ]
  },
  {
   "cell_type": "code",
   "execution_count": null,
   "metadata": {},
   "outputs": [],
   "source": [
    "# Tool extractor found tool but no input extraction\n",
    "tools = Tools(gpt_model='')\n",
    "user_message = ''\n",
    "chat_history = ['hi', 'hello']\n",
    "extract_inputs = False\n",
    "messages_for_input_extraction = 3\n",
    "token_usage = ''\n",
    "mock_response = None\n",
    "with patch('web.app.assistant.tools.Tools.extract_tools', return_value=mock_response):\n",
    "    result = await tools.handle_tools(extract_inputs, user_message, chat_history, messages_for_input_extraction)\n",
    "    print(result)\n",
    "    assert result == (None, None)"
   ]
  },
  {
   "cell_type": "markdown",
   "metadata": {},
   "source": [
    "### Recommender"
   ]
  },
  {
   "cell_type": "code",
   "execution_count": 11,
   "metadata": {},
   "outputs": [],
   "source": [
    "from web.app.assistant.recommender import *\n"
   ]
  },
  {
   "cell_type": "code",
   "execution_count": 14,
   "metadata": {},
   "outputs": [],
   "source": [
    "RECOMMENDER_DEBUG = True"
   ]
  },
  {
   "cell_type": "code",
   "execution_count": 15,
   "metadata": {},
   "outputs": [],
   "source": [
    "rec_tree = RecommerdationTree(3)\n",
    "\n",
    "\n",
    "rec_tree.build_tree([Data([1,2,3], 1)])"
   ]
  },
  {
   "cell_type": "code",
   "execution_count": 16,
   "metadata": {},
   "outputs": [
    {
     "data": {
      "text/plain": [
       "True"
      ]
     },
     "execution_count": 16,
     "metadata": {},
     "output_type": "execute_result"
    }
   ],
   "source": [
    "RECOMMENDER_DEBUG"
   ]
  },
  {
   "cell_type": "markdown",
   "metadata": {},
   "source": [
    "### Responder"
   ]
  },
  {
   "cell_type": "code",
   "execution_count": 4,
   "metadata": {},
   "outputs": [],
   "source": [
    "from web.app.assistant.responder import *"
   ]
  },
  {
   "cell_type": "code",
   "execution_count": 31,
   "metadata": {},
   "outputs": [],
   "source": [
    "settings = AssistantSettings(\n",
    "    responder_gpt_model='gpt-4o-mini',\n",
    "    profiler_gpt_model='gpt-4o-mini',\n",
    "    messages_for_profile_update=1,\n",
    "    messages_till_profile_update=2,\n",
    "    messages_for_input_extraction=3,\n",
    "    messages_for_journal_update=1,\n",
    "    messages_till_journal_update=2,\n",
    "    responder_personality='')\n",
    "responder = Responder(\n",
    "    user_profile='[]',\n",
    "    chat_history=['Assistant: How can I help?'],\n",
    "    assistant_settings=settings,\n",
    "    message_count=1,\n",
    "    emotional_journal=EmotionalJournal(\n",
    "        journal='{}', updates_count=0, gpt_model='gpt-4o-mini'))"
   ]
  },
  {
   "cell_type": "code",
   "execution_count": 32,
   "metadata": {},
   "outputs": [
    {
     "name": "stdout",
     "output_type": "stream",
     "text": [
      "____________________\n",
      "- Tool extraction:\n",
      " NEVER RESPOND USER DIRECTLY!\n",
      "Previous message: Assistant: How can I help?\n",
      "User message: Hi \n",
      " Your task is to identify if the user intends to use a tool from the provided list below.\n",
      "- YOU RESPOND WITH A TOOL ONLY IF YOU ARE 100% SURE USER WNATS TO USE IT.\n",
      "- If there are no relevant tools to use, your response MUST BE EMPTY.\n",
      "- Your response is always only a string of tools delimited by a comma. Follow this format:\n",
      "\"tool_name, tool_name, ...\"\n",
      "- NEVER RESPOND DIRECTLY TO THE USER!\n",
      "- You can only choose tools from this list:\n",
      "Name: tools_info; Description: Tells about available tools\n",
      "Name: weather; Description: tells current weather\n",
      "Name: news; Description: Searches for current top headlines, by key words and categories\n",
      "Name: calculator; Description: Calculates given expression\n",
      " \n",
      " \n",
      "____________________\n",
      "GPT tied to extract tools but found no tools to use\n",
      "No tools detected!\n",
      "- _Responder_ Sysytem prompt:\n",
      "You are a helpful wellbeing assistant.\n",
      "You care about user and trying to make users mental and physical health better.\n",
      "You have a chat history as a context, focus on answering to LAST USER MESSAGE.\n",
      "You have a user profile to better understand user:|\n",
      "|\n",
      "Here is your personality, please respond accordingly to it:|\n",
      "|\n",
      "- Prompt:\n",
      "Previous conversation|\n",
      "Assistant: How can I help?\n",
      "LAST USER MESSAGE:Hi|\n",
      "Your responce:\n",
      "____________________________________________________________________________________________________\n",
      "- !!! Final results:\n",
      "Response:Hello! It's great to hear from you. How can I assist you today?\n",
      "Metadata:None\n",
      "Profile:None\n",
      "Journal:None\n",
      "____________________________________________________________________________________________________\n"
     ]
    }
   ],
   "source": [
    "response, meta, profile, tokens = await responder.handle_user_message(\n",
    "    user_message='Hi',\n",
    "    use_tools=True,\n",
    "    extract_inputs=True)\n"
   ]
  },
  {
   "cell_type": "markdown",
   "metadata": {},
   "source": [
    "# Tests"
   ]
  },
  {
   "cell_type": "code",
   "execution_count": 60,
   "metadata": {},
   "outputs": [
    {
     "name": "stdout",
     "output_type": "stream",
     "text": [
      "Tools\n",
      "508\n"
     ]
    }
   ],
   "source": [
    "tokens_used = {'Tools': {'prompt_tokens': 508, 'completion_tokens': 18, 'total_tokens': 526},\n",
    "'Profiler': {\n",
    "  \"prompt_tokens\": 440,\n",
    "  \"completion_tokens\": 16,\n",
    "  \"total_tokens\": 456,\n",
    "  \"prompt_tokens_details\": {\n",
    "    \"cached_tokens\": 0\n",
    "  },\n",
    "  \"completion_tokens_details\": {\n",
    "    \"reasoning_tokens\": 0\n",
    "  }\n",
    "}, 'Journal': {\n",
    "  \"prompt_tokens\": 139,\n",
    "  \"completion_tokens\": 25,\n",
    "  \"total_tokens\": 164,\n",
    "  \"prompt_tokens_details\": {\n",
    "    \"cached_tokens\": 0\n",
    "  },\n",
    "  \"completion_tokens_details\": {\n",
    "    \"reasoning_tokens\": 0\n",
    "  }\n",
    "}, 'Responder': {}}\n",
    "for module in tokens_used:\n",
    "    if len(tokens_used[module]) != 0:\n",
    "        if tokens_used[module]['total_tokens'] != 0:\n",
    "            if module == 'Tools':\n",
    "                print(module)\n",
    "                print(tokens_used[module]['prompt_tokens'])"
   ]
  }
 ],
 "metadata": {
  "kernelspec": {
   "display_name": ".venv",
   "language": "python",
   "name": "python3"
  },
  "language_info": {
   "codemirror_mode": {
    "name": "ipython",
    "version": 3
   },
   "file_extension": ".py",
   "mimetype": "text/x-python",
   "name": "python",
   "nbconvert_exporter": "python",
   "pygments_lexer": "ipython3",
   "version": "3.11.4"
  }
 },
 "nbformat": 4,
 "nbformat_minor": 2
}
